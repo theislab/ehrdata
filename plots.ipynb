{
 "cells": [
  {
   "cell_type": "code",
   "execution_count": 11,
   "id": "52881548",
   "metadata": {},
   "outputs": [],
   "source": [
    "import numpy as np\n",
    "import pandas as pd\n",
    "import plotly.graph_objects as go\n",
    "import plotly.subplots\n",
    "\n",
    "\n",
    "def plot_ehrdata_sankey(\n",
    "    ehrdata,\n",
    "    *,\n",
    "    max_obs: int = 20,\n",
    "    max_vars: int = 20,\n",
    "    max_timepoints: int = 20,\n",
    "    obs_indices: list[int] | None = None,\n",
    "    var_indices: list[int] | None = None,\n",
    "    time_indices: list[int] | None = None,\n",
    "    colorscale: str = \"Viridis\",\n",
    "    normalize: bool = True,\n",
    "    link_mode: str = \"abs\",\n",
    "    title: str = \"EHRData Sankey Diagram\",\n",
    ") -> go.Figure:\n",
    "    \"\"\"Create a Sankey diagram visualization of EHRData's 3D tensor (R) and time (t).\n",
    "\n",
    "    Args:\n",
    "        ehrdata: The EHRData object containing R and t data\n",
    "        max_obs: Maximum number of observations to include\n",
    "        max_vars: Maximum number of variables to include\n",
    "        max_timepoints: Maximum number of timepoints to include\n",
    "        obs_indices: Specific observation indices to include\n",
    "        var_indices: Specific variable indices to include\n",
    "        time_indices: Specific time indices to include\n",
    "        colorscale: Plotly colorscale for links\n",
    "        normalize: Whether to normalize link values to improve visualization\n",
    "        link_mode: How to treat values: 'abs' uses absolute values, 'signed' preserves sign\n",
    "        title: Title for the figure\n",
    "\n",
    "    Returns:\n",
    "        Plotly figure containing the Sankey diagram\n",
    "    \"\"\"\n",
    "    if ehrdata.R is None:\n",
    "        msg = \"EHRData object does not contain R data for visualization\"\n",
    "        raise ValueError(msg)\n",
    "\n",
    "    # Extract dimensions and data\n",
    "    n_obs = ehrdata.n_obs\n",
    "    n_vars = ehrdata.n_vars\n",
    "    n_t = ehrdata.n_t\n",
    "\n",
    "    # Handle indices selection or defaults with limits\n",
    "    if obs_indices is None:\n",
    "        obs_indices = list(range(min(max_obs, n_obs)))\n",
    "    if var_indices is None:\n",
    "        var_indices = list(range(min(max_vars, n_vars)))\n",
    "    if time_indices is None:\n",
    "        # If too many timepoints, sample evenly\n",
    "        if n_t > max_timepoints:\n",
    "            time_indices = list(np.linspace(0, n_t - 1, max_timepoints, dtype=int))\n",
    "        else:\n",
    "            time_indices = list(range(n_t))\n",
    "\n",
    "    # Get subset of data\n",
    "    R_subset = ehrdata.R[obs_indices][:, var_indices][:, :, time_indices]\n",
    "\n",
    "    # Create node labels\n",
    "    obs_labels = [f\"Obs {i}\" for i in obs_indices]\n",
    "\n",
    "    # Use variable names from ehrdata if available\n",
    "    if hasattr(ehrdata, \"var\") and hasattr(ehrdata.var, \"index\"):\n",
    "        var_labels = [str(ehrdata.var.index[i]) for i in var_indices]\n",
    "    else:\n",
    "        var_labels = [f\"Var {i}\" for i in var_indices]\n",
    "\n",
    "    # Use time values from ehrdata if available\n",
    "    if hasattr(ehrdata, \"t\") and hasattr(ehrdata.t, \"time_value\") and \"time_value\" in ehrdata.t:\n",
    "        time_labels = [f\"T {ehrdata.t.time_value.iloc[i]:.2f}\" for i in time_indices]\n",
    "    elif hasattr(ehrdata, \"t\") and hasattr(ehrdata.t, \"index\"):\n",
    "        time_labels = [str(ehrdata.t.index[i]) for i in time_indices]\n",
    "    else:\n",
    "        time_labels = [f\"T {i}\" for i in time_indices]\n",
    "\n",
    "    all_labels = obs_labels + var_labels + time_labels\n",
    "\n",
    "    # Create node colors for Sankey - consistent colors for each variable node\n",
    "    node_obs_colors = [\"rgba(31, 119, 180, 0.8)\"] * len(obs_labels)  # Blue for observations\n",
    "\n",
    "    # Generate distinct colors for variables (will be used consistently)\n",
    "    node_var_colors = [f\"rgba({(i * 50) % 255}, {(i * 120) % 255}, {(i * 180) % 255}, 0.8)\" for i in var_indices]\n",
    "\n",
    "    node_time_colors = [\"rgba(44, 160, 44, 0.8)\"] * len(time_labels)  # Green for timepoints\n",
    "\n",
    "    # Combine all colors\n",
    "    node_colors = node_obs_colors + node_var_colors + node_time_colors\n",
    "\n",
    "    # Create source, target, and value arrays for Sankey\n",
    "    sources = []\n",
    "    targets = []\n",
    "    values = []\n",
    "    link_colors = []  # Colors for links based on variables\n",
    "\n",
    "    # Offset indices for the different node types\n",
    "    var_offset = len(obs_labels)\n",
    "    time_offset = var_offset + len(var_labels)\n",
    "\n",
    "    # Create links from observations to variables\n",
    "    R_sum = np.nansum(R_subset, axis=2)  # Sum over time dimension\n",
    "\n",
    "    for i, obs_idx in enumerate(range(len(obs_indices))):\n",
    "        for j, var_idx in enumerate(range(len(var_indices))):\n",
    "            if not np.isnan(R_sum[obs_idx, var_idx]) and R_sum[obs_idx, var_idx] != 0:\n",
    "                sources.append(i)\n",
    "                targets.append(var_offset + j)\n",
    "                if link_mode == \"abs\":\n",
    "                    values.append(abs(R_sum[obs_idx, var_idx]))\n",
    "                else:\n",
    "                    values.append(R_sum[obs_idx, var_idx])\n",
    "                link_colors.append(node_var_colors[j])\n",
    "\n",
    "    # Create links from variables to timepoints\n",
    "    R_sum_var = np.nansum(R_subset, axis=0)  # Sum over observation dimension\n",
    "\n",
    "    for j, var_idx in enumerate(range(len(var_indices))):\n",
    "        for k, time_idx in enumerate(range(len(time_indices))):\n",
    "            if not np.isnan(R_sum_var[j, time_idx]) and R_sum_var[j, time_idx] != 0:\n",
    "                sources.append(var_offset + j)\n",
    "                targets.append(time_offset + k)\n",
    "                if link_mode == \"abs\":\n",
    "                    values.append(abs(R_sum_var[j, time_idx]))\n",
    "                else:\n",
    "                    values.append(R_sum_var[j, time_idx])\n",
    "                link_colors.append(node_var_colors[j])\n",
    "\n",
    "    # Normalize values if requested\n",
    "    if normalize and values:\n",
    "        max_val = max(abs(v) for v in values)\n",
    "        values = [v / max_val for v in values]\n",
    "\n",
    "    # Create Sankey diagram\n",
    "    fig = go.Figure(\n",
    "        data=[\n",
    "            go.Sankey(\n",
    "                node={\n",
    "                    \"pad\": 15,\n",
    "                    \"thickness\": 20,\n",
    "                    \"line\": {\"color\": \"black\", \"width\": 0.5},\n",
    "                    \"label\": all_labels,\n",
    "                    \"color\": node_colors,\n",
    "                },\n",
    "                link={\n",
    "                    \"source\": sources,\n",
    "                    \"target\": targets,\n",
    "                    \"value\": values,\n",
    "                    \"color\": link_colors,  # Use variable-specific colors for links\n",
    "                },\n",
    "            )\n",
    "        ]\n",
    "    )\n",
    "\n",
    "    # Update layout\n",
    "    fig.update_layout(\n",
    "        title_text=title,\n",
    "        font_size=10,\n",
    "        autosize=True,\n",
    "        height=600,\n",
    "        margin={\"l\": 50, \"r\": 50, \"b\": 100, \"t\": 100, \"pad\": 4},\n",
    "    )\n",
    "\n",
    "    return fig\n",
    "\n",
    "\n",
    "def plot_ehrdata_3d(\n",
    "    ehrdata,\n",
    "    *,\n",
    "    obs_indices: list[int] | None = None,\n",
    "    var_indices: list[int] | None = None,\n",
    "    plot_type: str = \"time_series\",\n",
    ") -> go.Figure:\n",
    "    \"\"\"Create a comprehensive 3D visualization of EHRData.\n",
    "\n",
    "    Args:\n",
    "        ehrdata: The EHRData object to visualize\n",
    "        obs_indices: List of observation indices to include\n",
    "        var_indices: List of variable indices to include\n",
    "        plot_type: Type of visualization to create\n",
    "\n",
    "    Returns:\n",
    "        Plotly figure containing the visualization\n",
    "    \"\"\"\n",
    "    if ehrdata.R is None:\n",
    "        msg = \"EHRData object does not contain R data for visualization\"\n",
    "        raise ValueError(msg)\n",
    "\n",
    "    # Default to first 5 observations/variables if not specified\n",
    "    if obs_indices is None:\n",
    "        obs_indices = list(range(min(5, ehrdata.n_obs)))\n",
    "    if var_indices is None:\n",
    "        var_indices = list(range(min(5, ehrdata.n_vars)))\n",
    "\n",
    "    # Get time points\n",
    "    if hasattr(ehrdata.t, \"time_value\") and \"time_value\" in ehrdata.t:\n",
    "        time_values = ehrdata.t.time_value.values\n",
    "    else:\n",
    "        time_values = np.arange(ehrdata.n_t)\n",
    "\n",
    "    if plot_type == \"time_series\":\n",
    "        # Create subplot grid - one row per observation, one column per variable\n",
    "        n_selected_obs = len(obs_indices)\n",
    "        n_selected_vars = len(var_indices)\n",
    "\n",
    "        # Get variable names\n",
    "        if hasattr(ehrdata, \"var\") and hasattr(ehrdata.var, \"index\"):\n",
    "            var_names = [str(ehrdata.var.index[i]) for i in var_indices]\n",
    "        else:\n",
    "            var_names = [f\"Var {i}\" for i in var_indices]\n",
    "\n",
    "        # Create subplots\n",
    "        fig = plotly.subplots.make_subplots(\n",
    "            rows=n_selected_obs,\n",
    "            cols=n_selected_vars,\n",
    "            subplot_titles=[var_names[j] for j in range(n_selected_vars)] * n_selected_obs,\n",
    "            shared_xaxes=True,\n",
    "            vertical_spacing=0.05,\n",
    "            horizontal_spacing=0.05,\n",
    "        )\n",
    "\n",
    "        # Generate color map for variables - consistent colors across patients\n",
    "        var_colors = [\n",
    "            f\"rgba({(var_idx * 50) % 255}, {(var_idx * 120) % 255}, {(var_idx * 180) % 255}, 0.8)\"\n",
    "            for var_idx in var_indices\n",
    "        ]\n",
    "\n",
    "        # Add time series traces for each observation and variable\n",
    "        for i, obs_idx in enumerate(obs_indices):\n",
    "            for j, var_idx in enumerate(var_indices):\n",
    "                time_series = ehrdata.R[obs_idx, var_idx, :]\n",
    "\n",
    "                # Filter out NaN values\n",
    "                valid_indices = ~np.isnan(time_series)\n",
    "                valid_times = time_values[valid_indices]\n",
    "                valid_values = time_series[valid_indices]\n",
    "\n",
    "                if len(valid_values) > 0:\n",
    "                    fig.add_trace(\n",
    "                        go.Scatter(\n",
    "                            x=valid_times,\n",
    "                            y=valid_values,\n",
    "                            mode=\"lines+markers\",\n",
    "                            name=f\"Var {var_idx}\",\n",
    "                            line={\"width\": 2, \"color\": var_colors[j]},\n",
    "                            marker={\"size\": 6, \"color\": var_colors[j]},\n",
    "                        ),\n",
    "                        row=i + 1,\n",
    "                        col=j + 1,\n",
    "                    )\n",
    "\n",
    "        # Update layout\n",
    "        fig.update_layout(\n",
    "            height=250 * n_selected_obs,\n",
    "            width=200 * n_selected_vars,\n",
    "            title_text=\"EHRData Time Series Visualization\",\n",
    "            showlegend=False,\n",
    "        )\n",
    "\n",
    "        # Update x-axis titles for bottom row\n",
    "        for j in range(n_selected_vars):\n",
    "            fig.update_xaxes(title_text=\"Time\", row=n_selected_obs, col=j + 1)\n",
    "\n",
    "        # Update y-axis titles for left column\n",
    "        for i in range(n_selected_obs):\n",
    "            fig.update_yaxes(title_text=f\"Obs {obs_indices[i]}\", row=i + 1, col=1)\n",
    "\n",
    "    elif plot_type == \"heatmap\":\n",
    "        # Create a heatmap for each observation\n",
    "        fig = plotly.subplots.make_subplots(\n",
    "            rows=len(obs_indices),\n",
    "            cols=1,\n",
    "            subplot_titles=[f\"Observation {obs_idx}\" for obs_idx in obs_indices],\n",
    "            vertical_spacing=0.1,\n",
    "        )\n",
    "\n",
    "        for i, obs_idx in enumerate(obs_indices):\n",
    "            # Extract the data for this observation\n",
    "            heatmap_data = ehrdata.R[obs_idx, :, :]\n",
    "\n",
    "            # Keep only selected variables\n",
    "            heatmap_data = heatmap_data[var_indices, :]\n",
    "\n",
    "            fig.add_trace(\n",
    "                go.Heatmap(\n",
    "                    z=heatmap_data,\n",
    "                    x=time_values,\n",
    "                    y=[f\"Var {var_idx}\" for var_idx in var_indices],\n",
    "                    colorscale=\"Viridis\",\n",
    "                    colorbar={\"title\": \"Value\", \"y\": (1.0 / len(obs_indices)) * (i + 0.5)},\n",
    "                    zmin=np.nanmin(ehrdata.R),  # Consistent scale across all observations\n",
    "                    zmax=np.nanmax(ehrdata.R),\n",
    "                ),\n",
    "                row=i + 1,\n",
    "                col=1,\n",
    "            )\n",
    "\n",
    "        # Update layout\n",
    "        fig.update_layout(height=300 * len(obs_indices), width=800, title_text=\"EHRData Heatmap Visualization\")\n",
    "\n",
    "    elif plot_type == \"surface\":\n",
    "        # Create 3D surface plot\n",
    "        fig = go.Figure()\n",
    "\n",
    "        for i, obs_idx in enumerate(obs_indices):\n",
    "            # Create meshgrid for x (variables) and y (time)\n",
    "            var_grid, time_grid = np.meshgrid(var_indices, time_values)\n",
    "\n",
    "            # Get the data for this observation\n",
    "            surface_data = ehrdata.R[obs_idx, :, :]\n",
    "\n",
    "            # Keep only selected variables\n",
    "            surface_data = surface_data[var_indices, :].T\n",
    "\n",
    "            fig.add_trace(\n",
    "                go.Surface(\n",
    "                    x=var_grid,\n",
    "                    y=time_grid,\n",
    "                    z=surface_data,\n",
    "                    name=f\"Obs {obs_idx}\",\n",
    "                    colorscale=\"Viridis\",\n",
    "                    showscale=(i == 0),  # Show colorbar only for first surface\n",
    "                    opacity=0.9,\n",
    "                    surfacecolor=np.ones_like(surface_data)\n",
    "                    * var_indices[j],  # Use variable index for color consistency\n",
    "                )\n",
    "            )\n",
    "\n",
    "        # Update layout\n",
    "        fig.update_layout(\n",
    "            title_text=\"EHRData 3D Surface Visualization\",\n",
    "            scene={\"xaxis_title\": \"Variables\", \"yaxis_title\": \"Time\", \"zaxis_title\": \"Value\"},\n",
    "            height=800,\n",
    "            width=800,\n",
    "        )\n",
    "\n",
    "    return fig"
   ]
  },
  {
   "cell_type": "code",
   "execution_count": null,
   "id": "86387026",
   "metadata": {},
   "outputs": [
    {
     "data": {
      "application/vnd.plotly.v1+json": {
       "config": {
        "plotlyServerURL": "https://plot.ly"
       },
       "data": [
        {
         "link": {
          "color": [
           "rgba(0, 0, 0, 0.8)",
           "rgba(50, 120, 180, 0.8)",
           "rgba(100, 240, 105, 0.8)",
           "rgba(150, 105, 30, 0.8)",
           "rgba(200, 225, 210, 0.8)",
           "rgba(250, 90, 135, 0.8)",
           "rgba(45, 210, 60, 0.8)",
           "rgba(95, 75, 240, 0.8)",
           "rgba(145, 195, 165, 0.8)",
           "rgba(195, 60, 90, 0.8)",
           "rgba(0, 0, 0, 0.8)",
           "rgba(50, 120, 180, 0.8)",
           "rgba(100, 240, 105, 0.8)",
           "rgba(150, 105, 30, 0.8)",
           "rgba(200, 225, 210, 0.8)",
           "rgba(250, 90, 135, 0.8)",
           "rgba(45, 210, 60, 0.8)",
           "rgba(95, 75, 240, 0.8)",
           "rgba(145, 195, 165, 0.8)",
           "rgba(195, 60, 90, 0.8)",
           "rgba(0, 0, 0, 0.8)",
           "rgba(50, 120, 180, 0.8)",
           "rgba(100, 240, 105, 0.8)",
           "rgba(150, 105, 30, 0.8)",
           "rgba(200, 225, 210, 0.8)",
           "rgba(250, 90, 135, 0.8)",
           "rgba(45, 210, 60, 0.8)",
           "rgba(95, 75, 240, 0.8)",
           "rgba(145, 195, 165, 0.8)",
           "rgba(195, 60, 90, 0.8)",
           "rgba(0, 0, 0, 0.8)",
           "rgba(50, 120, 180, 0.8)",
           "rgba(100, 240, 105, 0.8)",
           "rgba(150, 105, 30, 0.8)",
           "rgba(200, 225, 210, 0.8)",
           "rgba(250, 90, 135, 0.8)",
           "rgba(45, 210, 60, 0.8)",
           "rgba(95, 75, 240, 0.8)",
           "rgba(145, 195, 165, 0.8)",
           "rgba(195, 60, 90, 0.8)",
           "rgba(0, 0, 0, 0.8)",
           "rgba(50, 120, 180, 0.8)",
           "rgba(100, 240, 105, 0.8)",
           "rgba(150, 105, 30, 0.8)",
           "rgba(200, 225, 210, 0.8)",
           "rgba(250, 90, 135, 0.8)",
           "rgba(45, 210, 60, 0.8)",
           "rgba(95, 75, 240, 0.8)",
           "rgba(145, 195, 165, 0.8)",
           "rgba(195, 60, 90, 0.8)",
           "rgba(0, 0, 0, 0.8)",
           "rgba(50, 120, 180, 0.8)",
           "rgba(100, 240, 105, 0.8)",
           "rgba(150, 105, 30, 0.8)",
           "rgba(200, 225, 210, 0.8)",
           "rgba(250, 90, 135, 0.8)",
           "rgba(45, 210, 60, 0.8)",
           "rgba(95, 75, 240, 0.8)",
           "rgba(145, 195, 165, 0.8)",
           "rgba(195, 60, 90, 0.8)",
           "rgba(0, 0, 0, 0.8)",
           "rgba(50, 120, 180, 0.8)",
           "rgba(100, 240, 105, 0.8)",
           "rgba(150, 105, 30, 0.8)",
           "rgba(200, 225, 210, 0.8)",
           "rgba(250, 90, 135, 0.8)",
           "rgba(45, 210, 60, 0.8)",
           "rgba(95, 75, 240, 0.8)",
           "rgba(145, 195, 165, 0.8)",
           "rgba(195, 60, 90, 0.8)",
           "rgba(0, 0, 0, 0.8)",
           "rgba(50, 120, 180, 0.8)",
           "rgba(100, 240, 105, 0.8)",
           "rgba(150, 105, 30, 0.8)",
           "rgba(200, 225, 210, 0.8)",
           "rgba(250, 90, 135, 0.8)",
           "rgba(45, 210, 60, 0.8)",
           "rgba(95, 75, 240, 0.8)",
           "rgba(145, 195, 165, 0.8)",
           "rgba(195, 60, 90, 0.8)",
           "rgba(0, 0, 0, 0.8)",
           "rgba(50, 120, 180, 0.8)",
           "rgba(100, 240, 105, 0.8)",
           "rgba(150, 105, 30, 0.8)",
           "rgba(200, 225, 210, 0.8)",
           "rgba(250, 90, 135, 0.8)",
           "rgba(45, 210, 60, 0.8)",
           "rgba(95, 75, 240, 0.8)",
           "rgba(145, 195, 165, 0.8)",
           "rgba(195, 60, 90, 0.8)",
           "rgba(0, 0, 0, 0.8)",
           "rgba(50, 120, 180, 0.8)",
           "rgba(100, 240, 105, 0.8)",
           "rgba(150, 105, 30, 0.8)",
           "rgba(200, 225, 210, 0.8)",
           "rgba(250, 90, 135, 0.8)",
           "rgba(45, 210, 60, 0.8)",
           "rgba(95, 75, 240, 0.8)",
           "rgba(145, 195, 165, 0.8)",
           "rgba(195, 60, 90, 0.8)",
           "rgba(0, 0, 0, 0.8)",
           "rgba(50, 120, 180, 0.8)",
           "rgba(100, 240, 105, 0.8)",
           "rgba(150, 105, 30, 0.8)",
           "rgba(200, 225, 210, 0.8)",
           "rgba(250, 90, 135, 0.8)",
           "rgba(45, 210, 60, 0.8)",
           "rgba(95, 75, 240, 0.8)",
           "rgba(145, 195, 165, 0.8)",
           "rgba(195, 60, 90, 0.8)",
           "rgba(0, 0, 0, 0.8)",
           "rgba(50, 120, 180, 0.8)",
           "rgba(100, 240, 105, 0.8)",
           "rgba(150, 105, 30, 0.8)",
           "rgba(200, 225, 210, 0.8)",
           "rgba(250, 90, 135, 0.8)",
           "rgba(45, 210, 60, 0.8)",
           "rgba(95, 75, 240, 0.8)",
           "rgba(145, 195, 165, 0.8)",
           "rgba(195, 60, 90, 0.8)",
           "rgba(0, 0, 0, 0.8)",
           "rgba(50, 120, 180, 0.8)",
           "rgba(100, 240, 105, 0.8)",
           "rgba(150, 105, 30, 0.8)",
           "rgba(200, 225, 210, 0.8)",
           "rgba(250, 90, 135, 0.8)",
           "rgba(45, 210, 60, 0.8)",
           "rgba(95, 75, 240, 0.8)",
           "rgba(145, 195, 165, 0.8)",
           "rgba(195, 60, 90, 0.8)",
           "rgba(0, 0, 0, 0.8)",
           "rgba(50, 120, 180, 0.8)",
           "rgba(100, 240, 105, 0.8)",
           "rgba(150, 105, 30, 0.8)",
           "rgba(200, 225, 210, 0.8)",
           "rgba(250, 90, 135, 0.8)",
           "rgba(45, 210, 60, 0.8)",
           "rgba(95, 75, 240, 0.8)",
           "rgba(145, 195, 165, 0.8)",
           "rgba(195, 60, 90, 0.8)",
           "rgba(0, 0, 0, 0.8)",
           "rgba(50, 120, 180, 0.8)",
           "rgba(100, 240, 105, 0.8)",
           "rgba(150, 105, 30, 0.8)",
           "rgba(200, 225, 210, 0.8)",
           "rgba(250, 90, 135, 0.8)",
           "rgba(45, 210, 60, 0.8)",
           "rgba(95, 75, 240, 0.8)",
           "rgba(145, 195, 165, 0.8)",
           "rgba(195, 60, 90, 0.8)",
           "rgba(0, 0, 0, 0.8)",
           "rgba(50, 120, 180, 0.8)",
           "rgba(100, 240, 105, 0.8)",
           "rgba(150, 105, 30, 0.8)",
           "rgba(200, 225, 210, 0.8)",
           "rgba(250, 90, 135, 0.8)",
           "rgba(45, 210, 60, 0.8)",
           "rgba(95, 75, 240, 0.8)",
           "rgba(145, 195, 165, 0.8)",
           "rgba(195, 60, 90, 0.8)",
           "rgba(0, 0, 0, 0.8)",
           "rgba(50, 120, 180, 0.8)",
           "rgba(100, 240, 105, 0.8)",
           "rgba(150, 105, 30, 0.8)",
           "rgba(200, 225, 210, 0.8)",
           "rgba(250, 90, 135, 0.8)",
           "rgba(45, 210, 60, 0.8)",
           "rgba(95, 75, 240, 0.8)",
           "rgba(145, 195, 165, 0.8)",
           "rgba(195, 60, 90, 0.8)",
           "rgba(0, 0, 0, 0.8)",
           "rgba(50, 120, 180, 0.8)",
           "rgba(100, 240, 105, 0.8)",
           "rgba(150, 105, 30, 0.8)",
           "rgba(200, 225, 210, 0.8)",
           "rgba(250, 90, 135, 0.8)",
           "rgba(45, 210, 60, 0.8)",
           "rgba(95, 75, 240, 0.8)",
           "rgba(145, 195, 165, 0.8)",
           "rgba(195, 60, 90, 0.8)",
           "rgba(0, 0, 0, 0.8)",
           "rgba(50, 120, 180, 0.8)",
           "rgba(100, 240, 105, 0.8)",
           "rgba(150, 105, 30, 0.8)",
           "rgba(200, 225, 210, 0.8)",
           "rgba(250, 90, 135, 0.8)",
           "rgba(45, 210, 60, 0.8)",
           "rgba(95, 75, 240, 0.8)",
           "rgba(145, 195, 165, 0.8)",
           "rgba(195, 60, 90, 0.8)",
           "rgba(0, 0, 0, 0.8)",
           "rgba(50, 120, 180, 0.8)",
           "rgba(100, 240, 105, 0.8)",
           "rgba(150, 105, 30, 0.8)",
           "rgba(200, 225, 210, 0.8)",
           "rgba(250, 90, 135, 0.8)",
           "rgba(45, 210, 60, 0.8)",
           "rgba(95, 75, 240, 0.8)",
           "rgba(145, 195, 165, 0.8)",
           "rgba(195, 60, 90, 0.8)",
           "rgba(0, 0, 0, 0.8)",
           "rgba(0, 0, 0, 0.8)",
           "rgba(0, 0, 0, 0.8)",
           "rgba(0, 0, 0, 0.8)",
           "rgba(0, 0, 0, 0.8)",
           "rgba(0, 0, 0, 0.8)",
           "rgba(0, 0, 0, 0.8)",
           "rgba(0, 0, 0, 0.8)",
           "rgba(0, 0, 0, 0.8)",
           "rgba(0, 0, 0, 0.8)",
           "rgba(0, 0, 0, 0.8)",
           "rgba(0, 0, 0, 0.8)",
           "rgba(0, 0, 0, 0.8)",
           "rgba(0, 0, 0, 0.8)",
           "rgba(0, 0, 0, 0.8)",
           "rgba(0, 0, 0, 0.8)",
           "rgba(0, 0, 0, 0.8)",
           "rgba(0, 0, 0, 0.8)",
           "rgba(0, 0, 0, 0.8)",
           "rgba(0, 0, 0, 0.8)",
           "rgba(50, 120, 180, 0.8)",
           "rgba(50, 120, 180, 0.8)",
           "rgba(50, 120, 180, 0.8)",
           "rgba(50, 120, 180, 0.8)",
           "rgba(50, 120, 180, 0.8)",
           "rgba(50, 120, 180, 0.8)",
           "rgba(50, 120, 180, 0.8)",
           "rgba(50, 120, 180, 0.8)",
           "rgba(50, 120, 180, 0.8)",
           "rgba(50, 120, 180, 0.8)",
           "rgba(50, 120, 180, 0.8)",
           "rgba(50, 120, 180, 0.8)",
           "rgba(50, 120, 180, 0.8)",
           "rgba(50, 120, 180, 0.8)",
           "rgba(50, 120, 180, 0.8)",
           "rgba(50, 120, 180, 0.8)",
           "rgba(50, 120, 180, 0.8)",
           "rgba(50, 120, 180, 0.8)",
           "rgba(50, 120, 180, 0.8)",
           "rgba(50, 120, 180, 0.8)",
           "rgba(100, 240, 105, 0.8)",
           "rgba(100, 240, 105, 0.8)",
           "rgba(100, 240, 105, 0.8)",
           "rgba(100, 240, 105, 0.8)",
           "rgba(100, 240, 105, 0.8)",
           "rgba(100, 240, 105, 0.8)",
           "rgba(100, 240, 105, 0.8)",
           "rgba(100, 240, 105, 0.8)",
           "rgba(100, 240, 105, 0.8)",
           "rgba(100, 240, 105, 0.8)",
           "rgba(100, 240, 105, 0.8)",
           "rgba(100, 240, 105, 0.8)",
           "rgba(100, 240, 105, 0.8)",
           "rgba(100, 240, 105, 0.8)",
           "rgba(100, 240, 105, 0.8)",
           "rgba(100, 240, 105, 0.8)",
           "rgba(100, 240, 105, 0.8)",
           "rgba(100, 240, 105, 0.8)",
           "rgba(100, 240, 105, 0.8)",
           "rgba(100, 240, 105, 0.8)",
           "rgba(150, 105, 30, 0.8)",
           "rgba(150, 105, 30, 0.8)",
           "rgba(150, 105, 30, 0.8)",
           "rgba(150, 105, 30, 0.8)",
           "rgba(150, 105, 30, 0.8)",
           "rgba(150, 105, 30, 0.8)",
           "rgba(150, 105, 30, 0.8)",
           "rgba(150, 105, 30, 0.8)",
           "rgba(150, 105, 30, 0.8)",
           "rgba(150, 105, 30, 0.8)",
           "rgba(150, 105, 30, 0.8)",
           "rgba(150, 105, 30, 0.8)",
           "rgba(150, 105, 30, 0.8)",
           "rgba(150, 105, 30, 0.8)",
           "rgba(150, 105, 30, 0.8)",
           "rgba(150, 105, 30, 0.8)",
           "rgba(150, 105, 30, 0.8)",
           "rgba(150, 105, 30, 0.8)",
           "rgba(150, 105, 30, 0.8)",
           "rgba(150, 105, 30, 0.8)",
           "rgba(200, 225, 210, 0.8)",
           "rgba(200, 225, 210, 0.8)",
           "rgba(200, 225, 210, 0.8)",
           "rgba(200, 225, 210, 0.8)",
           "rgba(200, 225, 210, 0.8)",
           "rgba(200, 225, 210, 0.8)",
           "rgba(200, 225, 210, 0.8)",
           "rgba(200, 225, 210, 0.8)",
           "rgba(200, 225, 210, 0.8)",
           "rgba(200, 225, 210, 0.8)",
           "rgba(200, 225, 210, 0.8)",
           "rgba(200, 225, 210, 0.8)",
           "rgba(200, 225, 210, 0.8)",
           "rgba(200, 225, 210, 0.8)",
           "rgba(200, 225, 210, 0.8)",
           "rgba(200, 225, 210, 0.8)",
           "rgba(200, 225, 210, 0.8)",
           "rgba(200, 225, 210, 0.8)",
           "rgba(200, 225, 210, 0.8)",
           "rgba(200, 225, 210, 0.8)",
           "rgba(250, 90, 135, 0.8)",
           "rgba(250, 90, 135, 0.8)",
           "rgba(250, 90, 135, 0.8)",
           "rgba(250, 90, 135, 0.8)",
           "rgba(250, 90, 135, 0.8)",
           "rgba(250, 90, 135, 0.8)",
           "rgba(250, 90, 135, 0.8)",
           "rgba(250, 90, 135, 0.8)",
           "rgba(250, 90, 135, 0.8)",
           "rgba(250, 90, 135, 0.8)",
           "rgba(250, 90, 135, 0.8)",
           "rgba(250, 90, 135, 0.8)",
           "rgba(250, 90, 135, 0.8)",
           "rgba(250, 90, 135, 0.8)",
           "rgba(250, 90, 135, 0.8)",
           "rgba(250, 90, 135, 0.8)",
           "rgba(250, 90, 135, 0.8)",
           "rgba(250, 90, 135, 0.8)",
           "rgba(250, 90, 135, 0.8)",
           "rgba(250, 90, 135, 0.8)",
           "rgba(45, 210, 60, 0.8)",
           "rgba(45, 210, 60, 0.8)",
           "rgba(45, 210, 60, 0.8)",
           "rgba(45, 210, 60, 0.8)",
           "rgba(45, 210, 60, 0.8)",
           "rgba(45, 210, 60, 0.8)",
           "rgba(45, 210, 60, 0.8)",
           "rgba(45, 210, 60, 0.8)",
           "rgba(45, 210, 60, 0.8)",
           "rgba(45, 210, 60, 0.8)",
           "rgba(45, 210, 60, 0.8)",
           "rgba(45, 210, 60, 0.8)",
           "rgba(45, 210, 60, 0.8)",
           "rgba(45, 210, 60, 0.8)",
           "rgba(45, 210, 60, 0.8)",
           "rgba(45, 210, 60, 0.8)",
           "rgba(45, 210, 60, 0.8)",
           "rgba(45, 210, 60, 0.8)",
           "rgba(45, 210, 60, 0.8)",
           "rgba(45, 210, 60, 0.8)",
           "rgba(95, 75, 240, 0.8)",
           "rgba(95, 75, 240, 0.8)",
           "rgba(95, 75, 240, 0.8)",
           "rgba(95, 75, 240, 0.8)",
           "rgba(95, 75, 240, 0.8)",
           "rgba(95, 75, 240, 0.8)",
           "rgba(95, 75, 240, 0.8)",
           "rgba(95, 75, 240, 0.8)",
           "rgba(95, 75, 240, 0.8)",
           "rgba(95, 75, 240, 0.8)",
           "rgba(95, 75, 240, 0.8)",
           "rgba(95, 75, 240, 0.8)",
           "rgba(95, 75, 240, 0.8)",
           "rgba(95, 75, 240, 0.8)",
           "rgba(95, 75, 240, 0.8)",
           "rgba(95, 75, 240, 0.8)",
           "rgba(95, 75, 240, 0.8)",
           "rgba(95, 75, 240, 0.8)",
           "rgba(95, 75, 240, 0.8)",
           "rgba(95, 75, 240, 0.8)",
           "rgba(145, 195, 165, 0.8)",
           "rgba(145, 195, 165, 0.8)",
           "rgba(145, 195, 165, 0.8)",
           "rgba(145, 195, 165, 0.8)",
           "rgba(145, 195, 165, 0.8)",
           "rgba(145, 195, 165, 0.8)",
           "rgba(145, 195, 165, 0.8)",
           "rgba(145, 195, 165, 0.8)",
           "rgba(145, 195, 165, 0.8)",
           "rgba(145, 195, 165, 0.8)",
           "rgba(145, 195, 165, 0.8)",
           "rgba(145, 195, 165, 0.8)",
           "rgba(145, 195, 165, 0.8)",
           "rgba(145, 195, 165, 0.8)",
           "rgba(145, 195, 165, 0.8)",
           "rgba(145, 195, 165, 0.8)",
           "rgba(145, 195, 165, 0.8)",
           "rgba(145, 195, 165, 0.8)",
           "rgba(145, 195, 165, 0.8)",
           "rgba(145, 195, 165, 0.8)",
           "rgba(195, 60, 90, 0.8)",
           "rgba(195, 60, 90, 0.8)",
           "rgba(195, 60, 90, 0.8)",
           "rgba(195, 60, 90, 0.8)",
           "rgba(195, 60, 90, 0.8)",
           "rgba(195, 60, 90, 0.8)",
           "rgba(195, 60, 90, 0.8)",
           "rgba(195, 60, 90, 0.8)",
           "rgba(195, 60, 90, 0.8)",
           "rgba(195, 60, 90, 0.8)",
           "rgba(195, 60, 90, 0.8)",
           "rgba(195, 60, 90, 0.8)",
           "rgba(195, 60, 90, 0.8)",
           "rgba(195, 60, 90, 0.8)",
           "rgba(195, 60, 90, 0.8)",
           "rgba(195, 60, 90, 0.8)",
           "rgba(195, 60, 90, 0.8)",
           "rgba(195, 60, 90, 0.8)",
           "rgba(195, 60, 90, 0.8)",
           "rgba(195, 60, 90, 0.8)"
          ],
          "source": [
           0,
           0,
           0,
           0,
           0,
           0,
           0,
           0,
           0,
           0,
           1,
           1,
           1,
           1,
           1,
           1,
           1,
           1,
           1,
           1,
           2,
           2,
           2,
           2,
           2,
           2,
           2,
           2,
           2,
           2,
           3,
           3,
           3,
           3,
           3,
           3,
           3,
           3,
           3,
           3,
           4,
           4,
           4,
           4,
           4,
           4,
           4,
           4,
           4,
           4,
           5,
           5,
           5,
           5,
           5,
           5,
           5,
           5,
           5,
           5,
           6,
           6,
           6,
           6,
           6,
           6,
           6,
           6,
           6,
           6,
           7,
           7,
           7,
           7,
           7,
           7,
           7,
           7,
           7,
           7,
           8,
           8,
           8,
           8,
           8,
           8,
           8,
           8,
           8,
           8,
           9,
           9,
           9,
           9,
           9,
           9,
           9,
           9,
           9,
           9,
           10,
           10,
           10,
           10,
           10,
           10,
           10,
           10,
           10,
           10,
           11,
           11,
           11,
           11,
           11,
           11,
           11,
           11,
           11,
           11,
           12,
           12,
           12,
           12,
           12,
           12,
           12,
           12,
           12,
           12,
           13,
           13,
           13,
           13,
           13,
           13,
           13,
           13,
           13,
           13,
           14,
           14,
           14,
           14,
           14,
           14,
           14,
           14,
           14,
           14,
           15,
           15,
           15,
           15,
           15,
           15,
           15,
           15,
           15,
           15,
           16,
           16,
           16,
           16,
           16,
           16,
           16,
           16,
           16,
           16,
           17,
           17,
           17,
           17,
           17,
           17,
           17,
           17,
           17,
           17,
           18,
           18,
           18,
           18,
           18,
           18,
           18,
           18,
           18,
           18,
           19,
           19,
           19,
           19,
           19,
           19,
           19,
           19,
           19,
           19,
           20,
           20,
           20,
           20,
           20,
           20,
           20,
           20,
           20,
           20,
           20,
           20,
           20,
           20,
           20,
           20,
           20,
           20,
           20,
           20,
           21,
           21,
           21,
           21,
           21,
           21,
           21,
           21,
           21,
           21,
           21,
           21,
           21,
           21,
           21,
           21,
           21,
           21,
           21,
           21,
           22,
           22,
           22,
           22,
           22,
           22,
           22,
           22,
           22,
           22,
           22,
           22,
           22,
           22,
           22,
           22,
           22,
           22,
           22,
           22,
           23,
           23,
           23,
           23,
           23,
           23,
           23,
           23,
           23,
           23,
           23,
           23,
           23,
           23,
           23,
           23,
           23,
           23,
           23,
           23,
           24,
           24,
           24,
           24,
           24,
           24,
           24,
           24,
           24,
           24,
           24,
           24,
           24,
           24,
           24,
           24,
           24,
           24,
           24,
           24,
           25,
           25,
           25,
           25,
           25,
           25,
           25,
           25,
           25,
           25,
           25,
           25,
           25,
           25,
           25,
           25,
           25,
           25,
           25,
           25,
           26,
           26,
           26,
           26,
           26,
           26,
           26,
           26,
           26,
           26,
           26,
           26,
           26,
           26,
           26,
           26,
           26,
           26,
           26,
           26,
           27,
           27,
           27,
           27,
           27,
           27,
           27,
           27,
           27,
           27,
           27,
           27,
           27,
           27,
           27,
           27,
           27,
           27,
           27,
           27,
           28,
           28,
           28,
           28,
           28,
           28,
           28,
           28,
           28,
           28,
           28,
           28,
           28,
           28,
           28,
           28,
           28,
           28,
           28,
           28,
           29,
           29,
           29,
           29,
           29,
           29,
           29,
           29,
           29,
           29,
           29,
           29,
           29,
           29,
           29,
           29,
           29,
           29,
           29,
           29
          ],
          "target": [
           20,
           21,
           22,
           23,
           24,
           25,
           26,
           27,
           28,
           29,
           20,
           21,
           22,
           23,
           24,
           25,
           26,
           27,
           28,
           29,
           20,
           21,
           22,
           23,
           24,
           25,
           26,
           27,
           28,
           29,
           20,
           21,
           22,
           23,
           24,
           25,
           26,
           27,
           28,
           29,
           20,
           21,
           22,
           23,
           24,
           25,
           26,
           27,
           28,
           29,
           20,
           21,
           22,
           23,
           24,
           25,
           26,
           27,
           28,
           29,
           20,
           21,
           22,
           23,
           24,
           25,
           26,
           27,
           28,
           29,
           20,
           21,
           22,
           23,
           24,
           25,
           26,
           27,
           28,
           29,
           20,
           21,
           22,
           23,
           24,
           25,
           26,
           27,
           28,
           29,
           20,
           21,
           22,
           23,
           24,
           25,
           26,
           27,
           28,
           29,
           20,
           21,
           22,
           23,
           24,
           25,
           26,
           27,
           28,
           29,
           20,
           21,
           22,
           23,
           24,
           25,
           26,
           27,
           28,
           29,
           20,
           21,
           22,
           23,
           24,
           25,
           26,
           27,
           28,
           29,
           20,
           21,
           22,
           23,
           24,
           25,
           26,
           27,
           28,
           29,
           20,
           21,
           22,
           23,
           24,
           25,
           26,
           27,
           28,
           29,
           20,
           21,
           22,
           23,
           24,
           25,
           26,
           27,
           28,
           29,
           20,
           21,
           22,
           23,
           24,
           25,
           26,
           27,
           28,
           29,
           20,
           21,
           22,
           23,
           24,
           25,
           26,
           27,
           28,
           29,
           20,
           21,
           22,
           23,
           24,
           25,
           26,
           27,
           28,
           29,
           20,
           21,
           22,
           23,
           24,
           25,
           26,
           27,
           28,
           29,
           30,
           31,
           32,
           33,
           34,
           35,
           36,
           37,
           38,
           39,
           40,
           41,
           42,
           43,
           44,
           45,
           46,
           47,
           48,
           49,
           30,
           31,
           32,
           33,
           34,
           35,
           36,
           37,
           38,
           39,
           40,
           41,
           42,
           43,
           44,
           45,
           46,
           47,
           48,
           49,
           30,
           31,
           32,
           33,
           34,
           35,
           36,
           37,
           38,
           39,
           40,
           41,
           42,
           43,
           44,
           45,
           46,
           47,
           48,
           49,
           30,
           31,
           32,
           33,
           34,
           35,
           36,
           37,
           38,
           39,
           40,
           41,
           42,
           43,
           44,
           45,
           46,
           47,
           48,
           49,
           30,
           31,
           32,
           33,
           34,
           35,
           36,
           37,
           38,
           39,
           40,
           41,
           42,
           43,
           44,
           45,
           46,
           47,
           48,
           49,
           30,
           31,
           32,
           33,
           34,
           35,
           36,
           37,
           38,
           39,
           40,
           41,
           42,
           43,
           44,
           45,
           46,
           47,
           48,
           49,
           30,
           31,
           32,
           33,
           34,
           35,
           36,
           37,
           38,
           39,
           40,
           41,
           42,
           43,
           44,
           45,
           46,
           47,
           48,
           49,
           30,
           31,
           32,
           33,
           34,
           35,
           36,
           37,
           38,
           39,
           40,
           41,
           42,
           43,
           44,
           45,
           46,
           47,
           48,
           49,
           30,
           31,
           32,
           33,
           34,
           35,
           36,
           37,
           38,
           39,
           40,
           41,
           42,
           43,
           44,
           45,
           46,
           47,
           48,
           49,
           30,
           31,
           32,
           33,
           34,
           35,
           36,
           37,
           38,
           39,
           40,
           41,
           42,
           43,
           44,
           45,
           46,
           47,
           48,
           49
          ],
          "value": [
           0.07108477827865323,
           0.3815437080157515,
           0.4999312205522951,
           0.18069898791676797,
           0.3469988939650209,
           0.21391988257647687,
           0.008218193591207613,
           0.34343242694109216,
           0.5685901081450278,
           0.09679165868020864,
           0.23886100625268183,
           0.6737833519293996,
           0.31743349828426726,
           0.4382716686277334,
           0.17669590134600746,
           0.3219355631255936,
           0.34637181608676937,
           0.2996498471620023,
           0.07817687267359905,
           0.10371739598779102,
           0.2157839876376247,
           0.5420278260401908,
           0.6066327188794103,
           0.5043960862498909,
           0.1081895008117508,
           0.583483922717243,
           0.1496766371410795,
           0.49750141634071526,
           0.11602951422384744,
           0.10368601977565628,
           0.09110594372626568,
           0.4035634305398802,
           0.03964292257163926,
           0.07489824143915179,
           0.18023892928537028,
           0.34339530121086403,
           0.6399188085498035,
           0.47229690900685906,
           0.19451115187899695,
           0.10666308137910516,
           0.23652259974694717,
           0.2717287755371546,
           0.5013218845407896,
           0.005562642679927786,
           0.6645188863554922,
           0.23021756419029865,
           0.490209590524265,
           0.29911929641644247,
           0.3337391846952255,
           0.26794566244521417,
           0.019578592577617765,
           0.11332146841222078,
           0.04351400923853086,
           0.5970574611805864,
           0.48667212281708777,
           0.15707153094853918,
           0.4738958332524365,
           0.24143620416436432,
           0.25192905322782416,
           0.19494624723908888,
           0.4978289407722856,
           0.042254933431251494,
           0.8066232110436178,
           0.12886780266067166,
           0.011637800149857993,
           0.15968459450095024,
           0.0993255564147754,
           0.02680067616443804,
           0.28940462729428174,
           0.17164539359489123,
           0.16577657071621138,
           0.3782842800568703,
           0.8277722419202443,
           0.04232260870515491,
           0.2101876422223679,
           0.15787125453939835,
           0.38449975259978414,
           0.4532968475402665,
           0.1882685891869666,
           0.06095101639122661,
           0.27753385502689737,
           0.41296708114339103,
           0.2349274739589265,
           0.4115538086512557,
           0.02823678327470852,
           0.25857544127449034,
           0.02428295809717897,
           0.20338724389067836,
           0.07773151900268752,
           0.31086076714066646,
           0.07038220356674223,
           0.5822468763002161,
           0.21566038111120167,
           0.5040988167172699,
           0.08461926125992851,
           0.633201132642717,
           0.2771463361837415,
           0.004297169367131665,
           0.13040173865769994,
           0.01737852377530212,
           0.06353440818897928,
           0.44226978538826395,
           0.12606304633432058,
           0.5595492310591643,
           0.4545450103947512,
           0.14244777966126507,
           0.5306784413418594,
           0.30991158462441265,
           0.20207252426912123,
           0.19146298825376704,
           0.05161432423666607,
           0.26859654464957144,
           0.08163736042143152,
           0.061955157313769334,
           0.018455548058067747,
           0.4176992165158054,
           0.897289523385954,
           0.010488128341922013,
           0.21778164027194463,
           0.19071421507247224,
           0.1264222529613809,
           0.03537131372894465,
           0.0382163052936204,
           0.44607094433811656,
           0.14316940557658192,
           0.25527249723354595,
           0.39450272217638344,
           0.29999330621553816,
           0.10144876300949696,
           0.3511618046707282,
           0.010592669319263613,
           0.3764123960358529,
           0.19745582809456336,
           0.4223643499676397,
           0.1851054194848358,
           0.008009267678686668,
           0.3340333367427252,
           0.054162906816027,
           0.14110043515644613,
           0.1958631269114007,
           0.3168195946369281,
           0.55239773418975,
           0.40460808523099107,
           0.02707990697851077,
           0.1202214044211862,
           0.2121443935709116,
           0.13951501576586003,
           0.4221672945354541,
           0.022590162195905733,
           0.15610570548636335,
           0.04967686770196054,
           0.37550082376196525,
           0.11410882434470047,
           0.16373904062250347,
           0.5341880076195842,
           0.16871267296391765,
           0.3653805063471463,
           0.008167559330512377,
           0.1403076142001314,
           0.2579543693208727,
           0.12078485897733554,
           0.018056949279320313,
           0.31591313106068764,
           0.240707148844671,
           1,
           0.07031160558607473,
           0.1388301332160901,
           0.24355318532820247,
           0.3440319489624834,
           0.14019205757421013,
           0.08755260864541967,
           0.007075715962325813,
           0.2420861075971208,
           0.07554299652124621,
           0.364679126507712,
           0.4687562779040251,
           0.20801335872273988,
           0.13673079223219903,
           0.3147909212490753,
           0.2293810026785073,
           0.7671201173771709,
           0.1234347260549173,
           0.32755319613146366,
           0.10161351091975523,
           0.1404625642979278,
           0.1967811552765439,
           0.42756716355632646,
           0.28545155187281873,
           0.21842660568187028,
           0.21867748844584808,
           0.08599315378082888,
           0.12291608003075331,
           0.16286344417786655,
           0.28361624883461484,
           0.29965447850815374,
           0.3353238242112903,
           0.30248844217259785,
           0.40105007286339966,
           0.3628865639100264,
           0.11846290298820392,
           0.0938757911823806,
           0.2952159808234623,
           0.24515326212191724,
           0.504145563740873,
           0.2102466630440308,
           0.30718386551429344,
           0.1863327353345124,
           0.2334266353644105,
           0.26225216712136173,
           0.015107346999105604,
           0.1763758580238315,
           0.10946598885515156,
           0.1607031095312787,
           0.07629335591744026,
           0.4416881951727551,
           0.010327886585803223,
           0.32707662822112255,
           0.06812879423744338,
           0.15433331751839813,
           0.2587767792907693,
           0.21564394809282905,
           0.3037796769050575,
           0.4934449222376464,
           0.315095282795331,
           0.3619477451963113,
           0.027031617426195975,
           0.4101188676163721,
           0.0680460524632802,
           0.30568599002899494,
           0.5328092885032157,
           0.09046475619319848,
           0.33642421652936655,
           0.13337813128966616,
           0.2134589938415413,
           0.004778981028803878,
           0.006039951720324387,
           0.4208245024769919,
           0.0035020534635842706,
           0.05456593937316557,
           0.5779567542906077,
           0.6400844017386415,
           0.02502560920584772,
           0.13483212260566313,
           0.08774353240572003,
           0.15408182763381634,
           0.3062841756273778,
           0.4845065869739319,
           0.31705329337769556,
           0.2232587653830129,
           0.35385622849185583,
           0.2798239757734214,
           0.15231503808789418,
           0.005335611996925784,
           0.6790531522724537,
           0.3684368392737116,
           0.14827172373880482,
           0.2123547658318839,
           0.00662191564268692,
           0.22706195228938195,
           0.0885219243139677,
           0.12696360166236528,
           0.1704549611163827,
           0.11556389510815904,
           0.460554247665967,
           0.08069697912814612,
           0.5807948116939747,
           0.15418130009866485,
           0.2779328104218162,
           0.1063027820609749,
           0.10662522024781523,
           0.17159402087113776,
           0.3618005510142253,
           0.283855441875604,
           0.6315586491135559,
           0.5817755047960513,
           0.42752875682994335,
           0.0226161075267481,
           0.029853936340192736,
           0.0515963372225779,
           0.3288148619421247,
           0.06374742750469208,
           0.2916190784785072,
           0.06313924152367924,
           0.16791939056958533,
           0.3410651776263244,
           0.1677816352762811,
           0.02061667976445567,
           0.014526114177620036,
           0.06817259592978418,
           0.4046514141696985,
           0.3669594241734856,
           0.6158144487800123,
           0.15233426148255694,
           0.00039562346986241954,
           0.09126810785440705,
           0.1168604457902197,
           0.12081161387436704,
           0.19329301876112137,
           0.2532522480917511,
           0.0040254947243535365,
           0.1274359634264178,
           0.11169568772497084,
           0.5399045155473009,
           0.3170951559762841,
           0.1250435058925731,
           0.15476219877141636,
           0.192063855022482,
           0.1956160888347809,
           0.45334915151740607,
           0.1920425265904961,
           0.039615845204337384,
           0.09525033206968724,
           0.33011980958423826,
           0.07149176821335124,
           0.3608963471570648,
           0.12970641784247283,
           0.08835384039089463,
           0.4891647333175821,
           0.4067799152755009,
           0.0351266010211657,
           0.10303010589142056,
           0.23390726121236852,
           0.6022810085355779,
           0.6958871830226551,
           0.23371883153294745,
           0.07260884001799325,
           0.48832888345639097,
           0.2552231913907257,
           0.4094237883911921,
           0.5066301170033822,
           0.1104939203721296,
           0.17578229095221215,
           0.22028168391245817,
           0.2077399168611373,
           0.2663920834949689,
           0.46316552598285193,
           0.004937285985406563,
           0.14384259419688597,
           0.04939114514023486,
           0.005981132019994702,
           0.28587851759628,
           0.010524338058410736,
           0.14940288602621785,
           0.18347859658814364,
           0.0814083039137772,
           0.27123202129665835,
           0.3321739924824642,
           0.14842739464147495,
           0.06457721697155677,
           0.7749918672932635,
           0.18664093487637473,
           0.11757539125541153,
           0.3428465258466677,
           0.4728016071569829,
           0.32428922274064687,
           0.0319548020114035,
           0.009863513470663098,
           0.1704832367116665,
           0.2860071623553275,
           0.05635624558952333,
           0.4155601664303815,
           0.49225353374623687,
           0.23107067032720063,
           0.18235567694395724,
           0.6727384685145156,
           0.2579557762492726,
           0.3213943502040997,
           0.014545821050067678,
           0.6422736589007991,
           0.12504196150830102,
           0.01591003718524831,
           0.04805527861734951,
           0.48215357907131334,
           0.4447457179057767,
           0.002403788046349347,
           0.22063223538827437,
           0.14941952466327194,
           0.3263283670542774,
           0.290824131940207,
           0.31132687175637813,
           0.3919835979012873,
           0.037215699469979754,
           0.42241476370633063,
           0.1200624109589762,
           0.2749581322224243,
           0.2872395244253067,
           0.011968016254606242,
           0.4121800110413355,
           0.3203200944420661,
           0.23271743488705293,
           0.6476873314649757,
           0.2387883772848373,
           0.02719039747761967,
           0.33213088547312425,
           0.08742331408534922,
           0.28893424654971206,
           0.3053122446591812,
           0.07216035836560707,
           0.44551643313565104,
           0.02966076635748655
          ]
         },
         "node": {
          "color": [
           "rgba(31, 119, 180, 0.8)",
           "rgba(31, 119, 180, 0.8)",
           "rgba(31, 119, 180, 0.8)",
           "rgba(31, 119, 180, 0.8)",
           "rgba(31, 119, 180, 0.8)",
           "rgba(31, 119, 180, 0.8)",
           "rgba(31, 119, 180, 0.8)",
           "rgba(31, 119, 180, 0.8)",
           "rgba(31, 119, 180, 0.8)",
           "rgba(31, 119, 180, 0.8)",
           "rgba(31, 119, 180, 0.8)",
           "rgba(31, 119, 180, 0.8)",
           "rgba(31, 119, 180, 0.8)",
           "rgba(31, 119, 180, 0.8)",
           "rgba(31, 119, 180, 0.8)",
           "rgba(31, 119, 180, 0.8)",
           "rgba(31, 119, 180, 0.8)",
           "rgba(31, 119, 180, 0.8)",
           "rgba(31, 119, 180, 0.8)",
           "rgba(31, 119, 180, 0.8)",
           "rgba(0, 0, 0, 0.8)",
           "rgba(50, 120, 180, 0.8)",
           "rgba(100, 240, 105, 0.8)",
           "rgba(150, 105, 30, 0.8)",
           "rgba(200, 225, 210, 0.8)",
           "rgba(250, 90, 135, 0.8)",
           "rgba(45, 210, 60, 0.8)",
           "rgba(95, 75, 240, 0.8)",
           "rgba(145, 195, 165, 0.8)",
           "rgba(195, 60, 90, 0.8)",
           "rgba(44, 160, 44, 0.8)",
           "rgba(44, 160, 44, 0.8)",
           "rgba(44, 160, 44, 0.8)",
           "rgba(44, 160, 44, 0.8)",
           "rgba(44, 160, 44, 0.8)",
           "rgba(44, 160, 44, 0.8)",
           "rgba(44, 160, 44, 0.8)",
           "rgba(44, 160, 44, 0.8)",
           "rgba(44, 160, 44, 0.8)",
           "rgba(44, 160, 44, 0.8)",
           "rgba(44, 160, 44, 0.8)",
           "rgba(44, 160, 44, 0.8)",
           "rgba(44, 160, 44, 0.8)",
           "rgba(44, 160, 44, 0.8)",
           "rgba(44, 160, 44, 0.8)",
           "rgba(44, 160, 44, 0.8)",
           "rgba(44, 160, 44, 0.8)",
           "rgba(44, 160, 44, 0.8)",
           "rgba(44, 160, 44, 0.8)",
           "rgba(44, 160, 44, 0.8)"
          ],
          "label": [
           "Obs 0",
           "Obs 1",
           "Obs 2",
           "Obs 3",
           "Obs 4",
           "Obs 5",
           "Obs 6",
           "Obs 7",
           "Obs 8",
           "Obs 9",
           "Obs 10",
           "Obs 11",
           "Obs 12",
           "Obs 13",
           "Obs 14",
           "Obs 15",
           "Obs 16",
           "Obs 17",
           "Obs 18",
           "Obs 19",
           "Biomarker_0",
           "Biomarker_1",
           "Biomarker_2",
           "Biomarker_3",
           "Biomarker_4",
           "Biomarker_5",
           "Biomarker_6",
           "Biomarker_7",
           "Biomarker_8",
           "Biomarker_9",
           "2023-01-01 00:00:00",
           "2023-01-02 00:00:00",
           "2023-01-03 00:00:00",
           "2023-01-04 00:00:00",
           "2023-01-05 00:00:00",
           "2023-01-06 00:00:00",
           "2023-01-07 00:00:00",
           "2023-01-08 00:00:00",
           "2023-01-09 00:00:00",
           "2023-01-10 00:00:00",
           "2023-01-11 00:00:00",
           "2023-01-12 00:00:00",
           "2023-01-13 00:00:00",
           "2023-01-14 00:00:00",
           "2023-01-15 00:00:00",
           "2023-01-16 00:00:00",
           "2023-01-17 00:00:00",
           "2023-01-18 00:00:00",
           "2023-01-19 00:00:00",
           "2023-01-20 00:00:00"
          ],
          "line": {
           "color": "black",
           "width": 0.5
          },
          "pad": 15,
          "thickness": 20
         },
         "type": "sankey"
        }
       ],
       "layout": {
        "autosize": true,
        "font": {
         "size": 10
        },
        "height": 600,
        "margin": {
         "b": 100,
         "l": 50,
         "pad": 4,
         "r": 50,
         "t": 100
        },
        "template": {
         "data": {
          "bar": [
           {
            "error_x": {
             "color": "#2a3f5f"
            },
            "error_y": {
             "color": "#2a3f5f"
            },
            "marker": {
             "line": {
              "color": "#E5ECF6",
              "width": 0.5
             },
             "pattern": {
              "fillmode": "overlay",
              "size": 10,
              "solidity": 0.2
             }
            },
            "type": "bar"
           }
          ],
          "barpolar": [
           {
            "marker": {
             "line": {
              "color": "#E5ECF6",
              "width": 0.5
             },
             "pattern": {
              "fillmode": "overlay",
              "size": 10,
              "solidity": 0.2
             }
            },
            "type": "barpolar"
           }
          ],
          "carpet": [
           {
            "aaxis": {
             "endlinecolor": "#2a3f5f",
             "gridcolor": "white",
             "linecolor": "white",
             "minorgridcolor": "white",
             "startlinecolor": "#2a3f5f"
            },
            "baxis": {
             "endlinecolor": "#2a3f5f",
             "gridcolor": "white",
             "linecolor": "white",
             "minorgridcolor": "white",
             "startlinecolor": "#2a3f5f"
            },
            "type": "carpet"
           }
          ],
          "choropleth": [
           {
            "colorbar": {
             "outlinewidth": 0,
             "ticks": ""
            },
            "type": "choropleth"
           }
          ],
          "contour": [
           {
            "colorbar": {
             "outlinewidth": 0,
             "ticks": ""
            },
            "colorscale": [
             [
              0,
              "#0d0887"
             ],
             [
              0.1111111111111111,
              "#46039f"
             ],
             [
              0.2222222222222222,
              "#7201a8"
             ],
             [
              0.3333333333333333,
              "#9c179e"
             ],
             [
              0.4444444444444444,
              "#bd3786"
             ],
             [
              0.5555555555555556,
              "#d8576b"
             ],
             [
              0.6666666666666666,
              "#ed7953"
             ],
             [
              0.7777777777777778,
              "#fb9f3a"
             ],
             [
              0.8888888888888888,
              "#fdca26"
             ],
             [
              1,
              "#f0f921"
             ]
            ],
            "type": "contour"
           }
          ],
          "contourcarpet": [
           {
            "colorbar": {
             "outlinewidth": 0,
             "ticks": ""
            },
            "type": "contourcarpet"
           }
          ],
          "heatmap": [
           {
            "colorbar": {
             "outlinewidth": 0,
             "ticks": ""
            },
            "colorscale": [
             [
              0,
              "#0d0887"
             ],
             [
              0.1111111111111111,
              "#46039f"
             ],
             [
              0.2222222222222222,
              "#7201a8"
             ],
             [
              0.3333333333333333,
              "#9c179e"
             ],
             [
              0.4444444444444444,
              "#bd3786"
             ],
             [
              0.5555555555555556,
              "#d8576b"
             ],
             [
              0.6666666666666666,
              "#ed7953"
             ],
             [
              0.7777777777777778,
              "#fb9f3a"
             ],
             [
              0.8888888888888888,
              "#fdca26"
             ],
             [
              1,
              "#f0f921"
             ]
            ],
            "type": "heatmap"
           }
          ],
          "histogram": [
           {
            "marker": {
             "pattern": {
              "fillmode": "overlay",
              "size": 10,
              "solidity": 0.2
             }
            },
            "type": "histogram"
           }
          ],
          "histogram2d": [
           {
            "colorbar": {
             "outlinewidth": 0,
             "ticks": ""
            },
            "colorscale": [
             [
              0,
              "#0d0887"
             ],
             [
              0.1111111111111111,
              "#46039f"
             ],
             [
              0.2222222222222222,
              "#7201a8"
             ],
             [
              0.3333333333333333,
              "#9c179e"
             ],
             [
              0.4444444444444444,
              "#bd3786"
             ],
             [
              0.5555555555555556,
              "#d8576b"
             ],
             [
              0.6666666666666666,
              "#ed7953"
             ],
             [
              0.7777777777777778,
              "#fb9f3a"
             ],
             [
              0.8888888888888888,
              "#fdca26"
             ],
             [
              1,
              "#f0f921"
             ]
            ],
            "type": "histogram2d"
           }
          ],
          "histogram2dcontour": [
           {
            "colorbar": {
             "outlinewidth": 0,
             "ticks": ""
            },
            "colorscale": [
             [
              0,
              "#0d0887"
             ],
             [
              0.1111111111111111,
              "#46039f"
             ],
             [
              0.2222222222222222,
              "#7201a8"
             ],
             [
              0.3333333333333333,
              "#9c179e"
             ],
             [
              0.4444444444444444,
              "#bd3786"
             ],
             [
              0.5555555555555556,
              "#d8576b"
             ],
             [
              0.6666666666666666,
              "#ed7953"
             ],
             [
              0.7777777777777778,
              "#fb9f3a"
             ],
             [
              0.8888888888888888,
              "#fdca26"
             ],
             [
              1,
              "#f0f921"
             ]
            ],
            "type": "histogram2dcontour"
           }
          ],
          "mesh3d": [
           {
            "colorbar": {
             "outlinewidth": 0,
             "ticks": ""
            },
            "type": "mesh3d"
           }
          ],
          "parcoords": [
           {
            "line": {
             "colorbar": {
              "outlinewidth": 0,
              "ticks": ""
             }
            },
            "type": "parcoords"
           }
          ],
          "pie": [
           {
            "automargin": true,
            "type": "pie"
           }
          ],
          "scatter": [
           {
            "fillpattern": {
             "fillmode": "overlay",
             "size": 10,
             "solidity": 0.2
            },
            "type": "scatter"
           }
          ],
          "scatter3d": [
           {
            "line": {
             "colorbar": {
              "outlinewidth": 0,
              "ticks": ""
             }
            },
            "marker": {
             "colorbar": {
              "outlinewidth": 0,
              "ticks": ""
             }
            },
            "type": "scatter3d"
           }
          ],
          "scattercarpet": [
           {
            "marker": {
             "colorbar": {
              "outlinewidth": 0,
              "ticks": ""
             }
            },
            "type": "scattercarpet"
           }
          ],
          "scattergeo": [
           {
            "marker": {
             "colorbar": {
              "outlinewidth": 0,
              "ticks": ""
             }
            },
            "type": "scattergeo"
           }
          ],
          "scattergl": [
           {
            "marker": {
             "colorbar": {
              "outlinewidth": 0,
              "ticks": ""
             }
            },
            "type": "scattergl"
           }
          ],
          "scattermap": [
           {
            "marker": {
             "colorbar": {
              "outlinewidth": 0,
              "ticks": ""
             }
            },
            "type": "scattermap"
           }
          ],
          "scattermapbox": [
           {
            "marker": {
             "colorbar": {
              "outlinewidth": 0,
              "ticks": ""
             }
            },
            "type": "scattermapbox"
           }
          ],
          "scatterpolar": [
           {
            "marker": {
             "colorbar": {
              "outlinewidth": 0,
              "ticks": ""
             }
            },
            "type": "scatterpolar"
           }
          ],
          "scatterpolargl": [
           {
            "marker": {
             "colorbar": {
              "outlinewidth": 0,
              "ticks": ""
             }
            },
            "type": "scatterpolargl"
           }
          ],
          "scatterternary": [
           {
            "marker": {
             "colorbar": {
              "outlinewidth": 0,
              "ticks": ""
             }
            },
            "type": "scatterternary"
           }
          ],
          "surface": [
           {
            "colorbar": {
             "outlinewidth": 0,
             "ticks": ""
            },
            "colorscale": [
             [
              0,
              "#0d0887"
             ],
             [
              0.1111111111111111,
              "#46039f"
             ],
             [
              0.2222222222222222,
              "#7201a8"
             ],
             [
              0.3333333333333333,
              "#9c179e"
             ],
             [
              0.4444444444444444,
              "#bd3786"
             ],
             [
              0.5555555555555556,
              "#d8576b"
             ],
             [
              0.6666666666666666,
              "#ed7953"
             ],
             [
              0.7777777777777778,
              "#fb9f3a"
             ],
             [
              0.8888888888888888,
              "#fdca26"
             ],
             [
              1,
              "#f0f921"
             ]
            ],
            "type": "surface"
           }
          ],
          "table": [
           {
            "cells": {
             "fill": {
              "color": "#EBF0F8"
             },
             "line": {
              "color": "white"
             }
            },
            "header": {
             "fill": {
              "color": "#C8D4E3"
             },
             "line": {
              "color": "white"
             }
            },
            "type": "table"
           }
          ]
         },
         "layout": {
          "annotationdefaults": {
           "arrowcolor": "#2a3f5f",
           "arrowhead": 0,
           "arrowwidth": 1
          },
          "autotypenumbers": "strict",
          "coloraxis": {
           "colorbar": {
            "outlinewidth": 0,
            "ticks": ""
           }
          },
          "colorscale": {
           "diverging": [
            [
             0,
             "#8e0152"
            ],
            [
             0.1,
             "#c51b7d"
            ],
            [
             0.2,
             "#de77ae"
            ],
            [
             0.3,
             "#f1b6da"
            ],
            [
             0.4,
             "#fde0ef"
            ],
            [
             0.5,
             "#f7f7f7"
            ],
            [
             0.6,
             "#e6f5d0"
            ],
            [
             0.7,
             "#b8e186"
            ],
            [
             0.8,
             "#7fbc41"
            ],
            [
             0.9,
             "#4d9221"
            ],
            [
             1,
             "#276419"
            ]
           ],
           "sequential": [
            [
             0,
             "#0d0887"
            ],
            [
             0.1111111111111111,
             "#46039f"
            ],
            [
             0.2222222222222222,
             "#7201a8"
            ],
            [
             0.3333333333333333,
             "#9c179e"
            ],
            [
             0.4444444444444444,
             "#bd3786"
            ],
            [
             0.5555555555555556,
             "#d8576b"
            ],
            [
             0.6666666666666666,
             "#ed7953"
            ],
            [
             0.7777777777777778,
             "#fb9f3a"
            ],
            [
             0.8888888888888888,
             "#fdca26"
            ],
            [
             1,
             "#f0f921"
            ]
           ],
           "sequentialminus": [
            [
             0,
             "#0d0887"
            ],
            [
             0.1111111111111111,
             "#46039f"
            ],
            [
             0.2222222222222222,
             "#7201a8"
            ],
            [
             0.3333333333333333,
             "#9c179e"
            ],
            [
             0.4444444444444444,
             "#bd3786"
            ],
            [
             0.5555555555555556,
             "#d8576b"
            ],
            [
             0.6666666666666666,
             "#ed7953"
            ],
            [
             0.7777777777777778,
             "#fb9f3a"
            ],
            [
             0.8888888888888888,
             "#fdca26"
            ],
            [
             1,
             "#f0f921"
            ]
           ]
          },
          "colorway": [
           "#636efa",
           "#EF553B",
           "#00cc96",
           "#ab63fa",
           "#FFA15A",
           "#19d3f3",
           "#FF6692",
           "#B6E880",
           "#FF97FF",
           "#FECB52"
          ],
          "font": {
           "color": "#2a3f5f"
          },
          "geo": {
           "bgcolor": "white",
           "lakecolor": "white",
           "landcolor": "#E5ECF6",
           "showlakes": true,
           "showland": true,
           "subunitcolor": "white"
          },
          "hoverlabel": {
           "align": "left"
          },
          "hovermode": "closest",
          "mapbox": {
           "style": "light"
          },
          "paper_bgcolor": "white",
          "plot_bgcolor": "#E5ECF6",
          "polar": {
           "angularaxis": {
            "gridcolor": "white",
            "linecolor": "white",
            "ticks": ""
           },
           "bgcolor": "#E5ECF6",
           "radialaxis": {
            "gridcolor": "white",
            "linecolor": "white",
            "ticks": ""
           }
          },
          "scene": {
           "xaxis": {
            "backgroundcolor": "#E5ECF6",
            "gridcolor": "white",
            "gridwidth": 2,
            "linecolor": "white",
            "showbackground": true,
            "ticks": "",
            "zerolinecolor": "white"
           },
           "yaxis": {
            "backgroundcolor": "#E5ECF6",
            "gridcolor": "white",
            "gridwidth": 2,
            "linecolor": "white",
            "showbackground": true,
            "ticks": "",
            "zerolinecolor": "white"
           },
           "zaxis": {
            "backgroundcolor": "#E5ECF6",
            "gridcolor": "white",
            "gridwidth": 2,
            "linecolor": "white",
            "showbackground": true,
            "ticks": "",
            "zerolinecolor": "white"
           }
          },
          "shapedefaults": {
           "line": {
            "color": "#2a3f5f"
           }
          },
          "ternary": {
           "aaxis": {
            "gridcolor": "white",
            "linecolor": "white",
            "ticks": ""
           },
           "baxis": {
            "gridcolor": "white",
            "linecolor": "white",
            "ticks": ""
           },
           "bgcolor": "#E5ECF6",
           "caxis": {
            "gridcolor": "white",
            "linecolor": "white",
            "ticks": ""
           }
          },
          "title": {
           "x": 0.05
          },
          "xaxis": {
           "automargin": true,
           "gridcolor": "white",
           "linecolor": "white",
           "ticks": "",
           "title": {
            "standoff": 15
           },
           "zerolinecolor": "white",
           "zerolinewidth": 2
          },
          "yaxis": {
           "automargin": true,
           "gridcolor": "white",
           "linecolor": "white",
           "ticks": "",
           "title": {
            "standoff": 15
           },
           "zerolinecolor": "white",
           "zerolinewidth": 2
          }
         }
        },
        "title": {
         "text": "EHRData Sankey Diagram"
        }
       }
      }
     },
     "metadata": {},
     "output_type": "display_data"
    }
   ],
   "source": [
    "from ehrdata import EHRData\n",
    "\n",
    "# Create sample data\n",
    "n_obs = 50\n",
    "n_vars = 10\n",
    "n_time = 20\n",
    "\n",
    "# Create random data for demonstration\n",
    "X = np.random.randn(n_obs, n_vars)\n",
    "R = np.random.randn(n_obs, n_vars, n_time)\n",
    "\n",
    "# Create dataframes for obs, var, t\n",
    "obs = pd.DataFrame(index=[f\"Patient_{i}\" for i in range(n_obs)])\n",
    "var = pd.DataFrame(index=[f\"Biomarker_{i}\" for i in range(n_vars)])\n",
    "t = pd.DataFrame(index=pd.date_range(\"2023-01-01\", periods=n_time, freq=\"D\"))\n",
    "\n",
    "# Create EHRData object\n",
    "ehr_data = EHRData(X=X, R=R, obs=obs, var=var, t=t)\n",
    "\n",
    "plot_ehrdata_sankey(ehr_data)"
   ]
  },
  {
   "cell_type": "code",
   "execution_count": 13,
   "id": "961e3372",
   "metadata": {},
   "outputs": [
    {
     "data": {
      "application/vnd.plotly.v1+json": {
       "config": {
        "plotlyServerURL": "https://plot.ly"
       },
       "data": [
        {
         "line": {
          "color": "rgba(0, 0, 0, 0.8)",
          "width": 2
         },
         "marker": {
          "color": "rgba(0, 0, 0, 0.8)",
          "size": 6
         },
         "mode": "lines+markers",
         "name": "Var 0",
         "type": "scatter",
         "x": {
          "bdata": "AAECAwQFBgcICQoLDA0ODxAREhM=",
          "dtype": "i1"
         },
         "xaxis": "x",
         "y": {
          "bdata": "AEppKoDNxD9/KceSC7PYv1c8KkDB4dc/VGsjBpnNub/IA4DEK4CXvxaWdOOjqec/SwCeEzT+2j+8jVgd+T/QvwtEoW7ltfc/K2av2Avc7b/yvSNnZlj7Pz2xeKnNO+0/ICw1+f+c978qoHKqg+vGPxDeV02rg+y/fHDWwkCg0T+UDoh+y0vhvyQSXjTosvY/NLPqFCQJ4b8q4sHn5/74vw==",
          "dtype": "f8"
         },
         "yaxis": "y"
        },
        {
         "line": {
          "color": "rgba(50, 120, 180, 0.8)",
          "width": 2
         },
         "marker": {
          "color": "rgba(50, 120, 180, 0.8)",
          "size": 6
         },
         "mode": "lines+markers",
         "name": "Var 1",
         "type": "scatter",
         "x": {
          "bdata": "AAECAwQFBgcICQoLDA0ODxAREhM=",
          "dtype": "i1"
         },
         "xaxis": "x2",
         "y": {
          "bdata": "htO/jCgmqb8Pr7Pk85DzPzYsHXL9V+Y/XXkaEpd737+9yNazV6oKwG3Bed6Yb+k/VlaFYcEz1b9GLZiNRofVv4eoY/1ZNOc/moGDohYYyz+HndVmraT7v8KfzHlWZ/W/fsGr4PF7yj+f4dHYc2fyv7jXCEdMisY/k5258kX34z+xjqsWxk3kP/NmF6BAH/a/ar/GTJ+Z1b+i9mIMDParvw==",
          "dtype": "f8"
         },
         "yaxis": "y2"
        },
        {
         "line": {
          "color": "rgba(100, 240, 105, 0.8)",
          "width": 2
         },
         "marker": {
          "color": "rgba(100, 240, 105, 0.8)",
          "size": 6
         },
         "mode": "lines+markers",
         "name": "Var 2",
         "type": "scatter",
         "x": {
          "bdata": "AAECAwQFBgcICQoLDA0ODxAREhM=",
          "dtype": "i1"
         },
         "xaxis": "x3",
         "y": {
          "bdata": "XCosbnQG1r8eRKlG+T7lP8ajbJ9pkfC/8o8x+TaBnj/+mV31sVrsP6sRzDw3y/y/oi8mJ0Qp5r+DCXmzpIgCwNRiMRKxc8K/68fC+XS14j/gnEh21jTrP8zhkRxWSO+/qI6XKOu5178Ds51USgTwv7bu6vaMrPI/Ndg8FGmaAsBIg/lu0FfFP/660H9qF9y/leb/UHNE5D+QQeAwW4fZvw==",
          "dtype": "f8"
         },
         "yaxis": "y3"
        },
        {
         "line": {
          "color": "rgba(150, 105, 30, 0.8)",
          "width": 2
         },
         "marker": {
          "color": "rgba(150, 105, 30, 0.8)",
          "size": 6
         },
         "mode": "lines+markers",
         "name": "Var 3",
         "type": "scatter",
         "x": {
          "bdata": "AAECAwQFBgcICQoLDA0ODxAREhM=",
          "dtype": "i1"
         },
         "xaxis": "x4",
         "y": {
          "bdata": "2l29pxS0379U7ikCLAX0PydLSX0PLOs/EPfH6tsF0L+DfmT9xJPjv+dZ+fO6aPw/4GPMy0Ik8L/7F0QM7lbGv4a34lHNf+q/BkaQGpQ84z8ABT4zmzu7v8P5A9QoIvG/735BODAc3r/U54FltNzYv/vcYmG+0Mg/OOdQ7VSvq7/s2JIDkCTxP8O6R5GhTu8/+EqYUsT3279cSyM83n/6Pw==",
          "dtype": "f8"
         },
         "yaxis": "y4"
        },
        {
         "line": {
          "color": "rgba(200, 225, 210, 0.8)",
          "width": 2
         },
         "marker": {
          "color": "rgba(200, 225, 210, 0.8)",
          "size": 6
         },
         "mode": "lines+markers",
         "name": "Var 4",
         "type": "scatter",
         "x": {
          "bdata": "AAECAwQFBgcICQoLDA0ODxAREhM=",
          "dtype": "i1"
         },
         "xaxis": "x5",
         "y": {
          "bdata": "4sU8W2ky3z+2EOyNS235vyOYPF8CQu2/HnnD/cP/hj/AyKNGIzWwv9OLg3/7B/I/ojqlH06K4r/V/N5B4unjvz1bssNlBP6/05ZU5qBs9r+jZUCvLNjyPxmKn9aZptE//HVSsOPz8r9CxeczFsmZvyIZ1vziQfM/eq1gHYaf/L8pWwvO0irzv/Pd4rGFZOs/lJnHs325/z/gSJ84AJHkvw==",
          "dtype": "f8"
         },
         "yaxis": "y5"
        },
        {
         "line": {
          "color": "rgba(0, 0, 0, 0.8)",
          "width": 2
         },
         "marker": {
          "color": "rgba(0, 0, 0, 0.8)",
          "size": 6
         },
         "mode": "lines+markers",
         "name": "Var 0",
         "type": "scatter",
         "x": {
          "bdata": "AAECAwQFBgcICQoLDA0ODxAREhM=",
          "dtype": "i1"
         },
         "xaxis": "x6",
         "y": {
          "bdata": "LAmC2dHCAMAIrdbBHB7VPyE78H+20+m/GedI3V9u8b/ifPnI98TDv5V1y2fDfP6/p9nJoo9MAUCnBo4YcNH5PwmOrHTsDfG/CeybeFP08r/naV/YkKfTvxutRJLtGcu/B04CjrMB579Krrf/gKO/vwbiruhuLOc/GNm6BMg4/D8zPwM5jFLkv64/P1BIvNC/zSU7XH+s7D9q/JlvDcjKvw==",
          "dtype": "f8"
         },
         "yaxis": "y6"
        },
        {
         "line": {
          "color": "rgba(50, 120, 180, 0.8)",
          "width": 2
         },
         "marker": {
          "color": "rgba(50, 120, 180, 0.8)",
          "size": 6
         },
         "mode": "lines+markers",
         "name": "Var 1",
         "type": "scatter",
         "x": {
          "bdata": "AAECAwQFBgcICQoLDA0ODxAREhM=",
          "dtype": "i1"
         },
         "xaxis": "x7",
         "y": {
          "bdata": "HnXmOb2F2D97iH+PHMfjvxeToyfZZ+M/a1k6GoynyT+s0XtRJ8rxvxhM9/36duC/MBnPnog/0T+zFsKFAB3Tv4bBd4xqhZ0/r9Bgc6GV2j/qRO38+oHoPzjPgkqhp/c/FL8grjDs7T+qPKOhbtfbP30q3Ywmr+M/YSJSCwf/5D+RlxzjFnH4P2vFP8rLKgFAYt5LlmxT4j+K1PR7UD7oPw==",
          "dtype": "f8"
         },
         "yaxis": "y7"
        },
        {
         "line": {
          "color": "rgba(100, 240, 105, 0.8)",
          "width": 2
         },
         "marker": {
          "color": "rgba(100, 240, 105, 0.8)",
          "size": 6
         },
         "mode": "lines+markers",
         "name": "Var 2",
         "type": "scatter",
         "x": {
          "bdata": "AAECAwQFBgcICQoLDA0ODxAREhM=",
          "dtype": "i1"
         },
         "xaxis": "x8",
         "y": {
          "bdata": "lK42+PG67j+PkDKO4K64vzfDbF3ejtO/9Aj8GPy9/r//CrFQLRy4P0BPwMJkAca/ivDK1Kk7+T95SzkOddHov0aNbHgdx9g/pljdhnOA2b/jHlvoCEf4vxL8iUtB1vA/g3r0jPqp7797/pudD1LXP7cVUUdRxMg/EfGSoVCc8r+p+VccKqjQvwKHhRwTI+e/7I9yKNeCzL+CVCpZbUDcvw==",
          "dtype": "f8"
         },
         "yaxis": "y8"
        },
        {
         "line": {
          "color": "rgba(150, 105, 30, 0.8)",
          "width": 2
         },
         "marker": {
          "color": "rgba(150, 105, 30, 0.8)",
          "size": 6
         },
         "mode": "lines+markers",
         "name": "Var 3",
         "type": "scatter",
         "x": {
          "bdata": "AAECAwQFBgcICQoLDA0ODxAREhM=",
          "dtype": "i1"
         },
         "xaxis": "x9",
         "y": {
          "bdata": "VPr3WOx42D/kNWUdZ9fBPyMFWpcn8sG/uE7IBmfi779PXwg20zuyP89zAjJjjf6/LwQXYiQO6D84WzSwGc7oP4cye69kHQLA3KjGhsqz0L+cVIjeztfiv9VNRtaB3Oy/d4m+GmtzyL9jMND3vh6ZPxu296ACRuW/I6+M6xkg+T/VvO+XKsTwv9442TIdJPE/mBxDwRz80D8f+dOfudEAwA==",
          "dtype": "f8"
         },
         "yaxis": "y9"
        },
        {
         "line": {
          "color": "rgba(200, 225, 210, 0.8)",
          "width": 2
         },
         "marker": {
          "color": "rgba(200, 225, 210, 0.8)",
          "size": 6
         },
         "mode": "lines+markers",
         "name": "Var 4",
         "type": "scatter",
         "x": {
          "bdata": "AAECAwQFBgcICQoLDA0ODxAREhM=",
          "dtype": "i1"
         },
         "xaxis": "x10",
         "y": {
          "bdata": "M3ww0g39qz9xnPqxvJfgPzHMVMpAxPo/cu30TT6x8T8qyG3bO03eP+5zRU97OeW/QN+JOkCt778M8XJhvrH3v80f8glG9pK/Hsl9VeYd3T/d8emNWoXivz2VBp78vdQ/N+WAyLfc8T+BkYMPTELdvwOnIgqrf/6/o6JGofye+T/B08u5RyruP9XWOyaxXN+/anMGTM4N/j+ctaZaHx/yvw==",
          "dtype": "f8"
         },
         "yaxis": "y10"
        },
        {
         "line": {
          "color": "rgba(0, 0, 0, 0.8)",
          "width": 2
         },
         "marker": {
          "color": "rgba(0, 0, 0, 0.8)",
          "size": 6
         },
         "mode": "lines+markers",
         "name": "Var 0",
         "type": "scatter",
         "x": {
          "bdata": "AAECAwQFBgcICQoLDA0ODxAREhM=",
          "dtype": "i1"
         },
         "xaxis": "x11",
         "y": {
          "bdata": "GxSe0A4X+L/BIuBObLHtP+EuQwT6tu6/dT4mhPCO9z9wULMisVfiP27IH3VtpeI/BMh6jTMf47+Lgy9rcrzJP5lP8ifsG8u/zdqqKQMH8L8smnBd4Sr6P5ouGUHOPOu/VmBx6FPe1T9+5TuFUK32P4N8IhoVV9A/fcws7i0dzT/8wD/JhVq6v4CwpM8cgcG/g1SyAXd19z9ifwt1D6vovw==",
          "dtype": "f8"
         },
         "yaxis": "y11"
        },
        {
         "line": {
          "color": "rgba(50, 120, 180, 0.8)",
          "width": 2
         },
         "marker": {
          "color": "rgba(50, 120, 180, 0.8)",
          "size": 6
         },
         "mode": "lines+markers",
         "name": "Var 1",
         "type": "scatter",
         "x": {
          "bdata": "AAECAwQFBgcICQoLDA0ODxAREhM=",
          "dtype": "i1"
         },
         "xaxis": "x12",
         "y": {
          "bdata": "FI9iI6NDxz8bSJRNra13v2UJtZV1kPa/J4FHE5JOwj/yEUKQGsCgvxuqvzyEqeI/Hfw9AqZw7T9G3RWLdrPVvx/v9DqvMLw/xLFxi+Px9b9V4gpW8+/av4HtrSHLdee/ncsMhqj997+zUG7lG1PRPx4eYP1WlPO/4z7RIB2i6L8nek/ddqzQvwGoSvvIytY/AN2fhYVZ97+bysiaqrfevw==",
          "dtype": "f8"
         },
         "yaxis": "y12"
        },
        {
         "line": {
          "color": "rgba(100, 240, 105, 0.8)",
          "width": 2
         },
         "marker": {
          "color": "rgba(100, 240, 105, 0.8)",
          "size": 6
         },
         "mode": "lines+markers",
         "name": "Var 2",
         "type": "scatter",
         "x": {
          "bdata": "AAECAwQFBgcICQoLDA0ODxAREhM=",
          "dtype": "i1"
         },
         "xaxis": "x13",
         "y": {
          "bdata": "SO41Vk7h8D+/fKfIdVfkP/d8oftC9Pc/5wnBfqFj5j/+je66/KyHv6K2yI7L6Lo/qWytxBGk6b8YKysYBQ/+P71c0bcvguO/a/8icclG9z+WZyJQJMrov/NiOW0S4vq/p17lGbPZ8j8fSD5wKWfpv0YMjxqW8N6/5eMTFJahAEBCIjK5uQ/0P7Qd8ffubNW/EEgkSAlW9z80yYQRw7XgPw==",
          "dtype": "f8"
         },
         "yaxis": "y13"
        },
        {
         "line": {
          "color": "rgba(150, 105, 30, 0.8)",
          "width": 2
         },
         "marker": {
          "color": "rgba(150, 105, 30, 0.8)",
          "size": 6
         },
         "mode": "lines+markers",
         "name": "Var 3",
         "type": "scatter",
         "x": {
          "bdata": "AAECAwQFBgcICQoLDA0ODxAREhM=",
          "dtype": "i1"
         },
         "xaxis": "x14",
         "y": {
          "bdata": "uRLuUFfisT8ZBnzWZZv4v8TTC/vtZdC/EzeT45Vb1L88BAWBRa70P/YqQpkWHu4/Bkz5Fx5+5r+tnHprxYzIvxGpO4i0b7C/D91V+Wmq5D/YZY1peLHnP42Gh9dmRfi/VFx/HICz17/JggxBH03iv+sDxxcSXZ4/nz8Iv/vt4r9hOWkolEb1v7cFQoIUNPu/9hsEYWFw2r86EtvuQETxvw==",
          "dtype": "f8"
         },
         "yaxis": "y14"
        },
        {
         "line": {
          "color": "rgba(200, 225, 210, 0.8)",
          "width": 2
         },
         "marker": {
          "color": "rgba(200, 225, 210, 0.8)",
          "size": 6
         },
         "mode": "lines+markers",
         "name": "Var 4",
         "type": "scatter",
         "x": {
          "bdata": "AAECAwQFBgcICQoLDA0ODxAREhM=",
          "dtype": "i1"
         },
         "xaxis": "x15",
         "y": {
          "bdata": "6irX9UF4+b/4hPCQYYjlP6UJz69ggPO/Np9PrWd39D+cVwV8//W0v6/Bzgv3lew/Dzsdjqqb2D8/3J0sDrH8P44mM5QoSOO/mcEtozjJ0b+qIGs5tAbxP4F75MbBT+u/8+aD9tPT1b+YDG9hHCT/P8XuVcMQ7wPAjYwtZRFg1r/1lZ1WPQ7rPw4KOcdq0PW/7cbO8mTi9b/ajX6BnX/GPw==",
          "dtype": "f8"
         },
         "yaxis": "y15"
        },
        {
         "line": {
          "color": "rgba(0, 0, 0, 0.8)",
          "width": 2
         },
         "marker": {
          "color": "rgba(0, 0, 0, 0.8)",
          "size": 6
         },
         "mode": "lines+markers",
         "name": "Var 0",
         "type": "scatter",
         "x": {
          "bdata": "AAECAwQFBgcICQoLDA0ODxAREhM=",
          "dtype": "i1"
         },
         "xaxis": "x16",
         "y": {
          "bdata": "3EmrIrui8j/FTfZlUtziP1g6EJTWL/U/knG1f9qA7L/r5MfNvPbsv4NS+dgruNu/unYNKMXZxz/DBdMyrjO3vybhXbk6pOs/EeudV0yrxj/8VZgh0pH0v4EddvgSDeO/UugEfAOF4T+jaWfoL0L6vwwZGWMxDeQ/cTqYKvZY5z/FXmCf9yjzv+9PdPJV7fu/krrVecIO4T+ACiSAvVTpPw==",
          "dtype": "f8"
         },
         "yaxis": "y16"
        },
        {
         "line": {
          "color": "rgba(50, 120, 180, 0.8)",
          "width": 2
         },
         "marker": {
          "color": "rgba(50, 120, 180, 0.8)",
          "size": 6
         },
         "mode": "lines+markers",
         "name": "Var 1",
         "type": "scatter",
         "x": {
          "bdata": "AAECAwQFBgcICQoLDA0ODxAREhM=",
          "dtype": "i1"
         },
         "xaxis": "x17",
         "y": {
          "bdata": "ZDhjRjCH8j8uVzY670H4v/Nvy5+mEt+/XIQskNZCzj+fwUxd15rqv2AsGo1C7rm/2VEcWdlU6b9uGhBog0v0P8QSot/lwv2/pzHSew4D4z9OhoJpVpXbP1CKKavSmvO/hYZ0cyhT8L/0NtFpShrfvyJEr88SmPo/o8MgEYv66b+VwwluRY3jv93vat67GeY/9QDXi0XRxr+bo9AkV5n6vw==",
          "dtype": "f8"
         },
         "yaxis": "y17"
        },
        {
         "line": {
          "color": "rgba(100, 240, 105, 0.8)",
          "width": 2
         },
         "marker": {
          "color": "rgba(100, 240, 105, 0.8)",
          "size": 6
         },
         "mode": "lines+markers",
         "name": "Var 2",
         "type": "scatter",
         "x": {
          "bdata": "AAECAwQFBgcICQoLDA0ODxAREhM=",
          "dtype": "i1"
         },
         "xaxis": "x18",
         "y": {
          "bdata": "SsLASkivwz9A4aXPmDCkP42OOjm0gfQ/8ARZshWK+L+ooPUAqooCQPI0uUrHdvO/dWrE/gV15j9wRaaVcm6PP9p27UbzX/E/vf01reOL878jynhWDkHpv/uvMWgk3eE/m1Zs3Hx+kL9LtshQVbjWP7EQYhOzlsW/rvlPOzjW1b/Zp/WX+s7kv1xYAWb+X7K/woqEUuas57+LS1E0uhjpPw==",
          "dtype": "f8"
         },
         "yaxis": "y18"
        },
        {
         "line": {
          "color": "rgba(150, 105, 30, 0.8)",
          "width": 2
         },
         "marker": {
          "color": "rgba(150, 105, 30, 0.8)",
          "size": 6
         },
         "mode": "lines+markers",
         "name": "Var 3",
         "type": "scatter",
         "x": {
          "bdata": "AAECAwQFBgcICQoLDA0ODxAREhM=",
          "dtype": "i1"
         },
         "xaxis": "x19",
         "y": {
          "bdata": "HxMJEK+58L/VKoD9ORDgP8UrdQEq6+q/DfAwNwNT7z+IAjdcwviuv8rDettlTMk/yAx9ITRS1z9nbf5CXpDhv6MNzeRNwMu/JXhb960U4T+/DNWvtgzWPx7TdNDbXOA/2zGbGFsN+r/LXwg8h3/zP4LA1F1nf/U/plQhX1VN9D/kCU3OFavRPyqX4Oojqvm/2qysZ1ENzL8XFU5XTTrWvw==",
          "dtype": "f8"
         },
         "yaxis": "y19"
        },
        {
         "line": {
          "color": "rgba(200, 225, 210, 0.8)",
          "width": 2
         },
         "marker": {
          "color": "rgba(200, 225, 210, 0.8)",
          "size": 6
         },
         "mode": "lines+markers",
         "name": "Var 4",
         "type": "scatter",
         "x": {
          "bdata": "AAECAwQFBgcICQoLDA0ODxAREhM=",
          "dtype": "i1"
         },
         "xaxis": "x20",
         "y": {
          "bdata": "EADjuEht5L/j/D5nRhvzP2yXYCfUPvU/sOUz4cda9b9f4J78o2D2P3IsTkZAPOy/Y4PB56HHuD+qZ0KazHriv1q0PYGtisY/1xu7fapS5r9BYLcVR4vtv1enIqj6Auk/Hf0ce4hP9L846zqmTHTpvy49Qfph4u6/ktEYgFi46z9Hdd5lCtzwv2XaI0BnbOu/1x3oUWwP5z/kszVJr6fuPw==",
          "dtype": "f8"
         },
         "yaxis": "y20"
        },
        {
         "line": {
          "color": "rgba(0, 0, 0, 0.8)",
          "width": 2
         },
         "marker": {
          "color": "rgba(0, 0, 0, 0.8)",
          "size": 6
         },
         "mode": "lines+markers",
         "name": "Var 0",
         "type": "scatter",
         "x": {
          "bdata": "AAECAwQFBgcICQoLDA0ODxAREhM=",
          "dtype": "i1"
         },
         "xaxis": "x21",
         "y": {
          "bdata": "fF6n+6V18r/M6Jr+S8TkP7YLMLTRCvi/EWUxueP67D9MzeTrYJ7kvwNGo7udVQXAnIh99Qd/7j744Fe+sLTxP5lKczQ9sPa/Cey4cPvN5T/xBnQiReK7v1SMbJVC1vo/jTInV7teuz8QJBRmBNnxv5QuDWfajADAMxUcGI6PyL8SKGJBH6T0P9/xXbAg0s2/96MuyTsh6T/Z0o5Rce/kPw==",
          "dtype": "f8"
         },
         "yaxis": "y21"
        },
        {
         "line": {
          "color": "rgba(50, 120, 180, 0.8)",
          "width": 2
         },
         "marker": {
          "color": "rgba(50, 120, 180, 0.8)",
          "size": 6
         },
         "mode": "lines+markers",
         "name": "Var 1",
         "type": "scatter",
         "x": {
          "bdata": "AAECAwQFBgcICQoLDA0ODxAREhM=",
          "dtype": "i1"
         },
         "xaxis": "x22",
         "y": {
          "bdata": "LoU+Q5Zl97+lwlJS2Q7vv3qyg8y6d+W/W3wSrZpR6z//u/3Th6O+v7dNkvgugOi/eVopLIdB1T92Qa1YbOLfPzd278ZJZuU/Oa7PE4mY778OH2U446Plvy2d6/EkUeO/uyWQFyuNBcDcPYkqrzLoP6Ms9QDnn8k/W0potiTb2z9ANVbLxyjtP+lVcgXI7qS/EHcgzsEg6D/JxuulBhDDvw==",
          "dtype": "f8"
         },
         "yaxis": "y22"
        },
        {
         "line": {
          "color": "rgba(100, 240, 105, 0.8)",
          "width": 2
         },
         "marker": {
          "color": "rgba(100, 240, 105, 0.8)",
          "size": 6
         },
         "mode": "lines+markers",
         "name": "Var 2",
         "type": "scatter",
         "x": {
          "bdata": "AAECAwQFBgcICQoLDA0ODxAREhM=",
          "dtype": "i1"
         },
         "xaxis": "x23",
         "y": {
          "bdata": "QV4XSd458D9vQJLCSf/dP2J412M0dME/cdIfsw2C0D8L0VeH17/tv2Fq0+s2WPC/WCvzbvEe6L97M+j/T4HrP4U0+Zk/4ui/KMxfKB3y878X2ZG9OzvwP97Dh+94q+g/npMS/WWO/T+SaM4PLCH1P5t+0yfZfABATs8wp7Kg57/7yzBi3jn+P9Ox7jEi/cO/yUXxfMF8rT9uVD0I8N/pPw==",
          "dtype": "f8"
         },
         "yaxis": "y23"
        },
        {
         "line": {
          "color": "rgba(150, 105, 30, 0.8)",
          "width": 2
         },
         "marker": {
          "color": "rgba(150, 105, 30, 0.8)",
          "size": 6
         },
         "mode": "lines+markers",
         "name": "Var 3",
         "type": "scatter",
         "x": {
          "bdata": "AAECAwQFBgcICQoLDA0ODxAREhM=",
          "dtype": "i1"
         },
         "xaxis": "x24",
         "y": {
          "bdata": "71tCMI7C1D9JI27zxeX8v4/mX9Ejs+c/XGetMFjbv7+4GtSy1u/4v6CLXU98is4/TKvpFiKh6z9Ff7MSRdrBP9qNMD5cVN+/pD58uEP16T8yGZv8K4r2P9ctHwoo9fy/++ZPagHp+b+2T+5TLvOxvwzp6qCXz++/oGl5wikR+D86QLqYHA6VP/Yu38dGENa/+w6jH2t3AkCfdcAjFhThPw==",
          "dtype": "f8"
         },
         "yaxis": "y24"
        },
        {
         "line": {
          "color": "rgba(200, 225, 210, 0.8)",
          "width": 2
         },
         "marker": {
          "color": "rgba(200, 225, 210, 0.8)",
          "size": 6
         },
         "mode": "lines+markers",
         "name": "Var 4",
         "type": "scatter",
         "x": {
          "bdata": "AAECAwQFBgcICQoLDA0ODxAREhM=",
          "dtype": "i1"
         },
         "xaxis": "x25",
         "y": {
          "bdata": "/1NOSHOM2z8XVmTtVAy5P28BLL5Rm9A/nu4fKvy82781wW7bRJHyv4d9g/fNhP+/DYxQbeXL979p7pKj0c/kvzF7UdpV3sC/0THlCdD98D8Lv7uIOWHjv40amOkZfvG/Su6wujDepL8TJS5Mesnzv0tWqEFkxsm/PR9HiLDBxL+Z4x60o1HMPzTzJSsn2J8/i7yxjFUM7D9H4px3WG0HwA==",
          "dtype": "f8"
         },
         "yaxis": "y25"
        }
       ],
       "layout": {
        "annotations": [
         {
          "font": {
           "size": 16
          },
          "showarrow": false,
          "text": "Biomarker_0",
          "x": 0.08,
          "xanchor": "center",
          "xref": "paper",
          "y": 1,
          "yanchor": "bottom",
          "yref": "paper"
         },
         {
          "font": {
           "size": 16
          },
          "showarrow": false,
          "text": "Biomarker_1",
          "x": 0.29000000000000004,
          "xanchor": "center",
          "xref": "paper",
          "y": 1,
          "yanchor": "bottom",
          "yref": "paper"
         },
         {
          "font": {
           "size": 16
          },
          "showarrow": false,
          "text": "Biomarker_2",
          "x": 0.5,
          "xanchor": "center",
          "xref": "paper",
          "y": 1,
          "yanchor": "bottom",
          "yref": "paper"
         },
         {
          "font": {
           "size": 16
          },
          "showarrow": false,
          "text": "Biomarker_3",
          "x": 0.71,
          "xanchor": "center",
          "xref": "paper",
          "y": 1,
          "yanchor": "bottom",
          "yref": "paper"
         },
         {
          "font": {
           "size": 16
          },
          "showarrow": false,
          "text": "Biomarker_4",
          "x": 0.92,
          "xanchor": "center",
          "xref": "paper",
          "y": 1,
          "yanchor": "bottom",
          "yref": "paper"
         },
         {
          "font": {
           "size": 16
          },
          "showarrow": false,
          "text": "Biomarker_0",
          "x": 0.08,
          "xanchor": "center",
          "xref": "paper",
          "y": 0.79,
          "yanchor": "bottom",
          "yref": "paper"
         },
         {
          "font": {
           "size": 16
          },
          "showarrow": false,
          "text": "Biomarker_1",
          "x": 0.29000000000000004,
          "xanchor": "center",
          "xref": "paper",
          "y": 0.79,
          "yanchor": "bottom",
          "yref": "paper"
         },
         {
          "font": {
           "size": 16
          },
          "showarrow": false,
          "text": "Biomarker_2",
          "x": 0.5,
          "xanchor": "center",
          "xref": "paper",
          "y": 0.79,
          "yanchor": "bottom",
          "yref": "paper"
         },
         {
          "font": {
           "size": 16
          },
          "showarrow": false,
          "text": "Biomarker_3",
          "x": 0.71,
          "xanchor": "center",
          "xref": "paper",
          "y": 0.79,
          "yanchor": "bottom",
          "yref": "paper"
         },
         {
          "font": {
           "size": 16
          },
          "showarrow": false,
          "text": "Biomarker_4",
          "x": 0.92,
          "xanchor": "center",
          "xref": "paper",
          "y": 0.79,
          "yanchor": "bottom",
          "yref": "paper"
         },
         {
          "font": {
           "size": 16
          },
          "showarrow": false,
          "text": "Biomarker_0",
          "x": 0.08,
          "xanchor": "center",
          "xref": "paper",
          "y": 0.5800000000000001,
          "yanchor": "bottom",
          "yref": "paper"
         },
         {
          "font": {
           "size": 16
          },
          "showarrow": false,
          "text": "Biomarker_1",
          "x": 0.29000000000000004,
          "xanchor": "center",
          "xref": "paper",
          "y": 0.5800000000000001,
          "yanchor": "bottom",
          "yref": "paper"
         },
         {
          "font": {
           "size": 16
          },
          "showarrow": false,
          "text": "Biomarker_2",
          "x": 0.5,
          "xanchor": "center",
          "xref": "paper",
          "y": 0.5800000000000001,
          "yanchor": "bottom",
          "yref": "paper"
         },
         {
          "font": {
           "size": 16
          },
          "showarrow": false,
          "text": "Biomarker_3",
          "x": 0.71,
          "xanchor": "center",
          "xref": "paper",
          "y": 0.5800000000000001,
          "yanchor": "bottom",
          "yref": "paper"
         },
         {
          "font": {
           "size": 16
          },
          "showarrow": false,
          "text": "Biomarker_4",
          "x": 0.92,
          "xanchor": "center",
          "xref": "paper",
          "y": 0.5800000000000001,
          "yanchor": "bottom",
          "yref": "paper"
         },
         {
          "font": {
           "size": 16
          },
          "showarrow": false,
          "text": "Biomarker_0",
          "x": 0.08,
          "xanchor": "center",
          "xref": "paper",
          "y": 0.37,
          "yanchor": "bottom",
          "yref": "paper"
         },
         {
          "font": {
           "size": 16
          },
          "showarrow": false,
          "text": "Biomarker_1",
          "x": 0.29000000000000004,
          "xanchor": "center",
          "xref": "paper",
          "y": 0.37,
          "yanchor": "bottom",
          "yref": "paper"
         },
         {
          "font": {
           "size": 16
          },
          "showarrow": false,
          "text": "Biomarker_2",
          "x": 0.5,
          "xanchor": "center",
          "xref": "paper",
          "y": 0.37,
          "yanchor": "bottom",
          "yref": "paper"
         },
         {
          "font": {
           "size": 16
          },
          "showarrow": false,
          "text": "Biomarker_3",
          "x": 0.71,
          "xanchor": "center",
          "xref": "paper",
          "y": 0.37,
          "yanchor": "bottom",
          "yref": "paper"
         },
         {
          "font": {
           "size": 16
          },
          "showarrow": false,
          "text": "Biomarker_4",
          "x": 0.92,
          "xanchor": "center",
          "xref": "paper",
          "y": 0.37,
          "yanchor": "bottom",
          "yref": "paper"
         },
         {
          "font": {
           "size": 16
          },
          "showarrow": false,
          "text": "Biomarker_0",
          "x": 0.08,
          "xanchor": "center",
          "xref": "paper",
          "y": 0.16,
          "yanchor": "bottom",
          "yref": "paper"
         },
         {
          "font": {
           "size": 16
          },
          "showarrow": false,
          "text": "Biomarker_1",
          "x": 0.29000000000000004,
          "xanchor": "center",
          "xref": "paper",
          "y": 0.16,
          "yanchor": "bottom",
          "yref": "paper"
         },
         {
          "font": {
           "size": 16
          },
          "showarrow": false,
          "text": "Biomarker_2",
          "x": 0.5,
          "xanchor": "center",
          "xref": "paper",
          "y": 0.16,
          "yanchor": "bottom",
          "yref": "paper"
         },
         {
          "font": {
           "size": 16
          },
          "showarrow": false,
          "text": "Biomarker_3",
          "x": 0.71,
          "xanchor": "center",
          "xref": "paper",
          "y": 0.16,
          "yanchor": "bottom",
          "yref": "paper"
         },
         {
          "font": {
           "size": 16
          },
          "showarrow": false,
          "text": "Biomarker_4",
          "x": 0.92,
          "xanchor": "center",
          "xref": "paper",
          "y": 0.16,
          "yanchor": "bottom",
          "yref": "paper"
         }
        ],
        "height": 1250,
        "showlegend": false,
        "template": {
         "data": {
          "bar": [
           {
            "error_x": {
             "color": "#2a3f5f"
            },
            "error_y": {
             "color": "#2a3f5f"
            },
            "marker": {
             "line": {
              "color": "#E5ECF6",
              "width": 0.5
             },
             "pattern": {
              "fillmode": "overlay",
              "size": 10,
              "solidity": 0.2
             }
            },
            "type": "bar"
           }
          ],
          "barpolar": [
           {
            "marker": {
             "line": {
              "color": "#E5ECF6",
              "width": 0.5
             },
             "pattern": {
              "fillmode": "overlay",
              "size": 10,
              "solidity": 0.2
             }
            },
            "type": "barpolar"
           }
          ],
          "carpet": [
           {
            "aaxis": {
             "endlinecolor": "#2a3f5f",
             "gridcolor": "white",
             "linecolor": "white",
             "minorgridcolor": "white",
             "startlinecolor": "#2a3f5f"
            },
            "baxis": {
             "endlinecolor": "#2a3f5f",
             "gridcolor": "white",
             "linecolor": "white",
             "minorgridcolor": "white",
             "startlinecolor": "#2a3f5f"
            },
            "type": "carpet"
           }
          ],
          "choropleth": [
           {
            "colorbar": {
             "outlinewidth": 0,
             "ticks": ""
            },
            "type": "choropleth"
           }
          ],
          "contour": [
           {
            "colorbar": {
             "outlinewidth": 0,
             "ticks": ""
            },
            "colorscale": [
             [
              0,
              "#0d0887"
             ],
             [
              0.1111111111111111,
              "#46039f"
             ],
             [
              0.2222222222222222,
              "#7201a8"
             ],
             [
              0.3333333333333333,
              "#9c179e"
             ],
             [
              0.4444444444444444,
              "#bd3786"
             ],
             [
              0.5555555555555556,
              "#d8576b"
             ],
             [
              0.6666666666666666,
              "#ed7953"
             ],
             [
              0.7777777777777778,
              "#fb9f3a"
             ],
             [
              0.8888888888888888,
              "#fdca26"
             ],
             [
              1,
              "#f0f921"
             ]
            ],
            "type": "contour"
           }
          ],
          "contourcarpet": [
           {
            "colorbar": {
             "outlinewidth": 0,
             "ticks": ""
            },
            "type": "contourcarpet"
           }
          ],
          "heatmap": [
           {
            "colorbar": {
             "outlinewidth": 0,
             "ticks": ""
            },
            "colorscale": [
             [
              0,
              "#0d0887"
             ],
             [
              0.1111111111111111,
              "#46039f"
             ],
             [
              0.2222222222222222,
              "#7201a8"
             ],
             [
              0.3333333333333333,
              "#9c179e"
             ],
             [
              0.4444444444444444,
              "#bd3786"
             ],
             [
              0.5555555555555556,
              "#d8576b"
             ],
             [
              0.6666666666666666,
              "#ed7953"
             ],
             [
              0.7777777777777778,
              "#fb9f3a"
             ],
             [
              0.8888888888888888,
              "#fdca26"
             ],
             [
              1,
              "#f0f921"
             ]
            ],
            "type": "heatmap"
           }
          ],
          "histogram": [
           {
            "marker": {
             "pattern": {
              "fillmode": "overlay",
              "size": 10,
              "solidity": 0.2
             }
            },
            "type": "histogram"
           }
          ],
          "histogram2d": [
           {
            "colorbar": {
             "outlinewidth": 0,
             "ticks": ""
            },
            "colorscale": [
             [
              0,
              "#0d0887"
             ],
             [
              0.1111111111111111,
              "#46039f"
             ],
             [
              0.2222222222222222,
              "#7201a8"
             ],
             [
              0.3333333333333333,
              "#9c179e"
             ],
             [
              0.4444444444444444,
              "#bd3786"
             ],
             [
              0.5555555555555556,
              "#d8576b"
             ],
             [
              0.6666666666666666,
              "#ed7953"
             ],
             [
              0.7777777777777778,
              "#fb9f3a"
             ],
             [
              0.8888888888888888,
              "#fdca26"
             ],
             [
              1,
              "#f0f921"
             ]
            ],
            "type": "histogram2d"
           }
          ],
          "histogram2dcontour": [
           {
            "colorbar": {
             "outlinewidth": 0,
             "ticks": ""
            },
            "colorscale": [
             [
              0,
              "#0d0887"
             ],
             [
              0.1111111111111111,
              "#46039f"
             ],
             [
              0.2222222222222222,
              "#7201a8"
             ],
             [
              0.3333333333333333,
              "#9c179e"
             ],
             [
              0.4444444444444444,
              "#bd3786"
             ],
             [
              0.5555555555555556,
              "#d8576b"
             ],
             [
              0.6666666666666666,
              "#ed7953"
             ],
             [
              0.7777777777777778,
              "#fb9f3a"
             ],
             [
              0.8888888888888888,
              "#fdca26"
             ],
             [
              1,
              "#f0f921"
             ]
            ],
            "type": "histogram2dcontour"
           }
          ],
          "mesh3d": [
           {
            "colorbar": {
             "outlinewidth": 0,
             "ticks": ""
            },
            "type": "mesh3d"
           }
          ],
          "parcoords": [
           {
            "line": {
             "colorbar": {
              "outlinewidth": 0,
              "ticks": ""
             }
            },
            "type": "parcoords"
           }
          ],
          "pie": [
           {
            "automargin": true,
            "type": "pie"
           }
          ],
          "scatter": [
           {
            "fillpattern": {
             "fillmode": "overlay",
             "size": 10,
             "solidity": 0.2
            },
            "type": "scatter"
           }
          ],
          "scatter3d": [
           {
            "line": {
             "colorbar": {
              "outlinewidth": 0,
              "ticks": ""
             }
            },
            "marker": {
             "colorbar": {
              "outlinewidth": 0,
              "ticks": ""
             }
            },
            "type": "scatter3d"
           }
          ],
          "scattercarpet": [
           {
            "marker": {
             "colorbar": {
              "outlinewidth": 0,
              "ticks": ""
             }
            },
            "type": "scattercarpet"
           }
          ],
          "scattergeo": [
           {
            "marker": {
             "colorbar": {
              "outlinewidth": 0,
              "ticks": ""
             }
            },
            "type": "scattergeo"
           }
          ],
          "scattergl": [
           {
            "marker": {
             "colorbar": {
              "outlinewidth": 0,
              "ticks": ""
             }
            },
            "type": "scattergl"
           }
          ],
          "scattermap": [
           {
            "marker": {
             "colorbar": {
              "outlinewidth": 0,
              "ticks": ""
             }
            },
            "type": "scattermap"
           }
          ],
          "scattermapbox": [
           {
            "marker": {
             "colorbar": {
              "outlinewidth": 0,
              "ticks": ""
             }
            },
            "type": "scattermapbox"
           }
          ],
          "scatterpolar": [
           {
            "marker": {
             "colorbar": {
              "outlinewidth": 0,
              "ticks": ""
             }
            },
            "type": "scatterpolar"
           }
          ],
          "scatterpolargl": [
           {
            "marker": {
             "colorbar": {
              "outlinewidth": 0,
              "ticks": ""
             }
            },
            "type": "scatterpolargl"
           }
          ],
          "scatterternary": [
           {
            "marker": {
             "colorbar": {
              "outlinewidth": 0,
              "ticks": ""
             }
            },
            "type": "scatterternary"
           }
          ],
          "surface": [
           {
            "colorbar": {
             "outlinewidth": 0,
             "ticks": ""
            },
            "colorscale": [
             [
              0,
              "#0d0887"
             ],
             [
              0.1111111111111111,
              "#46039f"
             ],
             [
              0.2222222222222222,
              "#7201a8"
             ],
             [
              0.3333333333333333,
              "#9c179e"
             ],
             [
              0.4444444444444444,
              "#bd3786"
             ],
             [
              0.5555555555555556,
              "#d8576b"
             ],
             [
              0.6666666666666666,
              "#ed7953"
             ],
             [
              0.7777777777777778,
              "#fb9f3a"
             ],
             [
              0.8888888888888888,
              "#fdca26"
             ],
             [
              1,
              "#f0f921"
             ]
            ],
            "type": "surface"
           }
          ],
          "table": [
           {
            "cells": {
             "fill": {
              "color": "#EBF0F8"
             },
             "line": {
              "color": "white"
             }
            },
            "header": {
             "fill": {
              "color": "#C8D4E3"
             },
             "line": {
              "color": "white"
             }
            },
            "type": "table"
           }
          ]
         },
         "layout": {
          "annotationdefaults": {
           "arrowcolor": "#2a3f5f",
           "arrowhead": 0,
           "arrowwidth": 1
          },
          "autotypenumbers": "strict",
          "coloraxis": {
           "colorbar": {
            "outlinewidth": 0,
            "ticks": ""
           }
          },
          "colorscale": {
           "diverging": [
            [
             0,
             "#8e0152"
            ],
            [
             0.1,
             "#c51b7d"
            ],
            [
             0.2,
             "#de77ae"
            ],
            [
             0.3,
             "#f1b6da"
            ],
            [
             0.4,
             "#fde0ef"
            ],
            [
             0.5,
             "#f7f7f7"
            ],
            [
             0.6,
             "#e6f5d0"
            ],
            [
             0.7,
             "#b8e186"
            ],
            [
             0.8,
             "#7fbc41"
            ],
            [
             0.9,
             "#4d9221"
            ],
            [
             1,
             "#276419"
            ]
           ],
           "sequential": [
            [
             0,
             "#0d0887"
            ],
            [
             0.1111111111111111,
             "#46039f"
            ],
            [
             0.2222222222222222,
             "#7201a8"
            ],
            [
             0.3333333333333333,
             "#9c179e"
            ],
            [
             0.4444444444444444,
             "#bd3786"
            ],
            [
             0.5555555555555556,
             "#d8576b"
            ],
            [
             0.6666666666666666,
             "#ed7953"
            ],
            [
             0.7777777777777778,
             "#fb9f3a"
            ],
            [
             0.8888888888888888,
             "#fdca26"
            ],
            [
             1,
             "#f0f921"
            ]
           ],
           "sequentialminus": [
            [
             0,
             "#0d0887"
            ],
            [
             0.1111111111111111,
             "#46039f"
            ],
            [
             0.2222222222222222,
             "#7201a8"
            ],
            [
             0.3333333333333333,
             "#9c179e"
            ],
            [
             0.4444444444444444,
             "#bd3786"
            ],
            [
             0.5555555555555556,
             "#d8576b"
            ],
            [
             0.6666666666666666,
             "#ed7953"
            ],
            [
             0.7777777777777778,
             "#fb9f3a"
            ],
            [
             0.8888888888888888,
             "#fdca26"
            ],
            [
             1,
             "#f0f921"
            ]
           ]
          },
          "colorway": [
           "#636efa",
           "#EF553B",
           "#00cc96",
           "#ab63fa",
           "#FFA15A",
           "#19d3f3",
           "#FF6692",
           "#B6E880",
           "#FF97FF",
           "#FECB52"
          ],
          "font": {
           "color": "#2a3f5f"
          },
          "geo": {
           "bgcolor": "white",
           "lakecolor": "white",
           "landcolor": "#E5ECF6",
           "showlakes": true,
           "showland": true,
           "subunitcolor": "white"
          },
          "hoverlabel": {
           "align": "left"
          },
          "hovermode": "closest",
          "mapbox": {
           "style": "light"
          },
          "paper_bgcolor": "white",
          "plot_bgcolor": "#E5ECF6",
          "polar": {
           "angularaxis": {
            "gridcolor": "white",
            "linecolor": "white",
            "ticks": ""
           },
           "bgcolor": "#E5ECF6",
           "radialaxis": {
            "gridcolor": "white",
            "linecolor": "white",
            "ticks": ""
           }
          },
          "scene": {
           "xaxis": {
            "backgroundcolor": "#E5ECF6",
            "gridcolor": "white",
            "gridwidth": 2,
            "linecolor": "white",
            "showbackground": true,
            "ticks": "",
            "zerolinecolor": "white"
           },
           "yaxis": {
            "backgroundcolor": "#E5ECF6",
            "gridcolor": "white",
            "gridwidth": 2,
            "linecolor": "white",
            "showbackground": true,
            "ticks": "",
            "zerolinecolor": "white"
           },
           "zaxis": {
            "backgroundcolor": "#E5ECF6",
            "gridcolor": "white",
            "gridwidth": 2,
            "linecolor": "white",
            "showbackground": true,
            "ticks": "",
            "zerolinecolor": "white"
           }
          },
          "shapedefaults": {
           "line": {
            "color": "#2a3f5f"
           }
          },
          "ternary": {
           "aaxis": {
            "gridcolor": "white",
            "linecolor": "white",
            "ticks": ""
           },
           "baxis": {
            "gridcolor": "white",
            "linecolor": "white",
            "ticks": ""
           },
           "bgcolor": "#E5ECF6",
           "caxis": {
            "gridcolor": "white",
            "linecolor": "white",
            "ticks": ""
           }
          },
          "title": {
           "x": 0.05
          },
          "xaxis": {
           "automargin": true,
           "gridcolor": "white",
           "linecolor": "white",
           "ticks": "",
           "title": {
            "standoff": 15
           },
           "zerolinecolor": "white",
           "zerolinewidth": 2
          },
          "yaxis": {
           "automargin": true,
           "gridcolor": "white",
           "linecolor": "white",
           "ticks": "",
           "title": {
            "standoff": 15
           },
           "zerolinecolor": "white",
           "zerolinewidth": 2
          }
         }
        },
        "title": {
         "text": "EHRData Time Series Visualization"
        },
        "width": 1000,
        "xaxis": {
         "anchor": "y",
         "domain": [
          0,
          0.16
         ],
         "matches": "x21",
         "showticklabels": false
        },
        "xaxis10": {
         "anchor": "y10",
         "domain": [
          0.8400000000000001,
          1
         ],
         "matches": "x25",
         "showticklabels": false
        },
        "xaxis11": {
         "anchor": "y11",
         "domain": [
          0,
          0.16
         ],
         "matches": "x21",
         "showticklabels": false
        },
        "xaxis12": {
         "anchor": "y12",
         "domain": [
          0.21,
          0.37
         ],
         "matches": "x22",
         "showticklabels": false
        },
        "xaxis13": {
         "anchor": "y13",
         "domain": [
          0.42,
          0.5800000000000001
         ],
         "matches": "x23",
         "showticklabels": false
        },
        "xaxis14": {
         "anchor": "y14",
         "domain": [
          0.63,
          0.79
         ],
         "matches": "x24",
         "showticklabels": false
        },
        "xaxis15": {
         "anchor": "y15",
         "domain": [
          0.8400000000000001,
          1
         ],
         "matches": "x25",
         "showticklabels": false
        },
        "xaxis16": {
         "anchor": "y16",
         "domain": [
          0,
          0.16
         ],
         "matches": "x21",
         "showticklabels": false
        },
        "xaxis17": {
         "anchor": "y17",
         "domain": [
          0.21,
          0.37
         ],
         "matches": "x22",
         "showticklabels": false
        },
        "xaxis18": {
         "anchor": "y18",
         "domain": [
          0.42,
          0.5800000000000001
         ],
         "matches": "x23",
         "showticklabels": false
        },
        "xaxis19": {
         "anchor": "y19",
         "domain": [
          0.63,
          0.79
         ],
         "matches": "x24",
         "showticklabels": false
        },
        "xaxis2": {
         "anchor": "y2",
         "domain": [
          0.21,
          0.37
         ],
         "matches": "x22",
         "showticklabels": false
        },
        "xaxis20": {
         "anchor": "y20",
         "domain": [
          0.8400000000000001,
          1
         ],
         "matches": "x25",
         "showticklabels": false
        },
        "xaxis21": {
         "anchor": "y21",
         "domain": [
          0,
          0.16
         ],
         "title": {
          "text": "Time"
         }
        },
        "xaxis22": {
         "anchor": "y22",
         "domain": [
          0.21,
          0.37
         ],
         "title": {
          "text": "Time"
         }
        },
        "xaxis23": {
         "anchor": "y23",
         "domain": [
          0.42,
          0.5800000000000001
         ],
         "title": {
          "text": "Time"
         }
        },
        "xaxis24": {
         "anchor": "y24",
         "domain": [
          0.63,
          0.79
         ],
         "title": {
          "text": "Time"
         }
        },
        "xaxis25": {
         "anchor": "y25",
         "domain": [
          0.8400000000000001,
          1
         ],
         "title": {
          "text": "Time"
         }
        },
        "xaxis3": {
         "anchor": "y3",
         "domain": [
          0.42,
          0.5800000000000001
         ],
         "matches": "x23",
         "showticklabels": false
        },
        "xaxis4": {
         "anchor": "y4",
         "domain": [
          0.63,
          0.79
         ],
         "matches": "x24",
         "showticklabels": false
        },
        "xaxis5": {
         "anchor": "y5",
         "domain": [
          0.8400000000000001,
          1
         ],
         "matches": "x25",
         "showticklabels": false
        },
        "xaxis6": {
         "anchor": "y6",
         "domain": [
          0,
          0.16
         ],
         "matches": "x21",
         "showticklabels": false
        },
        "xaxis7": {
         "anchor": "y7",
         "domain": [
          0.21,
          0.37
         ],
         "matches": "x22",
         "showticklabels": false
        },
        "xaxis8": {
         "anchor": "y8",
         "domain": [
          0.42,
          0.5800000000000001
         ],
         "matches": "x23",
         "showticklabels": false
        },
        "xaxis9": {
         "anchor": "y9",
         "domain": [
          0.63,
          0.79
         ],
         "matches": "x24",
         "showticklabels": false
        },
        "yaxis": {
         "anchor": "x",
         "domain": [
          0.8400000000000001,
          1
         ],
         "title": {
          "text": "Obs 0"
         }
        },
        "yaxis10": {
         "anchor": "x10",
         "domain": [
          0.63,
          0.79
         ]
        },
        "yaxis11": {
         "anchor": "x11",
         "domain": [
          0.42,
          0.5800000000000001
         ],
         "title": {
          "text": "Obs 2"
         }
        },
        "yaxis12": {
         "anchor": "x12",
         "domain": [
          0.42,
          0.5800000000000001
         ]
        },
        "yaxis13": {
         "anchor": "x13",
         "domain": [
          0.42,
          0.5800000000000001
         ]
        },
        "yaxis14": {
         "anchor": "x14",
         "domain": [
          0.42,
          0.5800000000000001
         ]
        },
        "yaxis15": {
         "anchor": "x15",
         "domain": [
          0.42,
          0.5800000000000001
         ]
        },
        "yaxis16": {
         "anchor": "x16",
         "domain": [
          0.21,
          0.37
         ],
         "title": {
          "text": "Obs 3"
         }
        },
        "yaxis17": {
         "anchor": "x17",
         "domain": [
          0.21,
          0.37
         ]
        },
        "yaxis18": {
         "anchor": "x18",
         "domain": [
          0.21,
          0.37
         ]
        },
        "yaxis19": {
         "anchor": "x19",
         "domain": [
          0.21,
          0.37
         ]
        },
        "yaxis2": {
         "anchor": "x2",
         "domain": [
          0.8400000000000001,
          1
         ]
        },
        "yaxis20": {
         "anchor": "x20",
         "domain": [
          0.21,
          0.37
         ]
        },
        "yaxis21": {
         "anchor": "x21",
         "domain": [
          0,
          0.16
         ],
         "title": {
          "text": "Obs 4"
         }
        },
        "yaxis22": {
         "anchor": "x22",
         "domain": [
          0,
          0.16
         ]
        },
        "yaxis23": {
         "anchor": "x23",
         "domain": [
          0,
          0.16
         ]
        },
        "yaxis24": {
         "anchor": "x24",
         "domain": [
          0,
          0.16
         ]
        },
        "yaxis25": {
         "anchor": "x25",
         "domain": [
          0,
          0.16
         ]
        },
        "yaxis3": {
         "anchor": "x3",
         "domain": [
          0.8400000000000001,
          1
         ]
        },
        "yaxis4": {
         "anchor": "x4",
         "domain": [
          0.8400000000000001,
          1
         ]
        },
        "yaxis5": {
         "anchor": "x5",
         "domain": [
          0.8400000000000001,
          1
         ]
        },
        "yaxis6": {
         "anchor": "x6",
         "domain": [
          0.63,
          0.79
         ],
         "title": {
          "text": "Obs 1"
         }
        },
        "yaxis7": {
         "anchor": "x7",
         "domain": [
          0.63,
          0.79
         ]
        },
        "yaxis8": {
         "anchor": "x8",
         "domain": [
          0.63,
          0.79
         ]
        },
        "yaxis9": {
         "anchor": "x9",
         "domain": [
          0.63,
          0.79
         ]
        }
       }
      }
     },
     "metadata": {},
     "output_type": "display_data"
    }
   ],
   "source": [
    "plot_ehrdata_3d(ehr_data)"
   ]
  },
  {
   "cell_type": "code",
   "execution_count": null,
   "id": "9df211b3",
   "metadata": {},
   "outputs": [],
   "source": []
  }
 ],
 "metadata": {
  "kernelspec": {
   "display_name": "ehrapy",
   "language": "python",
   "name": "python3"
  },
  "language_info": {
   "codemirror_mode": {
    "name": "ipython",
    "version": 3
   },
   "file_extension": ".py",
   "mimetype": "text/x-python",
   "name": "python",
   "nbconvert_exporter": "python",
   "pygments_lexer": "ipython3",
   "version": "3.12.8"
  }
 },
 "nbformat": 4,
 "nbformat_minor": 5
}
