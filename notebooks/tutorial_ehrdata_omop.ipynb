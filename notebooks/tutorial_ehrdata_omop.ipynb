{
 "cells": [
  {
   "cell_type": "markdown",
   "metadata": {},
   "source": [
    "# Extracting, Loading, and Transforming Data from an OMOP CDM Database with EHRData\n",
    "ehrdata is a flexible data structure which supports useful operations to read the OMOP CDM standard. As a follow, it enables the application of ehrapy- and ecosystem-analyses.\n",
    "\n",
    "ehrdata hosts a suite of functions required to process this data for machine learning models.\n",
    "\n",
    "ehrdata operates on the notion of an \"observation\". One observation usually is information of one person over a specified time interval.\n",
    "Typically, the presence of a person is specified by the definition of a cohort, and the observed time interval is specified by the research question.\n",
    "\n",
    "In the ehrapy ecosystem and tutorials, we try to use language consistent with the OHDSI definitions, concepts, and tools.\n",
    "\n",
    "data in the ehrdata format enables to use and leverage ehrapy's many exploratory analysis functionalities."
   ]
  },
  {
   "cell_type": "markdown",
   "metadata": {},
   "source": [
    "## OMOP\n",
    "[OMOP](https://ohdsi.github.io/CommonDataModel/index.html) is a data model by [OHDSI](https://www.ohdsi.org/)."
   ]
  },
  {
   "cell_type": "markdown",
   "metadata": {},
   "source": [
    "## Demo\n",
    "### MIMIC IV OMOP Demo Dataset\n",
    "Dataset available on [Physionet](https://physionet.org/content/mimic-iv-demo-omop/0.9/).\n",
    "\n",
    "It describes ... .\n",
    "\n",
    "Dataset:<br>\n",
    "Kallfelz, M., Tsvetkova, A., Pollard, T., Kwong, M., Lipori, G., Huser, V., Osborn, J., Hao, S., & Williams, A. (2021). MIMIC-IV demo data in the OMOP Common Data Model (version 0.9). PhysioNet. https://doi.org/10.13026/p1f5-7x35.\n",
    "\n",
    "Physionet:<br>\n",
    "Goldberger, A., Amaral, L., Glass, L., Hausdorff, J., Ivanov, P. C., Mark, R., ... & Stanley, H. E. (2000). PhysioBank, PhysioToolkit, and PhysioNet: Components of a new research resource for complex physiologic signals. Circulation [Online]. 101 (23), pp. e215–e220.\n",
    "\n",
    "### Extract\n",
    "Download data by zip or CLI.\n",
    "\n",
    "### Load\n",
    "Many backends are supported by ehrapy.\n",
    "It is probably a good idea to have the data stored in a RDBMS.\n",
    "\n",
    "Here, we use [duckdb](https://duckdb.org/)'s Python API to load csv tables as they are available from the link above. (which is absolutely useless for immediate purposes but why not)"
   ]
  },
  {
   "cell_type": "code",
   "execution_count": null,
   "metadata": {},
   "outputs": [],
   "source": [
    "%load_ext autoreload\n",
    "%autoreload 2"
   ]
  },
  {
   "cell_type": "code",
   "execution_count": 2,
   "metadata": {},
   "outputs": [],
   "source": [
    "import anndata as ad\n",
    "import duckdb\n",
    "import ehrapy as ep\n",
    "import ehrdata\n",
    "import numpy as np"
   ]
  },
  {
   "cell_type": "markdown",
   "metadata": {},
   "source": [
    "### Set up a local database connection"
   ]
  },
  {
   "cell_type": "code",
   "execution_count": 3,
   "metadata": {},
   "outputs": [],
   "source": [
    "con = duckdb.connect()"
   ]
  },
  {
   "cell_type": "markdown",
   "metadata": {},
   "source": [
    "Load the data into your database"
   ]
  },
  {
   "cell_type": "code",
   "execution_count": 4,
   "metadata": {},
   "outputs": [
    {
     "name": "stdout",
     "output_type": "stream",
     "text": [
      "Load downloaded tables from ehrapy_data/mimic-iv-demo-data-in-the-omop-common-data-model-0.9\n",
      "missing tables:  [['concept'], ['vocabulary'], ['domain'], ['concept_class'], ['concept_relationship'], ['relationship'], ['concept_synonym'], ['concept_ancestor'], ['source_to_concept_map'], ['drug_strength']]\n"
     ]
    }
   ],
   "source": [
    "ehrdata.dt.mimic_iv_omop(backend=\"duckdb\", backend_handle=con)"
   ]
  },
  {
   "cell_type": "markdown",
   "metadata": {},
   "source": [
    "See what tables there are"
   ]
  },
  {
   "cell_type": "code",
   "execution_count": 5,
   "metadata": {},
   "outputs": [
    {
     "data": {
      "text/plain": [
       "[('care_site',),\n",
       " ('cdm_source',),\n",
       " ('cohort',),\n",
       " ('cohort_definition',),\n",
       " ('condition_era',),\n",
       " ('condition_occurrence',),\n",
       " ('cost',),\n",
       " ('death',),\n",
       " ('device_exposure',),\n",
       " ('dose_era',),\n",
       " ('drug_era',),\n",
       " ('drug_exposure',),\n",
       " ('fact_relationship',),\n",
       " ('location',),\n",
       " ('measurement',),\n",
       " ('metadata',),\n",
       " ('note',),\n",
       " ('note_nlp',),\n",
       " ('observation',),\n",
       " ('observation_period',),\n",
       " ('payer_plan_period',),\n",
       " ('person',),\n",
       " ('procedure_occurrence',),\n",
       " ('provider',),\n",
       " ('specimen',),\n",
       " ('visit_detail',),\n",
       " ('visit_occurrence',)]"
      ]
     },
     "execution_count": 5,
     "metadata": {},
     "output_type": "execute_result"
    }
   ],
   "source": [
    "tables = con.execute(\"SHOW TABLES;\").fetchall()\n",
    "tables"
   ]
  },
  {
   "cell_type": "markdown",
   "metadata": {},
   "source": [
    "### Transform\n",
    "ehrapy allows many reproducible, documented transformation steps to get data from its backend into formats that are\n",
    "- useful for machine learning (sklearn & pypots)\n",
    "- useful for exploratory analysis (ehrapy suite)\n",
    "- useful for visualization (vitessce ehrapyviewer)\n",
    "\n"
   ]
  },
  {
   "cell_type": "code",
   "execution_count": 6,
   "metadata": {},
   "outputs": [
    {
     "data": {
      "text/html": [
       "<div>\n",
       "<style scoped>\n",
       "    .dataframe tbody tr th:only-of-type {\n",
       "        vertical-align: middle;\n",
       "    }\n",
       "\n",
       "    .dataframe tbody tr th {\n",
       "        vertical-align: top;\n",
       "    }\n",
       "\n",
       "    .dataframe thead th {\n",
       "        text-align: right;\n",
       "    }\n",
       "</style>\n",
       "<table border=\"1\" class=\"dataframe\">\n",
       "  <thead>\n",
       "    <tr style=\"text-align: right;\">\n",
       "      <th></th>\n",
       "      <th>person_id</th>\n",
       "      <th>gender_concept_id</th>\n",
       "      <th>year_of_birth</th>\n",
       "      <th>month_of_birth</th>\n",
       "      <th>day_of_birth</th>\n",
       "      <th>birth_datetime</th>\n",
       "      <th>race_concept_id</th>\n",
       "      <th>ethnicity_concept_id</th>\n",
       "      <th>location_id</th>\n",
       "      <th>provider_id</th>\n",
       "      <th>care_site_id</th>\n",
       "      <th>person_source_value</th>\n",
       "      <th>gender_source_value</th>\n",
       "      <th>gender_source_concept_id</th>\n",
       "      <th>race_source_value</th>\n",
       "      <th>race_source_concept_id</th>\n",
       "      <th>ethnicity_source_value</th>\n",
       "      <th>ethnicity_source_concept_id</th>\n",
       "    </tr>\n",
       "  </thead>\n",
       "  <tbody>\n",
       "    <tr>\n",
       "      <th>0</th>\n",
       "      <td>3589912774911670296</td>\n",
       "      <td>8507</td>\n",
       "      <td>2095</td>\n",
       "      <td>None</td>\n",
       "      <td>None</td>\n",
       "      <td>None</td>\n",
       "      <td>0</td>\n",
       "      <td>38003563</td>\n",
       "      <td>None</td>\n",
       "      <td>None</td>\n",
       "      <td>None</td>\n",
       "      <td>10009628</td>\n",
       "      <td>M</td>\n",
       "      <td>0</td>\n",
       "      <td>None</td>\n",
       "      <td>0</td>\n",
       "      <td>HISPANIC/LATINO</td>\n",
       "      <td>2000001408</td>\n",
       "    </tr>\n",
       "    <tr>\n",
       "      <th>1</th>\n",
       "      <td>-3210373572193940939</td>\n",
       "      <td>8507</td>\n",
       "      <td>2079</td>\n",
       "      <td>None</td>\n",
       "      <td>None</td>\n",
       "      <td>None</td>\n",
       "      <td>0</td>\n",
       "      <td>38003563</td>\n",
       "      <td>None</td>\n",
       "      <td>None</td>\n",
       "      <td>None</td>\n",
       "      <td>10011398</td>\n",
       "      <td>M</td>\n",
       "      <td>0</td>\n",
       "      <td>None</td>\n",
       "      <td>0</td>\n",
       "      <td>HISPANIC/LATINO</td>\n",
       "      <td>2000001408</td>\n",
       "    </tr>\n",
       "    <tr>\n",
       "      <th>2</th>\n",
       "      <td>-775517641933593374</td>\n",
       "      <td>8507</td>\n",
       "      <td>2149</td>\n",
       "      <td>None</td>\n",
       "      <td>None</td>\n",
       "      <td>None</td>\n",
       "      <td>8516</td>\n",
       "      <td>0</td>\n",
       "      <td>None</td>\n",
       "      <td>None</td>\n",
       "      <td>None</td>\n",
       "      <td>10004235</td>\n",
       "      <td>M</td>\n",
       "      <td>0</td>\n",
       "      <td>BLACK/AFRICAN AMERICAN</td>\n",
       "      <td>2000001406</td>\n",
       "      <td>None</td>\n",
       "      <td>0</td>\n",
       "    </tr>\n",
       "    <tr>\n",
       "      <th>3</th>\n",
       "      <td>-2575767131279873665</td>\n",
       "      <td>8507</td>\n",
       "      <td>2050</td>\n",
       "      <td>None</td>\n",
       "      <td>None</td>\n",
       "      <td>None</td>\n",
       "      <td>8516</td>\n",
       "      <td>0</td>\n",
       "      <td>None</td>\n",
       "      <td>None</td>\n",
       "      <td>None</td>\n",
       "      <td>10024043</td>\n",
       "      <td>M</td>\n",
       "      <td>0</td>\n",
       "      <td>BLACK/AFRICAN AMERICAN</td>\n",
       "      <td>2000001406</td>\n",
       "      <td>None</td>\n",
       "      <td>0</td>\n",
       "    </tr>\n",
       "    <tr>\n",
       "      <th>4</th>\n",
       "      <td>-8970844422700220177</td>\n",
       "      <td>8507</td>\n",
       "      <td>2114</td>\n",
       "      <td>None</td>\n",
       "      <td>None</td>\n",
       "      <td>None</td>\n",
       "      <td>8527</td>\n",
       "      <td>0</td>\n",
       "      <td>None</td>\n",
       "      <td>None</td>\n",
       "      <td>None</td>\n",
       "      <td>10038933</td>\n",
       "      <td>M</td>\n",
       "      <td>0</td>\n",
       "      <td>WHITE</td>\n",
       "      <td>2000001404</td>\n",
       "      <td>None</td>\n",
       "      <td>0</td>\n",
       "    </tr>\n",
       "  </tbody>\n",
       "</table>\n",
       "</div>"
      ],
      "text/plain": [
       "             person_id  gender_concept_id  year_of_birth month_of_birth  \\\n",
       "0  3589912774911670296               8507           2095           None   \n",
       "1 -3210373572193940939               8507           2079           None   \n",
       "2  -775517641933593374               8507           2149           None   \n",
       "3 -2575767131279873665               8507           2050           None   \n",
       "4 -8970844422700220177               8507           2114           None   \n",
       "\n",
       "  day_of_birth birth_datetime  race_concept_id  ethnicity_concept_id  \\\n",
       "0         None           None                0              38003563   \n",
       "1         None           None                0              38003563   \n",
       "2         None           None             8516                     0   \n",
       "3         None           None             8516                     0   \n",
       "4         None           None             8527                     0   \n",
       "\n",
       "  location_id provider_id care_site_id  person_source_value  \\\n",
       "0        None        None         None             10009628   \n",
       "1        None        None         None             10011398   \n",
       "2        None        None         None             10004235   \n",
       "3        None        None         None             10024043   \n",
       "4        None        None         None             10038933   \n",
       "\n",
       "  gender_source_value  gender_source_concept_id       race_source_value  \\\n",
       "0                   M                         0                    None   \n",
       "1                   M                         0                    None   \n",
       "2                   M                         0  BLACK/AFRICAN AMERICAN   \n",
       "3                   M                         0  BLACK/AFRICAN AMERICAN   \n",
       "4                   M                         0                   WHITE   \n",
       "\n",
       "   race_source_concept_id ethnicity_source_value  ethnicity_source_concept_id  \n",
       "0                       0        HISPANIC/LATINO                   2000001408  \n",
       "1                       0        HISPANIC/LATINO                   2000001408  \n",
       "2              2000001406                   None                            0  \n",
       "3              2000001406                   None                            0  \n",
       "4              2000001404                   None                            0  "
      ]
     },
     "execution_count": 6,
     "metadata": {},
     "output_type": "execute_result"
    }
   ],
   "source": [
    "obs = ehrdata.io.extract_person(con)\n",
    "obs.head()"
   ]
  },
  {
   "cell_type": "code",
   "execution_count": 7,
   "metadata": {},
   "outputs": [
    {
     "data": {
      "text/html": [
       "<div>\n",
       "<style scoped>\n",
       "    .dataframe tbody tr th:only-of-type {\n",
       "        vertical-align: middle;\n",
       "    }\n",
       "\n",
       "    .dataframe tbody tr th {\n",
       "        vertical-align: top;\n",
       "    }\n",
       "\n",
       "    .dataframe thead th {\n",
       "        text-align: right;\n",
       "    }\n",
       "</style>\n",
       "<table border=\"1\" class=\"dataframe\">\n",
       "  <thead>\n",
       "    <tr style=\"text-align: right;\">\n",
       "      <th></th>\n",
       "      <th>person_id</th>\n",
       "      <th>gender_concept_id</th>\n",
       "      <th>year_of_birth</th>\n",
       "      <th>month_of_birth</th>\n",
       "      <th>day_of_birth</th>\n",
       "      <th>birth_datetime</th>\n",
       "      <th>race_concept_id</th>\n",
       "      <th>ethnicity_concept_id</th>\n",
       "      <th>location_id</th>\n",
       "      <th>provider_id</th>\n",
       "      <th>...</th>\n",
       "      <th>gender_source_value</th>\n",
       "      <th>gender_source_concept_id</th>\n",
       "      <th>race_source_value</th>\n",
       "      <th>race_source_concept_id</th>\n",
       "      <th>ethnicity_source_value</th>\n",
       "      <th>ethnicity_source_concept_id</th>\n",
       "      <th>observation_period_id</th>\n",
       "      <th>observation_period_start_date</th>\n",
       "      <th>observation_period_end_date</th>\n",
       "      <th>period_type_concept_id</th>\n",
       "    </tr>\n",
       "  </thead>\n",
       "  <tbody>\n",
       "    <tr>\n",
       "      <th>0</th>\n",
       "      <td>-3210373572193940939</td>\n",
       "      <td>8507</td>\n",
       "      <td>2079</td>\n",
       "      <td>None</td>\n",
       "      <td>None</td>\n",
       "      <td>None</td>\n",
       "      <td>0</td>\n",
       "      <td>38003563</td>\n",
       "      <td>None</td>\n",
       "      <td>None</td>\n",
       "      <td>...</td>\n",
       "      <td>M</td>\n",
       "      <td>0</td>\n",
       "      <td>None</td>\n",
       "      <td>0</td>\n",
       "      <td>HISPANIC/LATINO</td>\n",
       "      <td>2000001408</td>\n",
       "      <td>2193156378042005101</td>\n",
       "      <td>2146-05-28</td>\n",
       "      <td>2147-03-26</td>\n",
       "      <td>32828</td>\n",
       "    </tr>\n",
       "    <tr>\n",
       "      <th>1</th>\n",
       "      <td>-775517641933593374</td>\n",
       "      <td>8507</td>\n",
       "      <td>2149</td>\n",
       "      <td>None</td>\n",
       "      <td>None</td>\n",
       "      <td>None</td>\n",
       "      <td>8516</td>\n",
       "      <td>0</td>\n",
       "      <td>None</td>\n",
       "      <td>None</td>\n",
       "      <td>...</td>\n",
       "      <td>M</td>\n",
       "      <td>0</td>\n",
       "      <td>BLACK/AFRICAN AMERICAN</td>\n",
       "      <td>2000001406</td>\n",
       "      <td>None</td>\n",
       "      <td>0</td>\n",
       "      <td>8196716582395037703</td>\n",
       "      <td>2196-02-24</td>\n",
       "      <td>2196-06-22</td>\n",
       "      <td>32828</td>\n",
       "    </tr>\n",
       "    <tr>\n",
       "      <th>2</th>\n",
       "      <td>-2575767131279873665</td>\n",
       "      <td>8507</td>\n",
       "      <td>2050</td>\n",
       "      <td>None</td>\n",
       "      <td>None</td>\n",
       "      <td>None</td>\n",
       "      <td>8516</td>\n",
       "      <td>0</td>\n",
       "      <td>None</td>\n",
       "      <td>None</td>\n",
       "      <td>...</td>\n",
       "      <td>M</td>\n",
       "      <td>0</td>\n",
       "      <td>BLACK/AFRICAN AMERICAN</td>\n",
       "      <td>2000001406</td>\n",
       "      <td>None</td>\n",
       "      <td>0</td>\n",
       "      <td>-4712462436630318946</td>\n",
       "      <td>2116-06-25</td>\n",
       "      <td>2117-06-09</td>\n",
       "      <td>32828</td>\n",
       "    </tr>\n",
       "    <tr>\n",
       "      <th>3</th>\n",
       "      <td>-8970844422700220177</td>\n",
       "      <td>8507</td>\n",
       "      <td>2114</td>\n",
       "      <td>None</td>\n",
       "      <td>None</td>\n",
       "      <td>None</td>\n",
       "      <td>8527</td>\n",
       "      <td>0</td>\n",
       "      <td>None</td>\n",
       "      <td>None</td>\n",
       "      <td>...</td>\n",
       "      <td>M</td>\n",
       "      <td>0</td>\n",
       "      <td>WHITE</td>\n",
       "      <td>2000001404</td>\n",
       "      <td>None</td>\n",
       "      <td>0</td>\n",
       "      <td>-9178218221840740161</td>\n",
       "      <td>2148-09-10</td>\n",
       "      <td>2148-09-23</td>\n",
       "      <td>32828</td>\n",
       "    </tr>\n",
       "    <tr>\n",
       "      <th>4</th>\n",
       "      <td>4668337230155062633</td>\n",
       "      <td>8507</td>\n",
       "      <td>2073</td>\n",
       "      <td>None</td>\n",
       "      <td>None</td>\n",
       "      <td>None</td>\n",
       "      <td>8527</td>\n",
       "      <td>0</td>\n",
       "      <td>None</td>\n",
       "      <td>None</td>\n",
       "      <td>...</td>\n",
       "      <td>M</td>\n",
       "      <td>0</td>\n",
       "      <td>WHITE</td>\n",
       "      <td>2000001404</td>\n",
       "      <td>None</td>\n",
       "      <td>0</td>\n",
       "      <td>4438236770478758867</td>\n",
       "      <td>2116-12-02</td>\n",
       "      <td>2117-12-06</td>\n",
       "      <td>32828</td>\n",
       "    </tr>\n",
       "  </tbody>\n",
       "</table>\n",
       "<p>5 rows × 22 columns</p>\n",
       "</div>"
      ],
      "text/plain": [
       "             person_id  gender_concept_id  year_of_birth month_of_birth  \\\n",
       "0 -3210373572193940939               8507           2079           None   \n",
       "1  -775517641933593374               8507           2149           None   \n",
       "2 -2575767131279873665               8507           2050           None   \n",
       "3 -8970844422700220177               8507           2114           None   \n",
       "4  4668337230155062633               8507           2073           None   \n",
       "\n",
       "  day_of_birth birth_datetime  race_concept_id  ethnicity_concept_id  \\\n",
       "0         None           None                0              38003563   \n",
       "1         None           None             8516                     0   \n",
       "2         None           None             8516                     0   \n",
       "3         None           None             8527                     0   \n",
       "4         None           None             8527                     0   \n",
       "\n",
       "  location_id provider_id  ... gender_source_value  gender_source_concept_id  \\\n",
       "0        None        None  ...                   M                         0   \n",
       "1        None        None  ...                   M                         0   \n",
       "2        None        None  ...                   M                         0   \n",
       "3        None        None  ...                   M                         0   \n",
       "4        None        None  ...                   M                         0   \n",
       "\n",
       "        race_source_value  race_source_concept_id ethnicity_source_value  \\\n",
       "0                    None                       0        HISPANIC/LATINO   \n",
       "1  BLACK/AFRICAN AMERICAN              2000001406                   None   \n",
       "2  BLACK/AFRICAN AMERICAN              2000001406                   None   \n",
       "3                   WHITE              2000001404                   None   \n",
       "4                   WHITE              2000001404                   None   \n",
       "\n",
       "   ethnicity_source_concept_id observation_period_id  \\\n",
       "0                   2000001408   2193156378042005101   \n",
       "1                            0   8196716582395037703   \n",
       "2                            0  -4712462436630318946   \n",
       "3                            0  -9178218221840740161   \n",
       "4                            0   4438236770478758867   \n",
       "\n",
       "   observation_period_start_date  observation_period_end_date  \\\n",
       "0                     2146-05-28                   2147-03-26   \n",
       "1                     2196-02-24                   2196-06-22   \n",
       "2                     2116-06-25                   2117-06-09   \n",
       "3                     2148-09-10                   2148-09-23   \n",
       "4                     2116-12-02                   2117-12-06   \n",
       "\n",
       "  period_type_concept_id  \n",
       "0                  32828  \n",
       "1                  32828  \n",
       "2                  32828  \n",
       "3                  32828  \n",
       "4                  32828  \n",
       "\n",
       "[5 rows x 22 columns]"
      ]
     },
     "execution_count": 7,
     "metadata": {},
     "output_type": "execute_result"
    }
   ],
   "source": [
    "obs2 = ehrdata.io.extract_observation_period(con)\n",
    "obs2.head()"
   ]
  },
  {
   "cell_type": "markdown",
   "metadata": {},
   "source": [
    "##### Interlude - Irregularly sampled time series data\n",
    "Electronic health records can be regarded as (that is, form a model of a person via) irregular sampling irregularly sampled time series.\n",
    "\n",
    "Following notation and explanation from [Horn et al.](https://proceedings.mlr.press/v119/horn20a.html), a time series of a patient can be described as a set of tuples (t, z, m), where t denotes the time, z the observed value, and m a modality description of the measurement.\n",
    "\n",
    "The time series can have different lengths, and a \"typical\" number of observed values might not exist.\n",
    "\n",
    "Generally, an irregularly-sampled time series can be converted into a missing data problem by discretizing the time axis into non-overlapping intervals, and declaring intervals in which no data was sampled as missing (Bahadori & Lipton, 2019). [Horn et al.](https://proceedings.mlr.press/v119/horn20a.html).\n",
    "\n",
    "EHRData's extract_XXXX extracts irregularly sampled time series from OMOP tables XXX.\n",
    "\n",
    "TODO add illustration\n",
    "\n",
    "EHRData's time_interval_table transforms this into the missing data problem with discretized time axis.\n",
    "\n",
    "TODO add illustration\n"
   ]
  },
  {
   "cell_type": "code",
   "execution_count": 8,
   "metadata": {},
   "outputs": [
    {
     "data": {
      "text/html": [
       "<pre>[[[[], []], [[0, 1, 2, 0, 1, 2, -1, -1, 1, -1, -1], [...]], ..., [[], []]],\n",
       " [[[], []], [[-1, 3, 2, 0, 0, 3, 1], [...]], [...], ..., [[], []], [[], []]],\n",
       " [[[523, 548, 413], [2196-02-24T14:53:00.000000, ...]], [...], ..., [[], []]],\n",
       " [[[], []], [[6, 2], [2117-03-29T11:39:00.000000, ...]], ..., [...], [[], []]],\n",
       " [[[577], [2148-09-10T10:15:00.000000]], [[0, 3, ..., -4], ...], ..., [[], []]],\n",
       " [[[], []], [[6, -6, -8, 8, -5, 1, ..., 7, 4, 12, -1, 8], ...], ..., [[], []]],\n",
       " [[[], []], [[-5, -3, -7], [...]], [[3, ...], ...], ..., [[], []], [[], []]],\n",
       " [[[], []], [[], []], [[nan, nan, nan], [...]], ..., [...], [[], []], [[], []]],\n",
       " [[[], []], [[1, 5, 0, 4, -11, 2, 2, 1], [...]], ..., [[], []], [[], []]],\n",
       " [[[], []], [[0, 6, 4, 0, 2, 2, ..., -2, 5, 0, 0, 1, 2], ...], ..., [[], []]],\n",
       " ...,\n",
       " [[[], []], [[-2, -3, -7, -5, -1, -6, -6, -4], [...]], ..., [...], [[], []]],\n",
       " [[[], []], [[], []], [[108, 129, ..., 100], ...], ..., [[], []], [[], []]],\n",
       " [[[], []], [[-2], [2185-06-17T01:14:00.000000]], ..., [[], []], [[], []]],\n",
       " [[[586], [2113-09-14T10:41:00.000000]], [[6, 5], [...]], ..., [...], [[], []]],\n",
       " [[[460], [2115-10-07T18:17:00.000000]], [[0, -3, ..., 0], ...], ..., [[], []]],\n",
       " [[[], []], [[], []], [[], []], [[], ...], ..., [[], []], [[], []], [[], []]],\n",
       " [[[], []], [[0, -3], [2166-08-21T22:21:00.000000, ...]], ..., [...], [[], []]],\n",
       " [[[], []], [[-1, -3, -3, -3, 2, ..., -3, -1, -1, -1, 0], ...], ..., [[], []]],\n",
       " [[[], []], [[0, -2], [2115-12-28T14:45:00.000000, ...]], ..., [...], [[], []]]]\n",
       "--------------------------------------------------------------------------------\n",
       "type: 100 * var * var * var * union[\n",
       "    float64,\n",
       "    datetime64[us]\n",
       "]</pre>"
      ],
      "text/plain": [
       "<Array [[[[], []], [...], ..., [[], []]], ...] type='100 * var * var * var ...'>"
      ]
     },
     "execution_count": 8,
     "metadata": {},
     "output_type": "execute_result"
    }
   ],
   "source": [
    "ts = ehrdata.io.extract_measurement(con)\n",
    "ts"
   ]
  },
  {
   "cell_type": "code",
   "execution_count": 9,
   "metadata": {},
   "outputs": [],
   "source": [
    "time_interval_table = ehrdata.io.time_interval_table(ts, obs2)\n",
    "# ehrdata.io.time_interval_table(\n",
    "#     duckdb_instance=duckdb,\n",
    "#     start_time=\"patient_hospital_entry\",  # TODO: sync with omop lingo; that could be \"cohort index date\", but maybe is something different. Ref: https://ohdsi.github.io/TheBookOfOhdsi/Cohorts.html time zero for the time interval matrix\n",
    "#     observation_duration=250,  # in d, time end for the time interval matrix\n",
    "#     concept_ids=\"all\",  # features to use\n",
    "#     interval_length=1,  # length of the  statustime intervals\n",
    "#     interval_unit=\"minutes\",  # unit of the time intervals\n",
    "# )"
   ]
  },
  {
   "cell_type": "code",
   "execution_count": 13,
   "metadata": {},
   "outputs": [
    {
     "data": {
      "image/png": "[encoded data removed]",
      "text/latex": [
       "$\\displaystyle \\left( 100, \\  1, \\  450\\right)$"
      ],
      "text/plain": [
       "(100, 1, 450)"
      ]
     },
     "execution_count": 13,
     "metadata": {},
     "output_type": "execute_result"
    }
   ],
   "source": [
    "np.array(time_interval_table).shape"
   ]
  },
  {
   "cell_type": "markdown",
   "metadata": {},
   "source": [
    "TODO: all of this within edata. for now assemble it here for a rough vibe check"
   ]
  },
  {
   "cell_type": "code",
   "execution_count": 10,
   "metadata": {},
   "outputs": [
    {
     "data": {
      "text/plain": [
       "AnnData object with n_obs × n_vars = 100 × 0\n",
       "    obs: 'person_id', 'gender_concept_id', 'year_of_birth', 'month_of_birth', 'day_of_birth', 'birth_datetime', 'race_concept_id', 'ethnicity_concept_id', 'location_id', 'provider_id', 'care_site_id', 'person_source_value', 'gender_source_value', 'gender_source_concept_id', 'race_source_value', 'race_source_concept_id', 'ethnicity_source_value', 'ethnicity_source_concept_id', 'observation_period_id', 'observation_period_start_date', 'observation_period_end_date', 'period_type_concept_id'\n",
       "    obsm: 'ts', 'time_interval_table'"
      ]
     },
     "execution_count": 10,
     "metadata": {},
     "output_type": "execute_result"
    }
   ],
   "source": [
    "edata = ad.AnnData(X=None, obs=obs2)\n",
    "edata.obsm[\"ts\"] = ts\n",
    "edata.obsm[\"time_interval_table\"] = np.array(time_interval_table)\n",
    "edata"
   ]
  },
  {
   "cell_type": "code",
   "execution_count": null,
   "metadata": {},
   "outputs": [],
   "source": [
    "# create interval table\n",
    "edata.time_interval_table(\n",
    "    duckdb_instance=duckdb,\n",
    "    start_time=\"patient_hospital_entry\",  # TODO: sync with omop lingo; that could be \"cohort index date\", but maybe is something different. Ref: https://ohdsi.github.io/TheBookOfOhdsi/Cohorts.html time zero for the time interval matrix\n",
    "    observation_duration=250,  # in d, time end for the time interval matrix\n",
    "    concept_ids=\"all\",  # features to use\n",
    "    interval_length=1,  # length of the time intervals\n",
    "    interval_unit=\"minutes\",  # unit of the time intervals\n",
    ")"
   ]
  },
  {
   "cell_type": "code",
   "execution_count": 13,
   "metadata": {},
   "outputs": [
    {
     "data": {
      "image/png": "[encoded data removed]",
      "text/latex": [
       "$\\displaystyle \\left( 100, \\  11, \\  450\\right)$"
      ],
      "text/plain": [
       "(100, 11, 450)"
      ]
     },
     "execution_count": 13,
     "metadata": {},
     "output_type": "execute_result"
    }
   ],
   "source": [
    "# n_patients x n_intervals x n_features\n",
    "np.array(edata.it).shape"
   ]
  },
  {
   "cell_type": "markdown",
   "metadata": {},
   "source": [
    "### EDA\n",
    "#### CohortTracker"
   ]
  },
  {
   "cell_type": "code",
   "execution_count": 11,
   "metadata": {},
   "outputs": [
    {
     "data": {
      "image/png": "[encoded data removed]",
      "text/plain": [
       "<Figure size 640x480 with 1 Axes>"
      ]
     },
     "metadata": {},
     "output_type": "display_data"
    }
   ],
   "source": [
    "ct = ep.tl.CohortTracker(\n",
    "    edata,\n",
    "    columns=[\"gender_concept_id\", \"year_of_birth\", \"race_concept_id\", \"period_type_concept_id\"],\n",
    "    categorical=[\"gender_concept_id\", \"race_concept_id\", \"period_type_concept_id\"],\n",
    ")\n",
    "\n",
    "ct(edata)\n",
    "\n",
    "ct.plot_cohort_barplot(\n",
    "    legend_labels={\n",
    "        0: \"Unknown\",\n",
    "        8516: \"Black or African American\",\n",
    "        \"year_of_birth\": \"Birthyear (artificial)\",\n",
    "        8507: \"Male\",\n",
    "        8532: \"Female\",\n",
    "    },\n",
    "    legend_subtitles_names={\"gender_concept_id\": \"Gender\"},\n",
    ")"
   ]
  },
  {
   "cell_type": "markdown",
   "metadata": {},
   "source": [
    "#### Missing Values"
   ]
  },
  {
   "cell_type": "code",
   "execution_count": 31,
   "metadata": {},
   "outputs": [
    {
     "data": {
      "text/plain": [
       "<Axes: >"
      ]
     },
     "execution_count": 31,
     "metadata": {},
     "output_type": "execute_result"
    },
    {
     "data": {
      "image/png": "[encoded data removed]",
      "text/plain": [
       "<Figure size 2500x1000 with 2 Axes>"
      ]
     },
     "metadata": {},
     "output_type": "display_data"
    }
   ],
   "source": [
    "# ep.pl.missing_values_matrix(edata_as_anndata)  # TODO: also time series?"
   ]
  },
  {
   "cell_type": "markdown",
   "metadata": {},
   "source": [
    "### Machine Learning\n",
    "Ehrapy seamlessly integrates with machine learning libraries such as sklearn, or dedicated time series ML libraries like pypots.\n",
    "\n",
    "#### PyPOTS impute or classify?\n",
    "See [PyPOTS](https://docs.pypots.com/en/latest/examples.html) which operates on the time interval table generated by ehrapy.\n",
    "\n",
    "```\n",
    "!pip install pypots\n",
    "```"
   ]
  },
  {
   "cell_type": "code",
   "execution_count": 35,
   "metadata": {},
   "outputs": [],
   "source": [
    "from pypots.imputation import SAITS"
   ]
  },
  {
   "cell_type": "code",
   "execution_count": 42,
   "metadata": {},
   "outputs": [
    {
     "name": "stderr",
     "output_type": "stream",
     "text": [
      "2024-08-23 14:11:30 [INFO]: No given device, using default device: cpu\n",
      "2024-08-23 14:11:30 [INFO]: Model files will be saved to examples/saits/20240823_T141130\n",
      "2024-08-23 14:11:30 [INFO]: Tensorboard file will be saved to examples/saits/20240823_T141130/tensorboard\n",
      "2024-08-23 14:11:30 [INFO]: SAITS initialized with the given hyperparameters, the number of trainable parameters: 2,419,814\n"
     ]
    }
   ],
   "source": [
    "# initialize the model\n",
    "saits = SAITS(\n",
    "    n_steps=11,\n",
    "    n_features=450,\n",
    "    n_layers=2,\n",
    "    d_model=256,\n",
    "    d_ffn=128,\n",
    "    n_heads=4,\n",
    "    d_k=64,\n",
    "    d_v=64,\n",
    "    dropout=0.1,\n",
    "    epochs=3,\n",
    "    saving_path=\"examples/saits\",  # set the path for saving tensorboard logging file and model checkpoint\n",
    "    model_saving_strategy=\"best\",  # only save the model with the best validation performance\n",
    ")"
   ]
  },
  {
   "cell_type": "code",
   "execution_count": 43,
   "metadata": {},
   "outputs": [
    {
     "name": "stderr",
     "output_type": "stream",
     "text": [
      "2024-08-23 14:11:32 [INFO]: Epoch 001 - training loss: 153.7664\n",
      "2024-08-23 14:11:32 [INFO]: Saved the model to examples/saits/20240823_T141130/SAITS_epoch1_loss153.76637649536133.pypots\n",
      "2024-08-23 14:11:32 [INFO]: Epoch 002 - training loss: 162.0959\n",
      "2024-08-23 14:11:32 [INFO]: Epoch 003 - training loss: 163.6547\n",
      "2024-08-23 14:11:32 [INFO]: Finished training. The best model is from epoch#1.\n",
      "2024-08-23 14:11:32 [INFO]: Saved the model to examples/saits/20240823_T141130/SAITS.pypots\n"
     ]
    }
   ],
   "source": [
    "saits.fit({\"X\": np.array(edata.it)})\n",
    "imputation = saits.impute({\"X\": np.array(edata.it)})"
   ]
  },
  {
   "cell_type": "code",
   "execution_count": 44,
   "metadata": {},
   "outputs": [
    {
     "data": {
      "text/plain": [
       "array([[[ 3.8334923e+00,  7.4824512e-02,  5.3885984e+00, ...,\n",
       "         -1.9672710e-01,  1.2278686e+00,  1.7606061e+00],\n",
       "        [ 3.8192391e+00,  6.5954238e-02,  5.4974842e+00, ...,\n",
       "         -2.4046504e-01,  1.2477617e+00,  1.7412457e+00],\n",
       "        [ 3.8143442e+00,  6.5979809e-02,  5.4906402e+00, ...,\n",
       "         -2.4437267e-01,  1.2481689e+00,  1.7394999e+00],\n",
       "        ...,\n",
       "        [ 3.8215313e+00,  6.6506460e-02,  5.4998322e+00, ...,\n",
       "         -2.4562079e-01,  1.2484723e+00,  1.7375542e+00],\n",
       "        [ 3.8182511e+00,  6.6276051e-02,  5.4884953e+00, ...,\n",
       "         -2.4466354e-01,  1.2491769e+00,  1.7389424e+00],\n",
       "        [ 3.8367624e+00,  1.0000000e+00,  4.6991825e+00, ...,\n",
       "         -2.5309700e-01,  1.3787152e+00,  1.6633894e+00]],\n",
       "\n",
       "       [[ 3.8513041e+00,  4.3666318e-02,  5.3734140e+00, ...,\n",
       "         -2.1152657e-01,  1.2032628e+00,  1.7398019e+00],\n",
       "        [ 4.1300000e+02, -1.5000000e+01,  4.5032616e+00, ...,\n",
       "         -3.3774734e-01,  1.4340875e+00,  1.6339254e+00],\n",
       "        [ 4.1300000e+02, -1.4000000e+01,  4.3329802e+00, ...,\n",
       "         -3.5267770e-01,  1.4337475e+00,  1.5914080e+00],\n",
       "        ...,\n",
       "        [ 4.1300000e+02, -5.0000000e+00,  4.2424765e+00, ...,\n",
       "         -3.8414106e-01,  1.4419253e+00,  1.5968546e+00],\n",
       "        [ 4.1300000e+02, -5.0000000e+00,  4.2342982e+00, ...,\n",
       "         -3.8363236e-01,  1.4423000e+00,  1.5983315e+00],\n",
       "        [ 4.1300000e+02, -4.0000000e+00,  4.3226900e+00, ...,\n",
       "         -4.2526653e-01,  1.4435706e+00,  1.6194164e+00]],\n",
       "\n",
       "       [[ 3.8131609e+00,  9.1452897e-02,  5.3644152e+00, ...,\n",
       "         -2.2725981e-01,  1.2207328e+00,  1.7729820e+00],\n",
       "        [ 3.7666516e+00,  7.6462142e-02,  5.4711351e+00, ...,\n",
       "         -3.2713258e-01,  1.1830131e+00,  1.7538199e+00],\n",
       "        [ 3.7618232e+00,  7.6536648e-02,  5.4642119e+00, ...,\n",
       "         -3.3112162e-01,  1.1834588e+00,  1.7519851e+00],\n",
       "        ...,\n",
       "        [ 3.7689404e+00,  7.7193990e-02,  5.4737325e+00, ...,\n",
       "         -3.3231342e-01,  1.1839340e+00,  1.7501642e+00],\n",
       "        [ 3.7656796e+00,  7.7000678e-02,  5.4623003e+00, ...,\n",
       "         -3.3132303e-01,  1.1847686e+00,  1.7515020e+00],\n",
       "        [ 4.0435829e+00,  2.0000000e+00,  4.7016492e+00, ...,\n",
       "         -4.6674037e-01,  1.3465817e+00,  1.5705607e+00]],\n",
       "\n",
       "       ...,\n",
       "\n",
       "       [[ 3.8328698e+00,  7.7356808e-02,  5.4028368e+00, ...,\n",
       "         -1.8413341e-01,  1.2279686e+00,  1.7821056e+00],\n",
       "        [ 3.8768048e+00,  7.6735578e-02,  5.3670087e+00, ...,\n",
       "         -1.9750059e-01,  1.2369614e+00,  1.7869859e+00],\n",
       "        [ 3.8714590e+00,  7.6716535e-02,  5.3597245e+00, ...,\n",
       "         -2.0154238e-01,  1.2373779e+00,  1.7851772e+00],\n",
       "        ...,\n",
       "        [ 3.8792834e+00,  7.6938741e-02,  5.3692694e+00, ...,\n",
       "         -2.0295686e-01,  1.2375004e+00,  1.7828820e+00],\n",
       "        [ 3.8757958e+00,  7.6760761e-02,  5.3570147e+00, ...,\n",
       "         -2.0198369e-01,  1.2381328e+00,  1.7845160e+00],\n",
       "        [ 5.0500000e+02, -1.8000000e+01,  4.3808336e+00, ...,\n",
       "         -5.0294495e-01,  1.4269866e+00,  1.5836663e+00]],\n",
       "\n",
       "       [[ 3.8290696e+00,  7.1245387e-02,  5.3810463e+00, ...,\n",
       "         -2.2802144e-01,  1.2280083e+00,  1.7698964e+00],\n",
       "        [ 3.8149967e+00,  6.2608823e-02,  5.3845239e+00, ...,\n",
       "         -2.4067873e-01,  1.2393377e+00,  1.7433176e+00],\n",
       "        [ 3.8095999e+00,  6.2691823e-02,  5.3779325e+00, ...,\n",
       "         -2.4405861e-01,  1.2399430e+00,  1.7411250e+00],\n",
       "        ...,\n",
       "        [ 3.8168375e+00,  6.3441910e-02,  5.3876452e+00, ...,\n",
       "         -2.4543661e-01,  1.2398454e+00,  1.7388823e+00],\n",
       "        [ 3.8134716e+00,  6.3208647e-02,  5.3758926e+00, ...,\n",
       "         -2.4443531e-01,  1.2405846e+00,  1.7403214e+00],\n",
       "        [ 5.8600000e+02,  5.0000000e+00,  4.7693357e+00, ...,\n",
       "         -3.0940545e-01,  1.4315423e+00,  1.7116628e+00]],\n",
       "\n",
       "       [[ 3.8457875e+00,  6.8128332e-02,  5.3885660e+00, ...,\n",
       "         -1.9636744e-01,  1.2301729e+00,  1.7513732e+00],\n",
       "        [ 3.8422422e+00,  6.8162009e-02,  5.3930292e+00, ...,\n",
       "         -1.9159931e-01,  1.2286811e+00,  1.7547581e+00],\n",
       "        [ 5.6800000e+02, -4.0000000e+00,  4.6376200e+00, ...,\n",
       "         -3.3200663e-01,  1.3631402e+00,  1.6441796e+00],\n",
       "        ...,\n",
       "        [ 5.9200000e+02, -2.0000000e+00,  4.5121098e+00, ...,\n",
       "         -3.3543164e-01,  1.4142120e+00,  1.5621974e+00],\n",
       "        [ 5.9200000e+02, -2.0000000e+00,  4.5025091e+00, ...,\n",
       "         -3.3455151e-01,  1.4147730e+00,  1.5634911e+00],\n",
       "        [ 5.9200000e+02, -2.0000000e+00,  4.5121441e+00, ...,\n",
       "         -3.3576936e-01,  1.4142817e+00,  1.5632817e+00]]], dtype=float32)"
      ]
     },
     "execution_count": 44,
     "metadata": {},
     "output_type": "execute_result"
    }
   ],
   "source": [
    "imputation"
   ]
  },
  {
   "cell_type": "markdown",
   "metadata": {},
   "source": [
    "can also get representation: e.g. raindrop. prob. should do also for viz. below."
   ]
  },
  {
   "cell_type": "markdown",
   "metadata": {},
   "source": [
    "### Visualization\n",
    "Now that data is in ehrdata, ehrapy's ecosystem vizualization options are available.\n",
    "\n",
    "#### Vitessce"
   ]
  },
  {
   "cell_type": "code",
   "execution_count": null,
   "metadata": {},
   "outputs": [],
   "source": [
    "# import vitessce\n",
    "# set config\n",
    "# show in notebook and refer to deposited viz on lamin"
   ]
  },
  {
   "cell_type": "code",
   "execution_count": null,
   "metadata": {},
   "outputs": [],
   "source": [
    "con.close()"
   ]
  }
 ],
 "metadata": {
  "kernelspec": {
   "display_name": "ehrapy_venv_july",
   "language": "python",
   "name": "python3"
  },
  "language_info": {
   "codemirror_mode": {
    "name": "ipython",
    "version": 3
   },
   "file_extension": ".py",
   "mimetype": "text/x-python",
   "name": "python",
   "nbconvert_exporter": "python",
   "pygments_lexer": "ipython3",
   "version": "3.9.19"
  }
 },
 "nbformat": 4,
 "nbformat_minor": 2
}
