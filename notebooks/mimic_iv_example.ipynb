{
 "cells": [
  {
   "cell_type": "code",
   "execution_count": 2,
   "metadata": {},
   "outputs": [],
   "source": [
    "%load_ext autoreload\n",
    "%autoreload 2"
   ]
  },
  {
   "cell_type": "code",
   "execution_count": 17,
   "metadata": {},
   "outputs": [],
   "source": [
    "import duckdb\n",
    "import ehrdata"
   ]
  },
  {
   "cell_type": "markdown",
   "metadata": {},
   "source": [
    "### Set up a local database connection"
   ]
  },
  {
   "cell_type": "code",
   "execution_count": 18,
   "metadata": {},
   "outputs": [],
   "source": [
    "con = duckdb.connect()  # can also have not-in-memory when passing a filename!"
   ]
  },
  {
   "cell_type": "markdown",
   "metadata": {},
   "source": [
    "Load the data into your database"
   ]
  },
  {
   "cell_type": "code",
   "execution_count": 24,
   "metadata": {},
   "outputs": [
    {
     "name": "stdout",
     "output_type": "stream",
     "text": [
      "Load downloaded tables from ehrapy_data/mimic-iv-demo-data-in-the-omop-common-data-model-0.9\n",
      "missing tables:  [['concept'], ['vocabulary'], ['domain'], ['concept_class'], ['concept_relationship'], ['relationship'], ['concept_synonym'], ['concept_ancestor'], ['source_to_concept_map'], ['drug_strength']]\n"
     ]
    }
   ],
   "source": [
    "ehrdata.dt.mimic_iv_omop(backend=\"duckdb\", backend_handle=con)"
   ]
  },
  {
   "cell_type": "markdown",
   "metadata": {},
   "source": [
    "Inspect the database"
   ]
  },
  {
   "cell_type": "code",
   "execution_count": 25,
   "metadata": {},
   "outputs": [
    {
     "data": {
      "text/plain": [
       "[('care_site',),\n",
       " ('cdm_source',),\n",
       " ('cohort',),\n",
       " ('cohort_definition',),\n",
       " ('condition_era',),\n",
       " ('condition_occurrence',),\n",
       " ('cost',),\n",
       " ('death',),\n",
       " ('device_exposure',),\n",
       " ('dose_era',),\n",
       " ('drug_era',),\n",
       " ('drug_exposure',),\n",
       " ('fact_relationship',),\n",
       " ('location',),\n",
       " ('measurement',),\n",
       " ('metadata',),\n",
       " ('note',),\n",
       " ('note_nlp',),\n",
       " ('observation',),\n",
       " ('observation_period',),\n",
       " ('payer_plan_period',),\n",
       " ('person',),\n",
       " ('procedure_occurrence',),\n",
       " ('provider',),\n",
       " ('specimen',),\n",
       " ('visit_detail',),\n",
       " ('visit_occurrence',)]"
      ]
     },
     "execution_count": 25,
     "metadata": {},
     "output_type": "execute_result"
    }
   ],
   "source": [
    "tables = con.execute(\"SHOW TABLES;\").fetchall()\n",
    "tables"
   ]
  },
  {
   "cell_type": "markdown",
   "metadata": {},
   "source": [
    "Any sql operations can be executed, using e.g. ohdsi web apps\n",
    "\n",
    "ehrdata then supplies extraction functions"
   ]
  },
  {
   "cell_type": "code",
   "execution_count": 26,
   "metadata": {},
   "outputs": [
    {
     "data": {
      "text/html": [
       "<div>\n",
       "<style scoped>\n",
       "    .dataframe tbody tr th:only-of-type {\n",
       "        vertical-align: middle;\n",
       "    }\n",
       "\n",
       "    .dataframe tbody tr th {\n",
       "        vertical-align: top;\n",
       "    }\n",
       "\n",
       "    .dataframe thead th {\n",
       "        text-align: right;\n",
       "    }\n",
       "</style>\n",
       "<table border=\"1\" class=\"dataframe\">\n",
       "  <thead>\n",
       "    <tr style=\"text-align: right;\">\n",
       "      <th></th>\n",
       "      <th>person_id</th>\n",
       "      <th>gender_concept_id</th>\n",
       "      <th>year_of_birth</th>\n",
       "      <th>month_of_birth</th>\n",
       "      <th>day_of_birth</th>\n",
       "      <th>birth_datetime</th>\n",
       "      <th>race_concept_id</th>\n",
       "      <th>ethnicity_concept_id</th>\n",
       "      <th>location_id</th>\n",
       "      <th>provider_id</th>\n",
       "      <th>care_site_id</th>\n",
       "      <th>person_source_value</th>\n",
       "      <th>gender_source_value</th>\n",
       "      <th>gender_source_concept_id</th>\n",
       "      <th>race_source_value</th>\n",
       "      <th>race_source_concept_id</th>\n",
       "      <th>ethnicity_source_value</th>\n",
       "      <th>ethnicity_source_concept_id</th>\n",
       "    </tr>\n",
       "  </thead>\n",
       "  <tbody>\n",
       "    <tr>\n",
       "      <th>0</th>\n",
       "      <td>3589912774911670296</td>\n",
       "      <td>8507</td>\n",
       "      <td>2095</td>\n",
       "      <td>None</td>\n",
       "      <td>None</td>\n",
       "      <td>None</td>\n",
       "      <td>0</td>\n",
       "      <td>38003563</td>\n",
       "      <td>None</td>\n",
       "      <td>None</td>\n",
       "      <td>None</td>\n",
       "      <td>10009628</td>\n",
       "      <td>M</td>\n",
       "      <td>0</td>\n",
       "      <td>None</td>\n",
       "      <td>0</td>\n",
       "      <td>HISPANIC/LATINO</td>\n",
       "      <td>2000001408</td>\n",
       "    </tr>\n",
       "    <tr>\n",
       "      <th>1</th>\n",
       "      <td>-3210373572193940939</td>\n",
       "      <td>8507</td>\n",
       "      <td>2079</td>\n",
       "      <td>None</td>\n",
       "      <td>None</td>\n",
       "      <td>None</td>\n",
       "      <td>0</td>\n",
       "      <td>38003563</td>\n",
       "      <td>None</td>\n",
       "      <td>None</td>\n",
       "      <td>None</td>\n",
       "      <td>10011398</td>\n",
       "      <td>M</td>\n",
       "      <td>0</td>\n",
       "      <td>None</td>\n",
       "      <td>0</td>\n",
       "      <td>HISPANIC/LATINO</td>\n",
       "      <td>2000001408</td>\n",
       "    </tr>\n",
       "    <tr>\n",
       "      <th>2</th>\n",
       "      <td>-775517641933593374</td>\n",
       "      <td>8507</td>\n",
       "      <td>2149</td>\n",
       "      <td>None</td>\n",
       "      <td>None</td>\n",
       "      <td>None</td>\n",
       "      <td>8516</td>\n",
       "      <td>0</td>\n",
       "      <td>None</td>\n",
       "      <td>None</td>\n",
       "      <td>None</td>\n",
       "      <td>10004235</td>\n",
       "      <td>M</td>\n",
       "      <td>0</td>\n",
       "      <td>BLACK/AFRICAN AMERICAN</td>\n",
       "      <td>2000001406</td>\n",
       "      <td>None</td>\n",
       "      <td>0</td>\n",
       "    </tr>\n",
       "    <tr>\n",
       "      <th>3</th>\n",
       "      <td>-2575767131279873665</td>\n",
       "      <td>8507</td>\n",
       "      <td>2050</td>\n",
       "      <td>None</td>\n",
       "      <td>None</td>\n",
       "      <td>None</td>\n",
       "      <td>8516</td>\n",
       "      <td>0</td>\n",
       "      <td>None</td>\n",
       "      <td>None</td>\n",
       "      <td>None</td>\n",
       "      <td>10024043</td>\n",
       "      <td>M</td>\n",
       "      <td>0</td>\n",
       "      <td>BLACK/AFRICAN AMERICAN</td>\n",
       "      <td>2000001406</td>\n",
       "      <td>None</td>\n",
       "      <td>0</td>\n",
       "    </tr>\n",
       "    <tr>\n",
       "      <th>4</th>\n",
       "      <td>-8970844422700220177</td>\n",
       "      <td>8507</td>\n",
       "      <td>2114</td>\n",
       "      <td>None</td>\n",
       "      <td>None</td>\n",
       "      <td>None</td>\n",
       "      <td>8527</td>\n",
       "      <td>0</td>\n",
       "      <td>None</td>\n",
       "      <td>None</td>\n",
       "      <td>None</td>\n",
       "      <td>10038933</td>\n",
       "      <td>M</td>\n",
       "      <td>0</td>\n",
       "      <td>WHITE</td>\n",
       "      <td>2000001404</td>\n",
       "      <td>None</td>\n",
       "      <td>0</td>\n",
       "    </tr>\n",
       "  </tbody>\n",
       "</table>\n",
       "</div>"
      ],
      "text/plain": [
       "             person_id  gender_concept_id  year_of_birth month_of_birth  \\\n",
       "0  3589912774911670296               8507           2095           None   \n",
       "1 -3210373572193940939               8507           2079           None   \n",
       "2  -775517641933593374               8507           2149           None   \n",
       "3 -2575767131279873665               8507           2050           None   \n",
       "4 -8970844422700220177               8507           2114           None   \n",
       "\n",
       "  day_of_birth birth_datetime  race_concept_id  ethnicity_concept_id  \\\n",
       "0         None           None                0              38003563   \n",
       "1         None           None                0              38003563   \n",
       "2         None           None             8516                     0   \n",
       "3         None           None             8516                     0   \n",
       "4         None           None             8527                     0   \n",
       "\n",
       "  location_id provider_id care_site_id  person_source_value  \\\n",
       "0        None        None         None             10009628   \n",
       "1        None        None         None             10011398   \n",
       "2        None        None         None             10004235   \n",
       "3        None        None         None             10024043   \n",
       "4        None        None         None             10038933   \n",
       "\n",
       "  gender_source_value  gender_source_concept_id       race_source_value  \\\n",
       "0                   M                         0                    None   \n",
       "1                   M                         0                    None   \n",
       "2                   M                         0  BLACK/AFRICAN AMERICAN   \n",
       "3                   M                         0  BLACK/AFRICAN AMERICAN   \n",
       "4                   M                         0                   WHITE   \n",
       "\n",
       "   race_source_concept_id ethnicity_source_value  ethnicity_source_concept_id  \n",
       "0                       0        HISPANIC/LATINO                   2000001408  \n",
       "1                       0        HISPANIC/LATINO                   2000001408  \n",
       "2              2000001406                   None                            0  \n",
       "3              2000001406                   None                            0  \n",
       "4              2000001404                   None                            0  "
      ]
     },
     "execution_count": 26,
     "metadata": {},
     "output_type": "execute_result"
    }
   ],
   "source": [
    "ehrdata.io.extract_person(con).head()"
   ]
  },
  {
   "cell_type": "code",
   "execution_count": 27,
   "metadata": {},
   "outputs": [],
   "source": [
    "ts = ehrdata.io.extract_measurement(con)"
   ]
  },
  {
   "cell_type": "code",
   "execution_count": 28,
   "metadata": {},
   "outputs": [
    {
     "data": {
      "text/html": [
       "<pre>[[[[], []], [[0, 1, 2, 0, 1, 2, -1, -1, 1, -1, -1], [...]], ..., [[], []]],\n",
       " [[[], []], [[-1, 3, 2, 0, 0, 3, 1], [...]], [...], ..., [[], []], [[], []]],\n",
       " [[[523, 548, 413], [2196-02-24T14:53:00.000000, ...]], [...], ..., [[], []]],\n",
       " [[[], []], [[6, 2], [2117-03-29T11:39:00.000000, ...]], ..., [...], [[], []]],\n",
       " [[[577], [2148-09-10T10:15:00.000000]], [[0, 3, ..., -4], ...], ..., [[], []]],\n",
       " [[[], []], [[6, -6, -8, 8, -5, 1, ..., 7, 4, 12, -1, 8], ...], ..., [[], []]],\n",
       " [[[], []], [[-5, -3, -7], [...]], [[3, ...], ...], ..., [[], []], [[], []]],\n",
       " [[[], []], [[], []], [[nan, nan, nan], [...]], ..., [...], [[], []], [[], []]],\n",
       " [[[], []], [[1, 5, 0, 4, -11, 2, 2, 1], [...]], ..., [[], []], [[], []]],\n",
       " [[[], []], [[0, 6, 4, 0, 2, 2, ..., -2, 5, 0, 0, 1, 2], ...], ..., [[], []]],\n",
       " ...,\n",
       " [[[], []], [[-2, -3, -7, -5, -1, -6, -6, -4], [...]], ..., [...], [[], []]],\n",
       " [[[], []], [[], []], [[108, 129, ..., 100], ...], ..., [[], []], [[], []]],\n",
       " [[[], []], [[-2], [2185-06-17T01:14:00.000000]], ..., [[], []], [[], []]],\n",
       " [[[586], [2113-09-14T10:41:00.000000]], [[6, 5], [...]], ..., [...], [[], []]],\n",
       " [[[460], [2115-10-07T18:17:00.000000]], [[0, -3, ..., 0], ...], ..., [[], []]],\n",
       " [[[], []], [[], []], [[], []], [[], ...], ..., [[], []], [[], []], [[], []]],\n",
       " [[[], []], [[0, -3], [2166-08-21T22:21:00.000000, ...]], ..., [...], [[], []]],\n",
       " [[[], []], [[-1, -3, -3, -3, 2, ..., -3, -1, -1, -1, 0], ...], ..., [[], []]],\n",
       " [[[], []], [[0, -2], [2115-12-28T14:45:00.000000, ...]], ..., [...], [[], []]]]\n",
       "--------------------------------------------------------------------------------\n",
       "type: 100 * var * var * var * union[\n",
       "    float64,\n",
       "    datetime64[us]\n",
       "]</pre>"
      ],
      "text/plain": [
       "<Array [[[[], []], [...], ..., [[], []]], ...] type='100 * var * var * var ...'>"
      ]
     },
     "execution_count": 28,
     "metadata": {},
     "output_type": "execute_result"
    }
   ],
   "source": [
    "ts"
   ]
  },
  {
   "cell_type": "code",
   "execution_count": null,
   "metadata": {},
   "outputs": [],
   "source": [
    "# TODO: continue here\n",
    "ehrdata.io.time_interval_table(ts)"
   ]
  },
  {
   "cell_type": "markdown",
   "metadata": {},
   "source": [
    "close connection at the end"
   ]
  },
  {
   "cell_type": "code",
   "execution_count": 28,
   "metadata": {},
   "outputs": [],
   "source": [
    "con.close()"
   ]
  }
 ],
 "metadata": {
  "kernelspec": {
   "display_name": "ehrdata_venv_sept",
   "language": "python",
   "name": "python3"
  },
  "language_info": {
   "codemirror_mode": {
    "name": "ipython",
    "version": 3
   },
   "file_extension": ".py",
   "mimetype": "text/x-python",
   "name": "python",
   "nbconvert_exporter": "python",
   "pygments_lexer": "ipython3",
   "version": "3.9.19"
  }
 },
 "nbformat": 4,
 "nbformat_minor": 2
}
