{
 "cells": [
  {
   "cell_type": "code",
   "execution_count": 1,
   "id": "7bda7a75",
   "metadata": {},
   "outputs": [
    {
     "name": "stdout",
     "output_type": "stream",
     "text": [
      "\u001b[94m•\u001b[0m Extracted content already exists at ehrapy_data/physionet2012/set-a.tar, skipping download\n",
      "\u001b[94m•\u001b[0m Extracted content already exists at ehrapy_data/physionet2012/set-b.tar, skipping download\n",
      "\u001b[94m•\u001b[0m Extracted content already exists at ehrapy_data/physionet2012/set-c.tar, skipping download\n",
      "\u001b[93m!\u001b[0m File ehrapy_data/physionet2012/Outcomes-a.txt already exists!\n",
      "\u001b[93m!\u001b[0m File ehrapy_data/physionet2012/Outcomes-b.txt already exists!\n",
      "\u001b[93m!\u001b[0m File ehrapy_data/physionet2012/Outcomes-c.txt already exists!\n"
     ]
    },
    {
     "data": {
      "text/plain": [
       "View of EHRData object with n_obs × n_vars × n_t = 11988 × 37 × 48\n",
       "    obs: 'set', 'Age', 'Gender', 'Height', 'ICUType', 'SAPS-I', 'SOFA', 'Length_of_stay', 'Survival', 'In-hospital_death'\n",
       "    var: 'Parameter'\n",
       "    t: '0', '1', '2', '3', '4', '5', '6', '7', '8', '9', '10', '11', '12', '13', '14', '15', '16', '17', '18', '19', '20', '21', '22', '23', '24', '25', '26', '27', '28', '29', '30', '31', '32', '33', '34', '35', '36', '37', '38', '39', '40', '41', '42', '43', '44', '45', '46', '47'\n",
       "    shape of .X: (11988, 37)\n",
       "    shape of .R: (11988, 37, 48)"
      ]
     },
     "execution_count": 1,
     "metadata": {},
     "output_type": "execute_result"
    }
   ],
   "source": [
    "import ehrdata as ed\n",
    "\n",
    "ed.dt.datasets.physionet2012()"
   ]
  },
  {
   "cell_type": "code",
   "execution_count": null,
   "id": "b2835cca",
   "metadata": {},
   "outputs": [],
   "source": []
  },
  {
   "cell_type": "code",
   "execution_count": null,
   "id": "6638e7ac",
   "metadata": {},
   "outputs": [],
   "source": []
  }
 ],
 "metadata": {
  "kernelspec": {
   "display_name": "ehrapy",
   "language": "python",
   "name": "python3"
  },
  "language_info": {
   "codemirror_mode": {
    "name": "ipython",
    "version": 3
   },
   "file_extension": ".py",
   "mimetype": "text/x-python",
   "name": "python",
   "nbconvert_exporter": "python",
   "pygments_lexer": "ipython3",
   "version": "3.12.8"
  }
 },
 "nbformat": 4,
 "nbformat_minor": 5
}
