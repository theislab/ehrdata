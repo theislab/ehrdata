{
 "cells": [
  {
   "cell_type": "markdown",
   "metadata": {},
   "source": [
    "# Extracting, Representing, Validating and Visualizing Data from an OMOP CDM Database with ehrdata, lamin and Vitessce\n",
    "\n",
    "## Background\n",
    "\n",
    "In a nutshell\n",
    "1. Extract data from a database of the [OMOP Common Data Model](https://ohdsi.github.io/CommonDataModel/index.html)\n",
    "2. Represent this data in an [ehrdata](https://ehrdata.readthedocs.io/en/latest/#) object\n",
    "3. Validate this ehrdata object using [lamin](https://lamin.ai/) functionality (optional but recommended)\n",
    "4. Visualize this data with [Vitessce](https://vitessce.io/), either in a notebook or on cloud storage via lamin hub."
   ]
  },
  {
   "cell_type": "markdown",
   "metadata": {},
   "source": [
    "### OMOP\n",
    "[OMOP](https://ohdsi.github.io/CommonDataModel/index.html) is a data model by [OHDSI](https://www.ohdsi.org/)."
   ]
  },
  {
   "cell_type": "markdown",
   "metadata": {},
   "source": [
    "#### The Example Dataset used: MIMIC IV OMOP Demo Dataset\n",
    "Dataset available on [Physionet](https://physionet.org/content/mimic-iv-demo-omop/0.9/).\n",
    "\n",
    "Dataset:<br>\n",
    "Kallfelz, M., Tsvetkova, A., Pollard, T., Kwong, M., Lipori, G., Huser, V., Osborn, J., Hao, S., & Williams, A. (2021). MIMIC-IV demo data in the OMOP Common Data Model (version 0.9). PhysioNet. https://doi.org/10.13026/p1f5-7x35.\n",
    "\n",
    "Physionet:<br>\n",
    "Goldberger, A., Amaral, L., Glass, L., Hausdorff, J., Ivanov, P. C., Mark, R., ... & Stanley, H. E. (2000). PhysioBank, PhysioToolkit, and PhysioNet: Components of a new research resource for complex physiologic signals. Circulation [Online]. 101 (23), pp. e215–e220.\n",
    "\n",
    "### Extract\n",
    "This notebook guides you through the extraction from data following the OMOP CDM.\n",
    "\n",
    "### Represent\n",
    "See [ehrdata](https://ehrdata.readthedocs.io/en/latest/#) for more information on ehrdata.\n",
    "\n",
    "### Validate\n",
    "See [lamin](https://lamin.ai/) for more information on lamin.\n",
    "\n",
    "### Visualize\n",
    "See [Vitessce](https://vitessce.io/) for more information on Vitessce\n",
    "\n",
    "## The extraction workflow\n",
    "\n",
    "Here, we use [duckdb](https://duckdb.org/)'s Python API to load csv tables as they are available from the link above. (which is absolutely useless for immediate purposes but why not)"
   ]
  },
  {
   "cell_type": "code",
   "execution_count": 1,
   "metadata": {},
   "outputs": [],
   "source": [
    "%load_ext autoreload\n",
    "%autoreload 2"
   ]
  },
  {
   "cell_type": "code",
   "execution_count": 2,
   "metadata": {},
   "outputs": [],
   "source": [
    "import anndata as ad\n",
    "import duckdb\n",
    "import ehrapy as ep\n",
    "import ehrdata as ed\n",
    "import ehrdata\n",
    "import numpy as np"
   ]
  },
  {
   "cell_type": "code",
   "execution_count": 3,
   "metadata": {},
   "outputs": [],
   "source": [
    "from widgets import create_single_option_widget, create_multiple_options_widget"
   ]
  },
  {
   "cell_type": "code",
   "execution_count": 4,
   "metadata": {},
   "outputs": [],
   "source": [
    "options = [\"person\", \"observation_period\", \"visit_occurrence\", \"condition_occurrence\"]\n",
    "\n",
    "ui_obs, selected_obs = create_single_option_widget(\n",
    "    title_text=\"Please select which table should be used for .obs indexing in ehrdata:\",\n",
    "    options=options,\n",
    ")"
   ]
  },
  {
   "cell_type": "code",
   "execution_count": 5,
   "metadata": {},
   "outputs": [],
   "source": [
    "options = [\"measurement\", \"observation\", \"drug_occurrence\"]\n",
    "ui_var, selected_vars = create_multiple_options_widget(title_text=\"Options to use as the variables\", options=options)"
   ]
  },
  {
   "cell_type": "code",
   "execution_count": 6,
   "metadata": {},
   "outputs": [],
   "source": [
    "options = [\n",
    "    \"pca\",\n",
    "    \"umap\",\n",
    "]\n",
    "ui_emb, selected_emb = create_single_option_widget(\n",
    "    title_text=\"Please select which embedding do you want to use:\",\n",
    "    options=options,\n",
    ")"
   ]
  },
  {
   "cell_type": "markdown",
   "metadata": {},
   "source": [
    "### Set up a local database connection"
   ]
  },
  {
   "cell_type": "code",
   "execution_count": 7,
   "metadata": {},
   "outputs": [],
   "source": [
    "con = duckdb.connect()"
   ]
  },
  {
   "cell_type": "markdown",
   "metadata": {},
   "source": [
    "Load the data into your database"
   ]
  },
  {
   "cell_type": "code",
   "execution_count": 8,
   "metadata": {},
   "outputs": [
    {
     "name": "stdout",
     "output_type": "stream",
     "text": [
      "Path to data exists, load tables from there: ehrapy_data/mimic-iv-demo-data-in-the-omop-common-data-model-0.9\n",
      "missing tables:  ['domain', 'concept_class', 'relationship', 'concept_synonym', 'concept_ancestor', 'source_to_concept_map', 'drug_strength']\n",
      "unused files:  ['attribute_definition.csv', 'cohort_attribute.csv']\n"
     ]
    }
   ],
   "source": [
    "ehrdata.dt.mimic_iv_omop(backend_handle=con)"
   ]
  },
  {
   "cell_type": "markdown",
   "metadata": {},
   "source": [
    "See what tables there are"
   ]
  },
  {
   "cell_type": "code",
   "execution_count": 9,
   "metadata": {},
   "outputs": [
    {
     "data": {
      "text/html": [
       "<div>\n",
       "<style scoped>\n",
       "    .dataframe tbody tr th:only-of-type {\n",
       "        vertical-align: middle;\n",
       "    }\n",
       "\n",
       "    .dataframe tbody tr th {\n",
       "        vertical-align: top;\n",
       "    }\n",
       "\n",
       "    .dataframe thead th {\n",
       "        text-align: right;\n",
       "    }\n",
       "</style>\n",
       "<table border=\"1\" class=\"dataframe\">\n",
       "  <thead>\n",
       "    <tr style=\"text-align: right;\">\n",
       "      <th></th>\n",
       "      <th>name</th>\n",
       "    </tr>\n",
       "  </thead>\n",
       "  <tbody>\n",
       "    <tr>\n",
       "      <th>0</th>\n",
       "      <td>care_site</td>\n",
       "    </tr>\n",
       "    <tr>\n",
       "      <th>1</th>\n",
       "      <td>cdm_source</td>\n",
       "    </tr>\n",
       "    <tr>\n",
       "      <th>2</th>\n",
       "      <td>cohort</td>\n",
       "    </tr>\n",
       "    <tr>\n",
       "      <th>3</th>\n",
       "      <td>cohort_definition</td>\n",
       "    </tr>\n",
       "    <tr>\n",
       "      <th>4</th>\n",
       "      <td>concept</td>\n",
       "    </tr>\n",
       "    <tr>\n",
       "      <th>5</th>\n",
       "      <td>concept_relationship</td>\n",
       "    </tr>\n",
       "    <tr>\n",
       "      <th>6</th>\n",
       "      <td>condition_era</td>\n",
       "    </tr>\n",
       "    <tr>\n",
       "      <th>7</th>\n",
       "      <td>condition_occurrence</td>\n",
       "    </tr>\n",
       "    <tr>\n",
       "      <th>8</th>\n",
       "      <td>cost</td>\n",
       "    </tr>\n",
       "    <tr>\n",
       "      <th>9</th>\n",
       "      <td>death</td>\n",
       "    </tr>\n",
       "    <tr>\n",
       "      <th>10</th>\n",
       "      <td>device_exposure</td>\n",
       "    </tr>\n",
       "    <tr>\n",
       "      <th>11</th>\n",
       "      <td>dose_era</td>\n",
       "    </tr>\n",
       "    <tr>\n",
       "      <th>12</th>\n",
       "      <td>drug_era</td>\n",
       "    </tr>\n",
       "    <tr>\n",
       "      <th>13</th>\n",
       "      <td>drug_exposure</td>\n",
       "    </tr>\n",
       "    <tr>\n",
       "      <th>14</th>\n",
       "      <td>fact_relationship</td>\n",
       "    </tr>\n",
       "    <tr>\n",
       "      <th>15</th>\n",
       "      <td>location</td>\n",
       "    </tr>\n",
       "    <tr>\n",
       "      <th>16</th>\n",
       "      <td>measurement</td>\n",
       "    </tr>\n",
       "    <tr>\n",
       "      <th>17</th>\n",
       "      <td>metadata</td>\n",
       "    </tr>\n",
       "    <tr>\n",
       "      <th>18</th>\n",
       "      <td>note</td>\n",
       "    </tr>\n",
       "    <tr>\n",
       "      <th>19</th>\n",
       "      <td>note_nlp</td>\n",
       "    </tr>\n",
       "    <tr>\n",
       "      <th>20</th>\n",
       "      <td>observation</td>\n",
       "    </tr>\n",
       "    <tr>\n",
       "      <th>21</th>\n",
       "      <td>observation_period</td>\n",
       "    </tr>\n",
       "    <tr>\n",
       "      <th>22</th>\n",
       "      <td>payer_plan_period</td>\n",
       "    </tr>\n",
       "    <tr>\n",
       "      <th>23</th>\n",
       "      <td>person</td>\n",
       "    </tr>\n",
       "    <tr>\n",
       "      <th>24</th>\n",
       "      <td>procedure_occurrence</td>\n",
       "    </tr>\n",
       "    <tr>\n",
       "      <th>25</th>\n",
       "      <td>provider</td>\n",
       "    </tr>\n",
       "    <tr>\n",
       "      <th>26</th>\n",
       "      <td>specimen</td>\n",
       "    </tr>\n",
       "    <tr>\n",
       "      <th>27</th>\n",
       "      <td>visit_detail</td>\n",
       "    </tr>\n",
       "    <tr>\n",
       "      <th>28</th>\n",
       "      <td>visit_occurrence</td>\n",
       "    </tr>\n",
       "    <tr>\n",
       "      <th>29</th>\n",
       "      <td>vocabulary</td>\n",
       "    </tr>\n",
       "  </tbody>\n",
       "</table>\n",
       "</div>"
      ],
      "text/plain": [
       "                    name\n",
       "0              care_site\n",
       "1             cdm_source\n",
       "2                 cohort\n",
       "3      cohort_definition\n",
       "4                concept\n",
       "5   concept_relationship\n",
       "6          condition_era\n",
       "7   condition_occurrence\n",
       "8                   cost\n",
       "9                  death\n",
       "10       device_exposure\n",
       "11              dose_era\n",
       "12              drug_era\n",
       "13         drug_exposure\n",
       "14     fact_relationship\n",
       "15              location\n",
       "16           measurement\n",
       "17              metadata\n",
       "18                  note\n",
       "19              note_nlp\n",
       "20           observation\n",
       "21    observation_period\n",
       "22     payer_plan_period\n",
       "23                person\n",
       "24  procedure_occurrence\n",
       "25              provider\n",
       "26              specimen\n",
       "27          visit_detail\n",
       "28      visit_occurrence\n",
       "29            vocabulary"
      ]
     },
     "execution_count": 9,
     "metadata": {},
     "output_type": "execute_result"
    }
   ],
   "source": [
    "tables = con.execute(\"SHOW TABLES;\").df()\n",
    "tables"
   ]
  },
  {
   "cell_type": "code",
   "execution_count": 10,
   "metadata": {},
   "outputs": [
    {
     "data": {
      "application/vnd.jupyter.widget-view+json": {
       "model_id": "9ec20041bac2441283e9998549a5a1aa",
       "version_major": 2,
       "version_minor": 0
      },
      "text/plain": [
       "VBox(children=(HTML(value='<h3>Please select which table should be used for .obs indexing in ehrdata:</h3>'), …"
      ]
     },
     "metadata": {},
     "output_type": "display_data"
    }
   ],
   "source": [
    "display(ui_obs)"
   ]
  },
  {
   "cell_type": "code",
   "execution_count": 11,
   "metadata": {},
   "outputs": [
    {
     "data": {
      "text/plain": [
       "EHRData object with n_obs x n_var = 100 x 0, and a timeseries of 1 steps.\n",
       "             shape of .X: (0, 0) \n",
       "             shape of .r: (0, 0, 0) "
      ]
     },
     "execution_count": 11,
     "metadata": {},
     "output_type": "execute_result"
    }
   ],
   "source": [
    "# if obs_base.value == 'person':\n",
    "#     obs = ehrdata.io.omop.extract_person(con)\n",
    "# elif obs_base.value == 'observation_period':\n",
    "#     obs = ehrdata.io.omop.extract_observation_period(con)\n",
    "# elif obs_base.value == 'visit_occurrence':\n",
    "#     obs = ehrdata.io.omop.extract_visit_occurrence(con)\n",
    "# elif obs_base.value == 'condition_occurrence':\n",
    "#     obs = ehrdata.io.omop.extract_condition_occurrence(con)\n",
    "\n",
    "# obs.head()\n",
    "\n",
    "if selected_obs.value == \"person\":\n",
    "    edata = ed.io.omop.setup_obs(con, \"person_observation_period\")\n",
    "\n",
    "edata"
   ]
  },
  {
   "cell_type": "markdown",
   "metadata": {},
   "source": [
    "#### Interlude - Irregularly sampled time series data\n",
    "Electronic health records can be regarded as (that is, form a model of a person via) irregular sampling irregularly sampled time series.\n",
    "\n",
    "Following notation and explanation from [Horn et al.](https://proceedings.mlr.press/v119/horn20a.html), a time series of a patient can be described as a set of tuples (t, z, m), where t denotes the time, z the observed value, and m a modality description of the measurement.\n",
    "\n",
    "The time series can have different lengths, and a \"typical\" number of observed values might not exist.\n",
    "\n",
    "Generally, an irregularly-sampled time series can be converted into a missing data problem by discretizing the time axis into non-overlapping intervals, and declaring intervals in which no data was sampled as missing (Bahadori & Lipton, 2019). [Horn et al.](https://proceedings.mlr.press/v119/horn20a.html)."
   ]
  },
  {
   "cell_type": "code",
   "execution_count": 12,
   "metadata": {},
   "outputs": [
    {
     "data": {
      "application/vnd.jupyter.widget-view+json": {
       "model_id": "df43d6348b9f4c089065ce35d2a7ed78",
       "version_major": 2,
       "version_minor": 0
      },
      "text/plain": [
       "VBox(children=(HTML(value=\"<h3 style='color: #333; font-family: Arial, sans-serif;'>Options to use as the vari…"
      ]
     },
     "metadata": {},
     "output_type": "display_data"
    }
   ],
   "source": [
    "display(ui_var)"
   ]
  },
  {
   "cell_type": "code",
   "execution_count": 14,
   "metadata": {},
   "outputs": [
    {
     "name": "stdout",
     "output_type": "stream",
     "text": [
      "multiple units for features: [[  0]\n",
      " [  1]\n",
      " [ 23]\n",
      " [ 55]\n",
      " [122]\n",
      " [160]\n",
      " [245]\n",
      " [296]\n",
      " [306]\n",
      " [349]\n",
      " [418]]\n"
     ]
    },
    {
     "data": {
      "text/html": [
       "<div>\n",
       "<style scoped>\n",
       "    .dataframe tbody tr th:only-of-type {\n",
       "        vertical-align: middle;\n",
       "    }\n",
       "\n",
       "    .dataframe tbody tr th {\n",
       "        vertical-align: top;\n",
       "    }\n",
       "\n",
       "    .dataframe thead th {\n",
       "        text-align: right;\n",
       "    }\n",
       "</style>\n",
       "<table border=\"1\" class=\"dataframe\">\n",
       "  <thead>\n",
       "    <tr style=\"text-align: right;\">\n",
       "      <th></th>\n",
       "      <th>concept_id</th>\n",
       "      <th>unit_concept_id</th>\n",
       "      <th>no_units</th>\n",
       "      <th>multiple_units</th>\n",
       "    </tr>\n",
       "  </thead>\n",
       "  <tbody>\n",
       "    <tr>\n",
       "      <th>0</th>\n",
       "      <td>0</td>\n",
       "      <td>9557</td>\n",
       "      <td>False</td>\n",
       "      <td>True</td>\n",
       "    </tr>\n",
       "    <tr>\n",
       "      <th>1</th>\n",
       "      <td>0</td>\n",
       "      <td>8749</td>\n",
       "      <td>False</td>\n",
       "      <td>True</td>\n",
       "    </tr>\n",
       "    <tr>\n",
       "      <th>2</th>\n",
       "      <td>0</td>\n",
       "      <td>8923</td>\n",
       "      <td>False</td>\n",
       "      <td>True</td>\n",
       "    </tr>\n",
       "    <tr>\n",
       "      <th>3</th>\n",
       "      <td>0</td>\n",
       "      <td>8840</td>\n",
       "      <td>False</td>\n",
       "      <td>True</td>\n",
       "    </tr>\n",
       "    <tr>\n",
       "      <th>4</th>\n",
       "      <td>0</td>\n",
       "      <td>8859</td>\n",
       "      <td>False</td>\n",
       "      <td>True</td>\n",
       "    </tr>\n",
       "    <tr>\n",
       "      <th>...</th>\n",
       "      <td>...</td>\n",
       "      <td>...</td>\n",
       "      <td>...</td>\n",
       "      <td>...</td>\n",
       "    </tr>\n",
       "    <tr>\n",
       "      <th>464</th>\n",
       "      <td>42527140</td>\n",
       "      <td>44777590</td>\n",
       "      <td>False</td>\n",
       "      <td>False</td>\n",
       "    </tr>\n",
       "    <tr>\n",
       "      <th>465</th>\n",
       "      <td>42868642</td>\n",
       "      <td>&lt;NA&gt;</td>\n",
       "      <td>True</td>\n",
       "      <td>False</td>\n",
       "    </tr>\n",
       "    <tr>\n",
       "      <th>466</th>\n",
       "      <td>43055270</td>\n",
       "      <td>&lt;NA&gt;</td>\n",
       "      <td>True</td>\n",
       "      <td>False</td>\n",
       "    </tr>\n",
       "    <tr>\n",
       "      <th>467</th>\n",
       "      <td>46236952</td>\n",
       "      <td>&lt;NA&gt;</td>\n",
       "      <td>True</td>\n",
       "      <td>False</td>\n",
       "    </tr>\n",
       "    <tr>\n",
       "      <th>468</th>\n",
       "      <td>2000000000</td>\n",
       "      <td>8554</td>\n",
       "      <td>False</td>\n",
       "      <td>False</td>\n",
       "    </tr>\n",
       "  </tbody>\n",
       "</table>\n",
       "<p>469 rows × 4 columns</p>\n",
       "</div>"
      ],
      "text/plain": [
       "     concept_id  unit_concept_id  no_units  multiple_units\n",
       "0             0             9557     False            True\n",
       "1             0             8749     False            True\n",
       "2             0             8923     False            True\n",
       "3             0             8840     False            True\n",
       "4             0             8859     False            True\n",
       "..          ...              ...       ...             ...\n",
       "464    42527140         44777590     False           False\n",
       "465    42868642             <NA>      True           False\n",
       "466    43055270             <NA>      True           False\n",
       "467    46236952             <NA>      True           False\n",
       "468  2000000000             8554     False           False\n",
       "\n",
       "[469 rows x 4 columns]"
      ]
     },
     "execution_count": 14,
     "metadata": {},
     "output_type": "execute_result"
    }
   ],
   "source": [
    "edata = ed.io.omop.setup_variables(\n",
    "    edata=edata,\n",
    "    backend_handle=con,\n",
    "    data_tables=list(selected_vars.value),\n",
    "    data_field_to_keep=[\"value_as_number\"],\n",
    "    interval_length_number=20,\n",
    "    interval_length_unit=\"day\",\n",
    "    num_intervals=10,\n",
    "    concept_ids=\"all\",\n",
    "    aggregation_strategy=\"last\",\n",
    "    enrich_var_with_feature_info=True,\n",
    "    enrich_var_with_unit_info=False,\n",
    ")\n",
    "edata.uns[\"unit_report_measurement\"]"
   ]
  },
  {
   "cell_type": "code",
   "execution_count": 15,
   "metadata": {},
   "outputs": [
    {
     "data": {
      "text/plain": [
       "EHRData object with n_obs x n_var = 100 x 450, and a timeseries of 10 steps.\n",
       "             shape of .X: (0, 0) \n",
       "             shape of .r: (100, 450, 10) "
      ]
     },
     "execution_count": 15,
     "metadata": {},
     "output_type": "execute_result"
    }
   ],
   "source": [
    "edata"
   ]
  },
  {
   "cell_type": "code",
   "execution_count": 16,
   "metadata": {},
   "outputs": [],
   "source": [
    "edata.X = np.nanmean(edata.r, 2)"
   ]
  },
  {
   "cell_type": "code",
   "execution_count": 34,
   "metadata": {},
   "outputs": [
    {
     "data": {
      "text/plain": [
       "<Axes: >"
      ]
     },
     "execution_count": 34,
     "metadata": {},
     "output_type": "execute_result"
    },
    {
     "data": {
      "image/png": "[encoded data removed]",
      "text/plain": [
       "<Figure size 2500x1000 with 2 Axes>"
      ]
     },
     "metadata": {},
     "output_type": "display_data"
    }
   ],
   "source": [
    "ep.pl.missing_values_matrix(edata)"
   ]
  },
  {
   "cell_type": "code",
   "execution_count": 35,
   "metadata": {},
   "outputs": [
    {
     "name": "stdout",
     "output_type": "stream",
     "text": [
      "\u001b[93m!\u001b[0m Feature '185' had more than 100.00% missing values!\n",
      "\u001b[93m!\u001b[0m Feature '345' had more than 100.00% missing values!\n",
      "\u001b[93m!\u001b[0m Feature '223' had more than 96.00% missing values!\n",
      "\u001b[93m!\u001b[0m Feature '58' had more than 87.00% missing values!\n",
      "\u001b[93m!\u001b[0m Feature '228' had more than 80.00% missing values!\n",
      "\u001b[93m!\u001b[0m Feature '330' had more than 96.00% missing values!\n",
      "\u001b[93m!\u001b[0m Feature '116' had more than 99.00% missing values!\n",
      "\u001b[93m!\u001b[0m Feature '174' had more than 100.00% missing values!\n",
      "\u001b[93m!\u001b[0m Feature '329' had more than 100.00% missing values!\n",
      "\u001b[93m!\u001b[0m Feature '204' had more than 100.00% missing values!\n",
      "\u001b[93m!\u001b[0m Feature '184' had more than 100.00% missing values!\n",
      "\u001b[93m!\u001b[0m Feature '438' had more than 99.00% missing values!\n",
      "\u001b[93m!\u001b[0m Feature '395' had more than 97.00% missing values!\n",
      "\u001b[93m!\u001b[0m Feature '35' had more than 93.00% missing values!\n",
      "\u001b[93m!\u001b[0m Feature '340' had more than 100.00% missing values!\n",
      "\u001b[93m!\u001b[0m Feature '10' had more than 86.00% missing values!\n",
      "\u001b[93m!\u001b[0m Feature '333' had more than 100.00% missing values!\n",
      "\u001b[93m!\u001b[0m Feature '441' had more than 100.00% missing values!\n",
      "\u001b[93m!\u001b[0m Feature '54' had more than 71.00% missing values!\n",
      "\u001b[93m!\u001b[0m Feature '415' had more than 98.00% missing values!\n",
      "\u001b[93m!\u001b[0m Feature '434' had more than 100.00% missing values!\n",
      "\u001b[93m!\u001b[0m Feature '346' had more than 98.00% missing values!\n",
      "\u001b[93m!\u001b[0m Feature '141' had more than 94.00% missing values!\n",
      "\u001b[93m!\u001b[0m Feature '175' had more than 92.00% missing values!\n",
      "\u001b[93m!\u001b[0m Feature '324' had more than 100.00% missing values!\n",
      "\u001b[93m!\u001b[0m Feature '135' had more than 91.00% missing values!\n",
      "\u001b[93m!\u001b[0m Feature '111' had more than 81.00% missing values!\n",
      "\u001b[93m!\u001b[0m Feature '417' had more than 96.00% missing values!\n",
      "\u001b[93m!\u001b[0m Feature '49' had more than 99.00% missing values!\n",
      "\u001b[93m!\u001b[0m Feature '369' had more than 99.00% missing values!\n",
      "\u001b[93m!\u001b[0m Feature '119' had more than 100.00% missing values!\n",
      "\u001b[93m!\u001b[0m Feature '28' had more than 94.00% missing values!\n",
      "\u001b[93m!\u001b[0m Feature '336' had more than 100.00% missing values!\n",
      "\u001b[93m!\u001b[0m Feature '24' had more than 94.00% missing values!\n",
      "\u001b[93m!\u001b[0m Feature '134' had more than 72.00% missing values!\n",
      "\u001b[93m!\u001b[0m Feature '436' had more than 99.00% missing values!\n",
      "\u001b[93m!\u001b[0m Feature '132' had more than 99.00% missing values!\n",
      "\u001b[93m!\u001b[0m Feature '239' had more than 81.00% missing values!\n",
      "\u001b[93m!\u001b[0m Feature '21' had more than 74.00% missing values!\n",
      "\u001b[93m!\u001b[0m Feature '328' had more than 100.00% missing values!\n",
      "\u001b[93m!\u001b[0m Feature '331' had more than 96.00% missing values!\n",
      "\u001b[93m!\u001b[0m Feature '167' had more than 100.00% missing values!\n",
      "\u001b[93m!\u001b[0m Feature '410' had more than 100.00% missing values!\n",
      "\u001b[93m!\u001b[0m Feature '362' had more than 99.00% missing values!\n",
      "\u001b[93m!\u001b[0m Feature '192' had more than 100.00% missing values!\n",
      "\u001b[93m!\u001b[0m Feature '226' had more than 89.00% missing values!\n",
      "\u001b[93m!\u001b[0m Feature '39' had more than 99.00% missing values!\n",
      "\u001b[93m!\u001b[0m Feature '73' had more than 100.00% missing values!\n",
      "\u001b[93m!\u001b[0m Feature '89' had more than 91.00% missing values!\n",
      "\u001b[93m!\u001b[0m Feature '380' had more than 99.00% missing values!\n",
      "\u001b[93m!\u001b[0m Feature '319' had more than 96.00% missing values!\n",
      "\u001b[93m!\u001b[0m Feature '72' had more than 100.00% missing values!\n",
      "\u001b[93m!\u001b[0m Feature '379' had more than 99.00% missing values!\n",
      "\u001b[93m!\u001b[0m Feature '114' had more than 93.00% missing values!\n",
      "\u001b[93m!\u001b[0m Feature '59' had more than 89.00% missing values!\n",
      "\u001b[93m!\u001b[0m Feature '148' had more than 100.00% missing values!\n",
      "\u001b[93m!\u001b[0m Feature '165' had more than 100.00% missing values!\n",
      "\u001b[93m!\u001b[0m Feature '219' had more than 92.00% missing values!\n",
      "\u001b[93m!\u001b[0m Feature '155' had more than 100.00% missing values!\n",
      "\u001b[93m!\u001b[0m Feature '278' had more than 100.00% missing values!\n",
      "\u001b[93m!\u001b[0m Feature '406' had more than 99.00% missing values!\n",
      "\u001b[93m!\u001b[0m Feature '218' had more than 94.00% missing values!\n",
      "\u001b[93m!\u001b[0m Feature '418' had more than 98.00% missing values!\n",
      "\u001b[93m!\u001b[0m Feature '280' had more than 100.00% missing values!\n",
      "\u001b[93m!\u001b[0m Feature '217' had more than 94.00% missing values!\n",
      "\u001b[93m!\u001b[0m Feature '351' had more than 100.00% missing values!\n",
      "\u001b[93m!\u001b[0m Feature '137' had more than 89.00% missing values!\n",
      "\u001b[93m!\u001b[0m Feature '357' had more than 100.00% missing values!\n",
      "\u001b[93m!\u001b[0m Feature '236' had more than 93.00% missing values!\n",
      "\u001b[93m!\u001b[0m Feature '448' had more than 100.00% missing values!\n",
      "\u001b[93m!\u001b[0m Feature '439' had more than 100.00% missing values!\n",
      "\u001b[93m!\u001b[0m Feature '258' had more than 90.00% missing values!\n",
      "\u001b[93m!\u001b[0m Feature '133' had more than 96.00% missing values!\n",
      "\u001b[93m!\u001b[0m Feature '140' had more than 94.00% missing values!\n",
      "\u001b[93m!\u001b[0m Feature '26' had more than 96.00% missing values!\n",
      "\u001b[93m!\u001b[0m Feature '305' had more than 100.00% missing values!\n",
      "\u001b[93m!\u001b[0m Feature '98' had more than 100.00% missing values!\n",
      "\u001b[93m!\u001b[0m Feature '402' had more than 97.00% missing values!\n",
      "\u001b[93m!\u001b[0m Feature '243' had more than 100.00% missing values!\n",
      "\u001b[93m!\u001b[0m Feature '315' had more than 100.00% missing values!\n",
      "\u001b[93m!\u001b[0m Feature '378' had more than 100.00% missing values!\n",
      "\u001b[93m!\u001b[0m Feature '390' had more than 99.00% missing values!\n",
      "\u001b[93m!\u001b[0m Feature '128' had more than 100.00% missing values!\n",
      "\u001b[93m!\u001b[0m Feature '323' had more than 100.00% missing values!\n",
      "\u001b[93m!\u001b[0m Feature '344' had more than 100.00% missing values!\n",
      "\u001b[93m!\u001b[0m Feature '412' had more than 98.00% missing values!\n",
      "\u001b[93m!\u001b[0m Feature '182' had more than 100.00% missing values!\n",
      "\u001b[93m!\u001b[0m Feature '391' had more than 99.00% missing values!\n",
      "\u001b[93m!\u001b[0m Feature '347' had more than 92.00% missing values!\n",
      "\u001b[93m!\u001b[0m Feature '122' had more than 99.00% missing values!\n",
      "\u001b[93m!\u001b[0m Feature '396' had more than 97.00% missing values!\n",
      "\u001b[93m!\u001b[0m Feature '435' had more than 99.00% missing values!\n",
      "\u001b[93m!\u001b[0m Feature '221' had more than 85.00% missing values!\n",
      "\u001b[93m!\u001b[0m Feature '366' had more than 100.00% missing values!\n",
      "\u001b[93m!\u001b[0m Feature '374' had more than 99.00% missing values!\n",
      "\u001b[93m!\u001b[0m Feature '180' had more than 92.00% missing values!\n",
      "\u001b[93m!\u001b[0m Feature '413' had more than 97.00% missing values!\n",
      "\u001b[93m!\u001b[0m Feature '262' had more than 86.00% missing values!\n",
      "\u001b[93m!\u001b[0m Feature '115' had more than 92.00% missing values!\n",
      "\u001b[93m!\u001b[0m Feature '78' had more than 99.00% missing values!\n",
      "\u001b[93m!\u001b[0m Feature '421' had more than 97.00% missing values!\n",
      "\u001b[93m!\u001b[0m Feature '424' had more than 99.00% missing values!\n",
      "\u001b[93m!\u001b[0m Feature '361' had more than 99.00% missing values!\n",
      "\u001b[93m!\u001b[0m Feature '164' had more than 84.00% missing values!\n",
      "\u001b[93m!\u001b[0m Feature '384' had more than 99.00% missing values!\n",
      "\u001b[93m!\u001b[0m Feature '41' had more than 100.00% missing values!\n",
      "\u001b[93m!\u001b[0m Feature '394' had more than 97.00% missing values!\n",
      "\u001b[93m!\u001b[0m Feature '430' had more than 99.00% missing values!\n",
      "\u001b[93m!\u001b[0m Feature '178' had more than 91.00% missing values!\n",
      "\u001b[93m!\u001b[0m Feature '273' had more than 100.00% missing values!\n",
      "\u001b[93m!\u001b[0m Feature '339' had more than 100.00% missing values!\n",
      "\u001b[93m!\u001b[0m Feature '368' had more than 100.00% missing values!\n",
      "\u001b[93m!\u001b[0m Feature '445' had more than 100.00% missing values!\n",
      "\u001b[93m!\u001b[0m Feature '393' had more than 97.00% missing values!\n",
      "\u001b[93m!\u001b[0m Feature '249' had more than 88.00% missing values!\n",
      "\u001b[93m!\u001b[0m Feature '353' had more than 94.00% missing values!\n",
      "\u001b[93m!\u001b[0m Feature '426' had more than 100.00% missing values!\n",
      "\u001b[93m!\u001b[0m Feature '209' had more than 100.00% missing values!\n",
      "\u001b[93m!\u001b[0m Feature '79' had more than 87.00% missing values!\n",
      "\u001b[93m!\u001b[0m Feature '130' had more than 100.00% missing values!\n",
      "\u001b[93m!\u001b[0m Feature '359' had more than 99.00% missing values!\n",
      "\u001b[93m!\u001b[0m Feature '282' had more than 100.00% missing values!\n",
      "\u001b[93m!\u001b[0m Feature '348' had more than 100.00% missing values!\n",
      "\u001b[93m!\u001b[0m Feature '53' had more than 71.00% missing values!\n",
      "\u001b[93m!\u001b[0m Feature '433' had more than 100.00% missing values!\n",
      "\u001b[93m!\u001b[0m Feature '87' had more than 75.00% missing values!\n",
      "\u001b[93m!\u001b[0m Feature '291' had more than 98.00% missing values!\n",
      "\u001b[93m!\u001b[0m Feature '290' had more than 100.00% missing values!\n",
      "\u001b[93m!\u001b[0m Feature '341' had more than 100.00% missing values!\n",
      "\u001b[93m!\u001b[0m Feature '27' had more than 95.00% missing values!\n",
      "\u001b[93m!\u001b[0m Feature '277' had more than 100.00% missing values!\n",
      "\u001b[93m!\u001b[0m Feature '199' had more than 100.00% missing values!\n",
      "\u001b[93m!\u001b[0m Feature '422' had more than 96.00% missing values!\n",
      "\u001b[93m!\u001b[0m Feature '120' had more than 100.00% missing values!\n",
      "\u001b[93m!\u001b[0m Feature '102' had more than 89.00% missing values!\n",
      "\u001b[93m!\u001b[0m Feature '231' had more than 95.00% missing values!\n",
      "\u001b[93m!\u001b[0m Feature '230' had more than 88.00% missing values!\n",
      "\u001b[93m!\u001b[0m Feature '414' had more than 98.00% missing values!\n",
      "\u001b[93m!\u001b[0m Feature '432' had more than 100.00% missing values!\n",
      "\u001b[93m!\u001b[0m Feature '338' had more than 94.00% missing values!\n",
      "\u001b[93m!\u001b[0m Feature '363' had more than 99.00% missing values!\n",
      "\u001b[93m!\u001b[0m Feature '401' had more than 97.00% missing values!\n",
      "\u001b[93m!\u001b[0m Feature '121' had more than 100.00% missing values!\n",
      "\u001b[93m!\u001b[0m Feature '408' had more than 100.00% missing values!\n",
      "\u001b[93m!\u001b[0m Feature '322' had more than 98.00% missing values!\n",
      "\u001b[93m!\u001b[0m Feature '169' had more than 100.00% missing values!\n",
      "\u001b[93m!\u001b[0m Feature '145' had more than 100.00% missing values!\n",
      "\u001b[93m!\u001b[0m Feature '276' had more than 100.00% missing values!\n",
      "\u001b[93m!\u001b[0m Feature '403' had more than 98.00% missing values!\n",
      "\u001b[93m!\u001b[0m Feature '31' had more than 99.00% missing values!\n",
      "\u001b[93m!\u001b[0m Feature '332' had more than 98.00% missing values!\n",
      "\u001b[93m!\u001b[0m Feature '113' had more than 96.00% missing values!\n",
      "\u001b[93m!\u001b[0m Feature '107' had more than 78.00% missing values!\n",
      "\u001b[93m!\u001b[0m Feature '320' had more than 92.00% missing values!\n",
      "\u001b[93m!\u001b[0m Feature '179' had more than 95.00% missing values!\n",
      "\u001b[93m!\u001b[0m Feature '240' had more than 80.00% missing values!\n",
      "\u001b[93m!\u001b[0m Feature '367' had more than 100.00% missing values!\n",
      "\u001b[93m!\u001b[0m Feature '222' had more than 92.00% missing values!\n",
      "\u001b[93m!\u001b[0m Feature '279' had more than 100.00% missing values!\n",
      "\u001b[93m!\u001b[0m Feature '356' had more than 100.00% missing values!\n",
      "\u001b[93m!\u001b[0m Feature '376' had more than 99.00% missing values!\n",
      "\u001b[93m!\u001b[0m Feature '95' had more than 92.00% missing values!\n",
      "\u001b[93m!\u001b[0m Feature '442' had more than 100.00% missing values!\n",
      "\u001b[93m!\u001b[0m Feature '63' had more than 93.00% missing values!\n",
      "\u001b[93m!\u001b[0m Feature '118' had more than 93.00% missing values!\n",
      "\u001b[93m!\u001b[0m Feature '377' had more than 99.00% missing values!\n",
      "\u001b[93m!\u001b[0m Feature '247' had more than 88.00% missing values!\n",
      "\u001b[93m!\u001b[0m Feature '50' had more than 99.00% missing values!\n",
      "\u001b[93m!\u001b[0m Feature '411' had more than 98.00% missing values!\n",
      "\u001b[93m!\u001b[0m Feature '325' had more than 100.00% missing values!\n",
      "\u001b[93m!\u001b[0m Feature '88' had more than 87.00% missing values!\n",
      "\u001b[93m!\u001b[0m Feature '349' had more than 100.00% missing values!\n",
      "\u001b[93m!\u001b[0m Feature '337' had more than 97.00% missing values!\n",
      "\u001b[93m!\u001b[0m Feature '187' had more than 88.00% missing values!\n",
      "\u001b[93m!\u001b[0m Feature '429' had more than 100.00% missing values!\n",
      "\u001b[93m!\u001b[0m Feature '197' had more than 92.00% missing values!\n",
      "\u001b[93m!\u001b[0m Feature '407' had more than 99.00% missing values!\n",
      "\u001b[93m!\u001b[0m Feature '352' had more than 95.00% missing values!\n",
      "\u001b[93m!\u001b[0m Feature '281' had more than 100.00% missing values!\n",
      "\u001b[93m!\u001b[0m Feature '444' had more than 100.00% missing values!\n",
      "\u001b[93m!\u001b[0m Feature '375' had more than 99.00% missing values!\n",
      "\u001b[93m!\u001b[0m Feature '233' had more than 82.00% missing values!\n",
      "\u001b[93m!\u001b[0m Feature '44' had more than 82.00% missing values!\n",
      "\u001b[93m!\u001b[0m Feature '138' had more than 76.00% missing values!\n",
      "\u001b[93m!\u001b[0m Feature '224' had more than 78.00% missing values!\n",
      "\u001b[93m!\u001b[0m Feature '289' had more than 91.00% missing values!\n",
      "\u001b[93m!\u001b[0m Feature '57' had more than 71.00% missing values!\n",
      "\u001b[93m!\u001b[0m Feature '51' had more than 92.00% missing values!\n",
      "\u001b[93m!\u001b[0m Feature '371' had more than 99.00% missing values!\n",
      "\u001b[93m!\u001b[0m Feature '38' had more than 100.00% missing values!\n",
      "\u001b[93m!\u001b[0m Feature '168' had more than 100.00% missing values!\n",
      "\u001b[93m!\u001b[0m Feature '94' had more than 99.00% missing values!\n",
      "\u001b[93m!\u001b[0m Feature '343' had more than 89.00% missing values!\n",
      "\u001b[93m!\u001b[0m Feature '399' had more than 97.00% missing values!\n",
      "\u001b[93m!\u001b[0m Feature '316' had more than 100.00% missing values!\n",
      "\u001b[93m!\u001b[0m Feature '124' had more than 75.00% missing values!\n",
      "\u001b[93m!\u001b[0m Feature '416' had more than 99.00% missing values!\n",
      "\u001b[93m!\u001b[0m Feature '449' had more than 100.00% missing values!\n",
      "\u001b[93m!\u001b[0m Feature '261' had more than 98.00% missing values!\n",
      "\u001b[93m!\u001b[0m Feature '420' had more than 99.00% missing values!\n",
      "\u001b[93m!\u001b[0m Feature '327' had more than 100.00% missing values!\n",
      "\u001b[93m!\u001b[0m Feature '382' had more than 99.00% missing values!\n",
      "\u001b[93m!\u001b[0m Feature '241' had more than 97.00% missing values!\n",
      "\u001b[93m!\u001b[0m Feature '404' had more than 93.00% missing values!\n",
      "\u001b[93m!\u001b[0m Feature '198' had more than 100.00% missing values!\n",
      "\u001b[93m!\u001b[0m Feature '210' had more than 100.00% missing values!\n",
      "\u001b[93m!\u001b[0m Feature '398' had more than 97.00% missing values!\n",
      "\u001b[93m!\u001b[0m Feature '36' had more than 75.00% missing values!\n",
      "\u001b[93m!\u001b[0m Feature '326' had more than 100.00% missing values!\n",
      "\u001b[93m!\u001b[0m Feature '201' had more than 85.00% missing values!\n",
      "\u001b[93m!\u001b[0m Feature '385' had more than 99.00% missing values!\n",
      "\u001b[93m!\u001b[0m Feature '211' had more than 94.00% missing values!\n",
      "\u001b[93m!\u001b[0m Feature '208' had more than 100.00% missing values!\n",
      "\u001b[93m!\u001b[0m Feature '76' had more than 100.00% missing values!\n",
      "\u001b[93m!\u001b[0m Feature '419' had more than 99.00% missing values!\n",
      "\u001b[93m!\u001b[0m Feature '409' had more than 100.00% missing values!\n",
      "\u001b[93m!\u001b[0m Feature '129' had more than 100.00% missing values!\n",
      "\u001b[93m!\u001b[0m Feature '200' had more than 100.00% missing values!\n",
      "\u001b[93m!\u001b[0m Feature '25' had more than 97.00% missing values!\n",
      "\u001b[93m!\u001b[0m Feature '64' had more than 100.00% missing values!\n",
      "\u001b[93m!\u001b[0m Feature '68' had more than 96.00% missing values!\n",
      "\u001b[93m!\u001b[0m Feature '125' had more than 100.00% missing values!\n",
      "\u001b[93m!\u001b[0m Feature '405' had more than 93.00% missing values!\n",
      "\u001b[93m!\u001b[0m Feature '215' had more than 97.00% missing values!\n",
      "\u001b[93m!\u001b[0m Feature '55' had more than 71.00% missing values!\n",
      "\u001b[93m!\u001b[0m Feature '370' had more than 99.00% missing values!\n",
      "\u001b[93m!\u001b[0m Feature '386' had more than 99.00% missing values!\n",
      "\u001b[93m!\u001b[0m Feature '443' had more than 99.00% missing values!\n",
      "\u001b[93m!\u001b[0m Feature '350' had more than 98.00% missing values!\n",
      "\u001b[93m!\u001b[0m Feature '191' had more than 100.00% missing values!\n",
      "\u001b[93m!\u001b[0m Feature '318' had more than 98.00% missing values!\n",
      "\u001b[93m!\u001b[0m Feature '229' had more than 95.00% missing values!\n",
      "\u001b[93m!\u001b[0m Feature '85' had more than 100.00% missing values!\n",
      "\u001b[93m!\u001b[0m Feature '360' had more than 99.00% missing values!\n",
      "\u001b[93m!\u001b[0m Feature '104' had more than 100.00% missing values!\n",
      "\u001b[93m!\u001b[0m Feature '81' had more than 87.00% missing values!\n",
      "\u001b[93m!\u001b[0m Feature '355' had more than 100.00% missing values!\n",
      "\u001b[93m!\u001b[0m Feature '431' had more than 100.00% missing values!\n",
      "\u001b[93m!\u001b[0m Feature '142' had more than 96.00% missing values!\n",
      "\u001b[93m!\u001b[0m Feature '0' had more than 90.00% missing values!\n",
      "\u001b[93m!\u001b[0m Feature '238' had more than 97.00% missing values!\n",
      "\u001b[93m!\u001b[0m Feature '83' had more than 71.00% missing values!\n",
      "\u001b[93m!\u001b[0m Feature '447' had more than 100.00% missing values!\n",
      "\u001b[93m!\u001b[0m Feature '203' had more than 100.00% missing values!\n",
      "\u001b[93m!\u001b[0m Feature '30' had more than 85.00% missing values!\n",
      "\u001b[93m!\u001b[0m Feature '177' had more than 94.00% missing values!\n",
      "\u001b[93m!\u001b[0m Feature '306' had more than 100.00% missing values!\n",
      "\u001b[93m!\u001b[0m Feature '354' had more than 99.00% missing values!\n",
      "\u001b[93m!\u001b[0m Feature '97' had more than 71.00% missing values!\n",
      "\u001b[93m!\u001b[0m Feature '274' had more than 100.00% missing values!\n",
      "\u001b[93m!\u001b[0m Feature '127' had more than 100.00% missing values!\n",
      "\u001b[93m!\u001b[0m Feature '334' had more than 100.00% missing values!\n",
      "\u001b[93m!\u001b[0m Feature '251' had more than 85.00% missing values!\n",
      "\u001b[93m!\u001b[0m Feature '440' had more than 100.00% missing values!\n",
      "\u001b[93m!\u001b[0m Feature '56' had more than 94.00% missing values!\n",
      "\u001b[93m!\u001b[0m Feature '400' had more than 97.00% missing values!\n",
      "\u001b[93m!\u001b[0m Feature '136' had more than 73.00% missing values!\n",
      "\u001b[93m!\u001b[0m Feature '381' had more than 99.00% missing values!\n",
      "\u001b[93m!\u001b[0m Feature '248' had more than 88.00% missing values!\n",
      "\u001b[93m!\u001b[0m Feature '108' had more than 99.00% missing values!\n",
      "\u001b[93m!\u001b[0m Feature '65' had more than 94.00% missing values!\n",
      "\u001b[93m!\u001b[0m Feature '216' had more than 94.00% missing values!\n",
      "\u001b[93m!\u001b[0m Feature '181' had more than 92.00% missing values!\n",
      "\u001b[93m!\u001b[0m Feature '117' had more than 93.00% missing values!\n",
      "\u001b[93m!\u001b[0m Feature '387' had more than 99.00% missing values!\n",
      "\u001b[93m!\u001b[0m Feature '392' had more than 97.00% missing values!\n",
      "\u001b[93m!\u001b[0m Feature '227' had more than 76.00% missing values!\n",
      "\u001b[93m!\u001b[0m Feature '365' had more than 100.00% missing values!\n",
      "\u001b[93m!\u001b[0m Feature '383' had more than 99.00% missing values!\n",
      "\u001b[93m!\u001b[0m Feature '77' had more than 100.00% missing values!\n",
      "\u001b[93m!\u001b[0m Feature '235' had more than 84.00% missing values!\n",
      "\u001b[93m!\u001b[0m Feature '80' had more than 86.00% missing values!\n",
      "\u001b[93m!\u001b[0m Feature '90' had more than 99.00% missing values!\n",
      "\u001b[93m!\u001b[0m Feature '427' had more than 99.00% missing values!\n",
      "\u001b[93m!\u001b[0m Feature '123' had more than 98.00% missing values!\n",
      "\u001b[93m!\u001b[0m Feature '2' had more than 83.00% missing values!\n",
      "\u001b[93m!\u001b[0m Feature '342' had more than 98.00% missing values!\n",
      "\u001b[93m!\u001b[0m Feature '47' had more than 82.00% missing values!\n",
      "\u001b[93m!\u001b[0m Feature '71' had more than 81.00% missing values!\n",
      "\u001b[93m!\u001b[0m Feature '96' had more than 100.00% missing values!\n",
      "\u001b[93m!\u001b[0m Feature '45' had more than 82.00% missing values!\n",
      "\u001b[93m!\u001b[0m Feature '389' had more than 99.00% missing values!\n",
      "\u001b[93m!\u001b[0m Feature '91' had more than 96.00% missing values!\n",
      "\u001b[93m!\u001b[0m Feature '100' had more than 100.00% missing values!\n",
      "\u001b[93m!\u001b[0m Feature '335' had more than 83.00% missing values!\n",
      "\u001b[93m!\u001b[0m Feature '372' had more than 99.00% missing values!\n",
      "\u001b[93m!\u001b[0m Feature '143' had more than 94.00% missing values!\n",
      "\u001b[93m!\u001b[0m Feature '220' had more than 86.00% missing values!\n",
      "\u001b[93m!\u001b[0m Feature '206' had more than 94.00% missing values!\n",
      "\u001b[93m!\u001b[0m Feature '388' had more than 99.00% missing values!\n",
      "\u001b[93m!\u001b[0m Feature '446' had more than 100.00% missing values!\n",
      "\u001b[93m!\u001b[0m Feature '207' had more than 94.00% missing values!\n",
      "\u001b[93m!\u001b[0m Feature '321' had more than 98.00% missing values!\n",
      "\u001b[93m!\u001b[0m Feature '425' had more than 100.00% missing values!\n",
      "\u001b[93m!\u001b[0m Feature '153' had more than 100.00% missing values!\n",
      "\u001b[93m!\u001b[0m Feature '188' had more than 87.00% missing values!\n",
      "\u001b[93m!\u001b[0m Feature '160' had more than 100.00% missing values!\n",
      "\u001b[93m!\u001b[0m Feature '42' had more than 100.00% missing values!\n",
      "\u001b[93m!\u001b[0m Feature '190' had more than 82.00% missing values!\n",
      "\u001b[93m!\u001b[0m Feature '139' had more than 97.00% missing values!\n",
      "\u001b[93m!\u001b[0m Feature '183' had more than 100.00% missing values!\n",
      "\u001b[93m!\u001b[0m Feature '75' had more than 100.00% missing values!\n",
      "\u001b[93m!\u001b[0m Feature '103' had more than 86.00% missing values!\n",
      "\u001b[93m!\u001b[0m Feature '275' had more than 100.00% missing values!\n",
      "\u001b[93m!\u001b[0m Feature '373' had more than 99.00% missing values!\n",
      "\u001b[93m!\u001b[0m Feature '358' had more than 99.00% missing values!\n",
      "\u001b[93m!\u001b[0m Feature '313' had more than 98.00% missing values!\n",
      "\u001b[93m!\u001b[0m Feature '232' had more than 80.00% missing values!\n",
      "\u001b[93m!\u001b[0m Feature '364' had more than 100.00% missing values!\n",
      "\u001b[93m!\u001b[0m Feature '237' had more than 83.00% missing values!\n",
      "\u001b[93m!\u001b[0m Feature '423' had more than 100.00% missing values!\n",
      "\u001b[93m!\u001b[0m Feature '437' had more than 99.00% missing values!\n",
      "\u001b[93m!\u001b[0m Feature '74' had more than 100.00% missing values!\n",
      "\u001b[93m!\u001b[0m Feature '67' had more than 92.00% missing values!\n",
      "\u001b[93m!\u001b[0m Feature '106' had more than 93.00% missing values!\n",
      "\u001b[93m!\u001b[0m Feature '112' had more than 94.00% missing values!\n",
      "\u001b[93m!\u001b[0m Feature '225' had more than 84.00% missing values!\n",
      "\u001b[93m!\u001b[0m Feature '297' had more than 82.00% missing values!\n",
      "\u001b[93m!\u001b[0m Feature '397' had more than 97.00% missing values!\n",
      "\u001b[93m!\u001b[0m Feature '234' had more than 80.00% missing values!\n",
      "\u001b[93m!\u001b[0m Feature '428' had more than 100.00% missing values!\n",
      "\u001b[93m!\u001b[0m Feature '69' had more than 80.00% missing values!\n"
     ]
    },
    {
     "data": {
      "application/vnd.jupyter.widget-view+json": {
       "model_id": "c35bde8908994013b5fdad2b08d545bb",
       "version_major": 2,
       "version_minor": 0
      },
      "text/plain": [
       "Output()"
      ]
     },
     "metadata": {},
     "output_type": "display_data"
    },
    {
     "data": {
      "text/html": [
       "<pre style=\"white-space:pre;overflow-x:auto;line-height:normal;font-family:Menlo,'DejaVu Sans Mono',consolas,'Courier New',monospace\"></pre>\n"
      ],
      "text/plain": []
     },
     "metadata": {},
     "output_type": "display_data"
    }
   ],
   "source": [
    "ep.pp.explicit_impute(edata, replacement=0)"
   ]
  },
  {
   "cell_type": "markdown",
   "metadata": {},
   "source": [
    "### Lamin Validation\n",
    "\n"
   ]
  },
  {
   "cell_type": "code",
   "execution_count": 37,
   "metadata": {},
   "outputs": [
    {
     "name": "stdout",
     "output_type": "stream",
     "text": [
      "\u001b[92m→\u001b[0m connected lamindb: theislab/ehr\n"
     ]
    }
   ],
   "source": [
    "!lamin connect theislab/ehr"
   ]
  },
  {
   "cell_type": "code",
   "execution_count": 40,
   "metadata": {},
   "outputs": [],
   "source": [
    "import omop as op\n",
    "import pandas as pd"
   ]
  },
  {
   "cell_type": "markdown",
   "metadata": {},
   "source": [
    "#### Prepare inputs"
   ]
  },
  {
   "cell_type": "code",
   "execution_count": 41,
   "metadata": {},
   "outputs": [],
   "source": [
    "edata.var.rename(columns={0: \"concept_id\"}, inplace=True)"
   ]
  },
  {
   "cell_type": "code",
   "execution_count": 43,
   "metadata": {},
   "outputs": [],
   "source": [
    "# Concepts vocabulary from OMOP. Intersection with ehdata.var\n",
    "omop_concepts = pd.read_csv(\"./metadata/omop_validation_slice.csv\")"
   ]
  },
  {
   "cell_type": "code",
   "execution_count": 73,
   "metadata": {},
   "outputs": [
    {
     "data": {
      "text/plain": [
       "0      True\n",
       "1      True\n",
       "2      True\n",
       "3      True\n",
       "4      True\n",
       "       ... \n",
       "445    True\n",
       "446    True\n",
       "447    True\n",
       "448    True\n",
       "449    True\n",
       "Name: concept_id, Length: 450, dtype: bool"
      ]
     },
     "execution_count": 73,
     "metadata": {},
     "output_type": "execute_result"
    }
   ],
   "source": [
    "edata.var.concept_id.isin(omop_concepts.concept_id)"
   ]
  },
  {
   "cell_type": "code",
   "execution_count": 71,
   "metadata": {},
   "outputs": [
    {
     "data": {
      "text/html": [
       "<div>\n",
       "<style scoped>\n",
       "    .dataframe tbody tr th:only-of-type {\n",
       "        vertical-align: middle;\n",
       "    }\n",
       "\n",
       "    .dataframe tbody tr th {\n",
       "        vertical-align: top;\n",
       "    }\n",
       "\n",
       "    .dataframe thead th {\n",
       "        text-align: right;\n",
       "    }\n",
       "</style>\n",
       "<table border=\"1\" class=\"dataframe\">\n",
       "  <thead>\n",
       "    <tr style=\"text-align: right;\">\n",
       "      <th></th>\n",
       "      <th>concept_id</th>\n",
       "      <th>missing_values_abs</th>\n",
       "      <th>missing_values_pct</th>\n",
       "      <th>mean</th>\n",
       "      <th>median</th>\n",
       "      <th>standard_deviation</th>\n",
       "      <th>min</th>\n",
       "      <th>max</th>\n",
       "      <th>iqr_outliers</th>\n",
       "      <th>concept_name</th>\n",
       "      <th>domain_id</th>\n",
       "      <th>vocabulary_id</th>\n",
       "      <th>concept_class</th>\n",
       "      <th>standard_concept</th>\n",
       "      <th>concept_code</th>\n",
       "      <th>valid_start_date</th>\n",
       "      <th>valid_end_date</th>\n",
       "      <th>invalid_reason</th>\n",
       "    </tr>\n",
       "  </thead>\n",
       "  <tbody>\n",
       "    <tr>\n",
       "      <th>0</th>\n",
       "      <td>3007913</td>\n",
       "      <td>90</td>\n",
       "      <td>90.0</td>\n",
       "      <td>493.900000</td>\n",
       "      <td>511.0</td>\n",
       "      <td>84.042192</td>\n",
       "      <td>361.0</td>\n",
       "      <td>588.0</td>\n",
       "      <td>False</td>\n",
       "      <td>Alveolar-arterial oxygen Partial pressure diff...</td>\n",
       "      <td>Measurement</td>\n",
       "      <td>LOINC</td>\n",
       "      <td>Clinical Observation</td>\n",
       "      <td>S</td>\n",
       "      <td>19991-9</td>\n",
       "      <td>1970-01-01</td>\n",
       "      <td>2099-12-31</td>\n",
       "      <td>nan</td>\n",
       "    </tr>\n",
       "    <tr>\n",
       "      <th>1</th>\n",
       "      <td>3012501</td>\n",
       "      <td>23</td>\n",
       "      <td>23.0</td>\n",
       "      <td>-1.259740</td>\n",
       "      <td>0.0</td>\n",
       "      <td>4.694298</td>\n",
       "      <td>-18.0</td>\n",
       "      <td>8.0</td>\n",
       "      <td>True</td>\n",
       "      <td>Base excess in Blood by calculation</td>\n",
       "      <td>Measurement</td>\n",
       "      <td>LOINC</td>\n",
       "      <td>Lab Test</td>\n",
       "      <td>S</td>\n",
       "      <td>11555-0</td>\n",
       "      <td>1970-01-01</td>\n",
       "      <td>2099-12-31</td>\n",
       "      <td>nan</td>\n",
       "    </tr>\n",
       "    <tr>\n",
       "      <th>2</th>\n",
       "      <td>0</td>\n",
       "      <td>83</td>\n",
       "      <td>83.0</td>\n",
       "      <td>2461.823529</td>\n",
       "      <td>84.0</td>\n",
       "      <td>7153.019915</td>\n",
       "      <td>-438.0</td>\n",
       "      <td>29875.0</td>\n",
       "      <td>True</td>\n",
       "      <td>No matching concept</td>\n",
       "      <td>Metadata</td>\n",
       "      <td>NaN</td>\n",
       "      <td>Undefined</td>\n",
       "      <td>nan</td>\n",
       "      <td>No matching concept</td>\n",
       "      <td>1970-01-01</td>\n",
       "      <td>2099-12-31</td>\n",
       "      <td>nan</td>\n",
       "    </tr>\n",
       "    <tr>\n",
       "      <th>3</th>\n",
       "      <td>3031147</td>\n",
       "      <td>23</td>\n",
       "      <td>23.0</td>\n",
       "      <td>24.285714</td>\n",
       "      <td>24.0</td>\n",
       "      <td>4.780526</td>\n",
       "      <td>12.0</td>\n",
       "      <td>37.0</td>\n",
       "      <td>True</td>\n",
       "      <td>Carbon dioxide, total [Moles/volume] in Blood ...</td>\n",
       "      <td>Measurement</td>\n",
       "      <td>LOINC</td>\n",
       "      <td>Lab Test</td>\n",
       "      <td>S</td>\n",
       "      <td>34728-6</td>\n",
       "      <td>2003-11-04</td>\n",
       "      <td>2099-12-31</td>\n",
       "      <td>nan</td>\n",
       "    </tr>\n",
       "    <tr>\n",
       "      <th>4</th>\n",
       "      <td>3018572</td>\n",
       "      <td>49</td>\n",
       "      <td>49.0</td>\n",
       "      <td>104.784314</td>\n",
       "      <td>105.0</td>\n",
       "      <td>5.922088</td>\n",
       "      <td>88.0</td>\n",
       "      <td>120.0</td>\n",
       "      <td>True</td>\n",
       "      <td>Chloride [Moles/volume] in Blood</td>\n",
       "      <td>Measurement</td>\n",
       "      <td>LOINC</td>\n",
       "      <td>Lab Test</td>\n",
       "      <td>S</td>\n",
       "      <td>2069-3</td>\n",
       "      <td>1970-01-01</td>\n",
       "      <td>2099-12-31</td>\n",
       "      <td>nan</td>\n",
       "    </tr>\n",
       "    <tr>\n",
       "      <th>...</th>\n",
       "      <td>...</td>\n",
       "      <td>...</td>\n",
       "      <td>...</td>\n",
       "      <td>...</td>\n",
       "      <td>...</td>\n",
       "      <td>...</td>\n",
       "      <td>...</td>\n",
       "      <td>...</td>\n",
       "      <td>...</td>\n",
       "      <td>...</td>\n",
       "      <td>...</td>\n",
       "      <td>...</td>\n",
       "      <td>...</td>\n",
       "      <td>...</td>\n",
       "      <td>...</td>\n",
       "      <td>...</td>\n",
       "      <td>...</td>\n",
       "      <td>...</td>\n",
       "    </tr>\n",
       "    <tr>\n",
       "      <th>444</th>\n",
       "      <td>3001137</td>\n",
       "      <td>100</td>\n",
       "      <td>100.0</td>\n",
       "      <td>NaN</td>\n",
       "      <td>NaN</td>\n",
       "      <td>NaN</td>\n",
       "      <td>NaN</td>\n",
       "      <td>NaN</td>\n",
       "      <td>False</td>\n",
       "      <td>Triple phosphate crystals [Presence] in Urine ...</td>\n",
       "      <td>Measurement</td>\n",
       "      <td>LOINC</td>\n",
       "      <td>Lab Test</td>\n",
       "      <td>S</td>\n",
       "      <td>5814-9</td>\n",
       "      <td>1970-01-01</td>\n",
       "      <td>2099-12-31</td>\n",
       "      <td>nan</td>\n",
       "    </tr>\n",
       "    <tr>\n",
       "      <th>445</th>\n",
       "      <td>3002620</td>\n",
       "      <td>100</td>\n",
       "      <td>100.0</td>\n",
       "      <td>NaN</td>\n",
       "      <td>NaN</td>\n",
       "      <td>NaN</td>\n",
       "      <td>NaN</td>\n",
       "      <td>NaN</td>\n",
       "      <td>False</td>\n",
       "      <td>Howell-Jolly bodies [Presence] in Blood by Lig...</td>\n",
       "      <td>Measurement</td>\n",
       "      <td>LOINC</td>\n",
       "      <td>Lab Test</td>\n",
       "      <td>S</td>\n",
       "      <td>7793-3</td>\n",
       "      <td>1970-01-01</td>\n",
       "      <td>2099-12-31</td>\n",
       "      <td>nan</td>\n",
       "    </tr>\n",
       "    <tr>\n",
       "      <th>446</th>\n",
       "      <td>3010950</td>\n",
       "      <td>100</td>\n",
       "      <td>100.0</td>\n",
       "      <td>NaN</td>\n",
       "      <td>NaN</td>\n",
       "      <td>NaN</td>\n",
       "      <td>NaN</td>\n",
       "      <td>NaN</td>\n",
       "      <td>False</td>\n",
       "      <td>Oval macrocytes [Presence] in Blood by Light m...</td>\n",
       "      <td>Measurement</td>\n",
       "      <td>LOINC</td>\n",
       "      <td>Lab Test</td>\n",
       "      <td>S</td>\n",
       "      <td>10376-2</td>\n",
       "      <td>1970-01-01</td>\n",
       "      <td>2099-12-31</td>\n",
       "      <td>nan</td>\n",
       "    </tr>\n",
       "    <tr>\n",
       "      <th>447</th>\n",
       "      <td>40758035</td>\n",
       "      <td>100</td>\n",
       "      <td>100.0</td>\n",
       "      <td>NaN</td>\n",
       "      <td>NaN</td>\n",
       "      <td>NaN</td>\n",
       "      <td>NaN</td>\n",
       "      <td>NaN</td>\n",
       "      <td>False</td>\n",
       "      <td>Norovirus genogroup I RNA [Presence] in Stool ...</td>\n",
       "      <td>Measurement</td>\n",
       "      <td>LOINC</td>\n",
       "      <td>Lab Test</td>\n",
       "      <td>S</td>\n",
       "      <td>54905-5</td>\n",
       "      <td>2009-01-21</td>\n",
       "      <td>2099-12-31</td>\n",
       "      <td>nan</td>\n",
       "    </tr>\n",
       "    <tr>\n",
       "      <th>448</th>\n",
       "      <td>40758036</td>\n",
       "      <td>100</td>\n",
       "      <td>100.0</td>\n",
       "      <td>NaN</td>\n",
       "      <td>NaN</td>\n",
       "      <td>NaN</td>\n",
       "      <td>NaN</td>\n",
       "      <td>NaN</td>\n",
       "      <td>False</td>\n",
       "      <td>Norovirus genogroup II RNA [Presence] in Stool...</td>\n",
       "      <td>Measurement</td>\n",
       "      <td>LOINC</td>\n",
       "      <td>Lab Test</td>\n",
       "      <td>S</td>\n",
       "      <td>54906-3</td>\n",
       "      <td>2009-01-21</td>\n",
       "      <td>2099-12-31</td>\n",
       "      <td>nan</td>\n",
       "    </tr>\n",
       "  </tbody>\n",
       "</table>\n",
       "<p>449 rows × 18 columns</p>\n",
       "</div>"
      ],
      "text/plain": [
       "     concept_id  missing_values_abs  missing_values_pct         mean  median  \\\n",
       "0       3007913                  90                90.0   493.900000   511.0   \n",
       "1       3012501                  23                23.0    -1.259740     0.0   \n",
       "2             0                  83                83.0  2461.823529    84.0   \n",
       "3       3031147                  23                23.0    24.285714    24.0   \n",
       "4       3018572                  49                49.0   104.784314   105.0   \n",
       "..          ...                 ...                 ...          ...     ...   \n",
       "444     3001137                 100               100.0          NaN     NaN   \n",
       "445     3002620                 100               100.0          NaN     NaN   \n",
       "446     3010950                 100               100.0          NaN     NaN   \n",
       "447    40758035                 100               100.0          NaN     NaN   \n",
       "448    40758036                 100               100.0          NaN     NaN   \n",
       "\n",
       "     standard_deviation    min      max  iqr_outliers  \\\n",
       "0             84.042192  361.0    588.0         False   \n",
       "1              4.694298  -18.0      8.0          True   \n",
       "2           7153.019915 -438.0  29875.0          True   \n",
       "3              4.780526   12.0     37.0          True   \n",
       "4              5.922088   88.0    120.0          True   \n",
       "..                  ...    ...      ...           ...   \n",
       "444                 NaN    NaN      NaN         False   \n",
       "445                 NaN    NaN      NaN         False   \n",
       "446                 NaN    NaN      NaN         False   \n",
       "447                 NaN    NaN      NaN         False   \n",
       "448                 NaN    NaN      NaN         False   \n",
       "\n",
       "                                          concept_name    domain_id  \\\n",
       "0    Alveolar-arterial oxygen Partial pressure diff...  Measurement   \n",
       "1                  Base excess in Blood by calculation  Measurement   \n",
       "2                                  No matching concept     Metadata   \n",
       "3    Carbon dioxide, total [Moles/volume] in Blood ...  Measurement   \n",
       "4                     Chloride [Moles/volume] in Blood  Measurement   \n",
       "..                                                 ...          ...   \n",
       "444  Triple phosphate crystals [Presence] in Urine ...  Measurement   \n",
       "445  Howell-Jolly bodies [Presence] in Blood by Lig...  Measurement   \n",
       "446  Oval macrocytes [Presence] in Blood by Light m...  Measurement   \n",
       "447  Norovirus genogroup I RNA [Presence] in Stool ...  Measurement   \n",
       "448  Norovirus genogroup II RNA [Presence] in Stool...  Measurement   \n",
       "\n",
       "    vocabulary_id         concept_class standard_concept         concept_code  \\\n",
       "0           LOINC  Clinical Observation                S              19991-9   \n",
       "1           LOINC              Lab Test                S              11555-0   \n",
       "2             NaN             Undefined              nan  No matching concept   \n",
       "3           LOINC              Lab Test                S              34728-6   \n",
       "4           LOINC              Lab Test                S               2069-3   \n",
       "..            ...                   ...              ...                  ...   \n",
       "444         LOINC              Lab Test                S               5814-9   \n",
       "445         LOINC              Lab Test                S               7793-3   \n",
       "446         LOINC              Lab Test                S              10376-2   \n",
       "447         LOINC              Lab Test                S              54905-5   \n",
       "448         LOINC              Lab Test                S              54906-3   \n",
       "\n",
       "    valid_start_date valid_end_date invalid_reason  \n",
       "0         1970-01-01     2099-12-31            nan  \n",
       "1         1970-01-01     2099-12-31            nan  \n",
       "2         1970-01-01     2099-12-31            nan  \n",
       "3         2003-11-04     2099-12-31            nan  \n",
       "4         1970-01-01     2099-12-31            nan  \n",
       "..               ...            ...            ...  \n",
       "444       1970-01-01     2099-12-31            nan  \n",
       "445       1970-01-01     2099-12-31            nan  \n",
       "446       1970-01-01     2099-12-31            nan  \n",
       "447       2009-01-21     2099-12-31            nan  \n",
       "448       2009-01-21     2099-12-31            nan  \n",
       "\n",
       "[449 rows x 18 columns]"
      ]
     },
     "execution_count": 71,
     "metadata": {},
     "output_type": "execute_result"
    }
   ],
   "source": [
    "pd.merge(edata.var, omop_concepts, on=\"concept_id\", how=\"inner\")"
   ]
  },
  {
   "cell_type": "code",
   "execution_count": 44,
   "metadata": {},
   "outputs": [],
   "source": [
    "# change the type to match `omop.Concept` typing\n",
    "omop_concepts = omop_concepts.astype(\n",
    "    {\n",
    "        \"standard_concept\": \"str\",\n",
    "        \"invalid_reason\": \"str\",\n",
    "    }\n",
    ")"
   ]
  },
  {
   "cell_type": "code",
   "execution_count": 45,
   "metadata": {},
   "outputs": [],
   "source": [
    "DEFAULTS_VALUES_VAR = {\n",
    "    \"concept_id\": int,\n",
    "    \"concept_name\": str,\n",
    "    \"domain_id\": str,\n",
    "    \"vocabulary_id\": str,\n",
    "    \"concept_class\": str,\n",
    "    \"standard_concept\": (str, type(None)),\n",
    "    \"concept_code\": str,\n",
    "    \"valid_start_date\": str,\n",
    "    \"valid_end_date\": str,\n",
    "    \"invalid_reason\": (str, type(None)),\n",
    "}\n",
    "\n",
    "for column, expected_type in DEFAULTS_VALUES_VAR.items():\n",
    "    # Check if the column exists in the DataFrame\n",
    "    if column not in omop_concepts.columns:\n",
    "        msg = f\"Required column '{column}' is missing from the DataFrame.\"\n",
    "        raise ValueError(msg)\n",
    "\n",
    "    # Adjust type check for string columns (object is the pandas dtype for strings)\n",
    "    if expected_type is str:\n",
    "        if omop_concepts[column].dtype != \"object\":\n",
    "            msg = f\"Column '{column}' has incorrect data type. Expected string (object in pandas).\"\n",
    "            raise TypeError(msg)\n",
    "    elif isinstance(expected_type, tuple):  # For optional fields (e.g., str or None)\n",
    "        if not omop_concepts[column].map(lambda x, expected_type=expected_type: isinstance(x, expected_type)).all():\n",
    "            msg = f\"Column '{column}' has incorrect data type. Expected one of {expected_type}.\"\n",
    "            raise TypeError(msg)\n",
    "    elif not omop_concepts[column].map(lambda x, expected_type=expected_type: isinstance(x, expected_type)).all():\n",
    "        msg = f\"Column '{column}' has incorrect data type. Expected {expected_type.__name__}.\"\n",
    "        raise TypeError(msg)"
   ]
  },
  {
   "cell_type": "markdown",
   "metadata": {},
   "source": [
    "#### Push to lamin"
   ]
  },
  {
   "cell_type": "code",
   "execution_count": null,
   "metadata": {},
   "outputs": [],
   "source": [
    "# Skip, concepts already pushed Lamin\n",
    "concepts = [op.Concept(**row.to_dict()) for _, row in omop_concepts.iterrows()]\n",
    "for concept in concepts:\n",
    "    concept.save()"
   ]
  },
  {
   "cell_type": "markdown",
   "metadata": {},
   "source": [
    "#### EHR curator"
   ]
  },
  {
   "cell_type": "code",
   "execution_count": null,
   "metadata": {},
   "outputs": [],
   "source": [
    "curator = ehrdata.tl.EHRCurator(\n",
    "    edata=edata,\n",
    "    concepts_var_column=\"concept_id\",\n",
    ")"
   ]
  },
  {
   "cell_type": "code",
   "execution_count": 81,
   "metadata": {},
   "outputs": [],
   "source": [
    "edata = curator.validate_adata(op)"
   ]
  },
  {
   "cell_type": "code",
   "execution_count": 76,
   "metadata": {},
   "outputs": [
    {
     "data": {
      "text/plain": [
       "<Axes: xlabel='valid_concept_id'>"
      ]
     },
     "execution_count": 76,
     "metadata": {},
     "output_type": "execute_result"
    },
    {
     "data": {
      "image/png": "[encoded data removed]",
      "text/plain": [
       "<Figure size 640x480 with 1 Axes>"
      ]
     },
     "metadata": {},
     "output_type": "display_data"
    }
   ],
   "source": [
    "edata.var.valid_concept_id.value_counts().plot(kind=\"bar\")"
   ]
  },
  {
   "cell_type": "markdown",
   "metadata": {},
   "source": [
    "#### Visualization"
   ]
  },
  {
   "cell_type": "code",
   "execution_count": 55,
   "metadata": {},
   "outputs": [
    {
     "data": {
      "application/vnd.jupyter.widget-view+json": {
       "model_id": "19b010294a1440b4b52f3dfc73425b50",
       "version_major": 2,
       "version_minor": 0
      },
      "text/plain": [
       "VBox(children=(HTML(value='<h3>Please select which embedding do you want to use:</h3>'), RadioButtons(index=1,…"
      ]
     },
     "metadata": {},
     "output_type": "display_data"
    }
   ],
   "source": [
    "display(ui_emb)"
   ]
  },
  {
   "cell_type": "code",
   "execution_count": 56,
   "metadata": {},
   "outputs": [],
   "source": [
    "ep.pp.pca(edata)\n",
    "if selected_emb.value == \"umap\":\n",
    "    ep.pp.neighbors(edata)\n",
    "    ep.tl.umap(edata)"
   ]
  },
  {
   "cell_type": "code",
   "execution_count": 57,
   "metadata": {},
   "outputs": [],
   "source": [
    "adata = ad.AnnData(X=edata.X, obs=edata.obs, var=edata.var)"
   ]
  },
  {
   "cell_type": "markdown",
   "metadata": {},
   "source": [
    "#### Q: why is any of this interesting?\n",
    "#### A: because now ehrapy and more tools in the future of its ecosystem (like with scanpy) can nicely access this!"
   ]
  },
  {
   "cell_type": "code",
   "execution_count": 51,
   "metadata": {},
   "outputs": [
    {
     "data": {
      "image/png": "[encoded data removed]",
      "text/plain": [
       "<Figure size 640x480 with 1 Axes>"
      ]
     },
     "metadata": {},
     "output_type": "display_data"
    }
   ],
   "source": [
    "ct = ep.tl.CohortTracker(\n",
    "    edata,\n",
    "    columns=[\n",
    "        \"gender_concept_id\",\n",
    "        \"year_of_birth\",\n",
    "        \"race_concept_id\",\n",
    "        \"period_type_concept_id\",\n",
    "    ],\n",
    "    categorical=[\"gender_concept_id\", \"race_concept_id\", \"period_type_concept_id\"],\n",
    ")\n",
    "\n",
    "ct(edata)\n",
    "\n",
    "ct.plot_cohort_barplot(\n",
    "    legend_labels={\n",
    "        # 0: \"Unknown\",\n",
    "        # 8516: \"Black or African American\",\n",
    "        # \"year_of_birth\": \"Birthyear (artificial)\",\n",
    "        # 8507: \"Male\",\n",
    "        # 8532: \"Female\",\n",
    "    },\n",
    "    legend_subtitles_names={\"gender_concept_id\": \"Gender\"},\n",
    ")"
   ]
  },
  {
   "cell_type": "markdown",
   "metadata": {},
   "source": [
    "### Visualization with Vitessce in notebook"
   ]
  },
  {
   "cell_type": "markdown",
   "metadata": {},
   "source": [
    "1. Import dependencies"
   ]
  },
  {
   "cell_type": "code",
   "execution_count": 52,
   "metadata": {},
   "outputs": [],
   "source": [
    "from pathlib import Path\n",
    "\n",
    "from vitessce.data_utils import optimize_adata, VAR_CHUNK_SIZE"
   ]
  },
  {
   "cell_type": "markdown",
   "metadata": {},
   "source": [
    "2. Save the AnnData object to Zarr"
   ]
  },
  {
   "cell_type": "code",
   "execution_count": 53,
   "metadata": {},
   "outputs": [],
   "source": [
    "zarr_filepath = Path(\"data\", \"processed_ehrdata.zarr\")"
   ]
  },
  {
   "cell_type": "code",
   "execution_count": 58,
   "metadata": {},
   "outputs": [],
   "source": [
    "if not zarr_filepath.is_dir():\n",
    "    edata = optimize_adata(\n",
    "        edata,\n",
    "        obs_cols=[\"gender_concept_id\", \"race_concept_id\"],\n",
    "        obsm_keys=[\"X_pca\", \"X_umap\"],\n",
    "        optimize_X=True,\n",
    "    )\n",
    "    edata.write_zarr(zarr_filepath, chunks=[edata.shape[0], VAR_CHUNK_SIZE])\n",
    "else:\n",
    "    print(f\"path exists, did not write new file: {zarr_filepath}\")"
   ]
  },
  {
   "cell_type": "markdown",
   "metadata": {},
   "source": [
    "3. Create a Vitessce view config"
   ]
  },
  {
   "cell_type": "code",
   "execution_count": 59,
   "metadata": {},
   "outputs": [],
   "source": [
    "import ehrdata.pl.vitessce\n",
    "\n",
    "vc = ehrdata.pl.vitessce.gen_config(zarr_filepath)"
   ]
  },
  {
   "cell_type": "markdown",
   "metadata": {},
   "source": [
    "4. Create the Vitessce widget"
   ]
  },
  {
   "cell_type": "code",
   "execution_count": 85,
   "metadata": {},
   "outputs": [],
   "source": [
    "import lamindb as ln"
   ]
  },
  {
   "cell_type": "code",
   "execution_count": 87,
   "metadata": {},
   "outputs": [],
   "source": [
    "ln.connect(\"theislab/ehr\")"
   ]
  },
  {
   "cell_type": "code",
   "execution_count": 60,
   "metadata": {},
   "outputs": [
    {
     "data": {
      "application/vnd.jupyter.widget-view+json": {
       "model_id": "16146e5447fe4003b978ea3939973877",
       "version_major": 2,
       "version_minor": 1
      },
      "text/plain": [
       "VitessceWidget(config={'version': '1.0.15', 'name': 'processed_ehrdata', 'description': '', 'datasets': [{'uid…"
      ]
     },
     "execution_count": 60,
     "metadata": {},
     "output_type": "execute_result"
    }
   ],
   "source": [
    "vw = vc.widget()\n",
    "vw"
   ]
  },
  {
   "cell_type": "markdown",
   "metadata": {},
   "source": [
    "Should look like this:"
   ]
  },
  {
   "cell_type": "markdown",
   "metadata": {},
   "source": [
    "![](../_static/tutorial_images/vitessce_screenshot.png)"
   ]
  },
  {
   "cell_type": "markdown",
   "metadata": {},
   "source": [
    "### Visualization with Vitessce on lamin\n",
    "Uploading dataset on lamin allows even easier sharing and looking at dataset together. Together with the dedicated validation functionality that lamin has and we might extend, this makes lamin + ehrdata a powerful coupling.\n",
    "\n",
    "**This requires to connect to lamindb from terminal to work!**\n",
    "```\n",
    "lamin login <credentials>\n",
    "```"
   ]
  },
  {
   "cell_type": "code",
   "execution_count": 62,
   "metadata": {},
   "outputs": [],
   "source": [
    "import lamindb as ln"
   ]
  },
  {
   "cell_type": "code",
   "execution_count": null,
   "metadata": {},
   "outputs": [],
   "source": [
    "zarr_artifact = ln.Artifact(\n",
    "    zarr_filepath,\n",
    "    description=\"Dummy EHRDataset\",\n",
    ")\n",
    "zarr_artifact.save()"
   ]
  },
  {
   "cell_type": "code",
   "execution_count": 67,
   "metadata": {},
   "outputs": [
    {
     "data": {
      "application/vnd.jupyter.widget-view+json": {
       "model_id": "99872d3c57464d46b28e01cf6a691c2e",
       "version_major": 2,
       "version_minor": 1
      },
      "text/plain": [
       "VitessceWidget(config={'version': '1.0.15', 'name': 'Dummy EHRDataset', 'description': '', 'datasets': [{'uid'…"
      ]
     },
     "execution_count": 67,
     "metadata": {},
     "output_type": "execute_result"
    }
   ],
   "source": [
    "vc = ehrdata.pl.vitessce.gen_config(artifact=zarr_artifact, url=zarr_artifact.path.to_url())\n",
    "vc.widget()"
   ]
  },
  {
   "cell_type": "code",
   "execution_count": 68,
   "metadata": {},
   "outputs": [],
   "source": [
    "from lamindb.integrations import save_vitessce_config"
   ]
  },
  {
   "cell_type": "code",
   "execution_count": null,
   "metadata": {},
   "outputs": [],
   "source": [
    "vc_artifact = save_vitessce_config(vc, description=\"Dummy OMOP prepared dataset\")"
   ]
  },
  {
   "cell_type": "markdown",
   "metadata": {},
   "source": [
    "Now our data is stored on the cloud, managed by lamin:"
   ]
  },
  {
   "cell_type": "markdown",
   "metadata": {},
   "source": [
    "![](../_static/tutorial_images/laminhub_screenshot.png)"
   ]
  },
  {
   "cell_type": "markdown",
   "metadata": {},
   "source": [
    "Now we can share the data with others easily, and give them a look at it: all they need is access to our lamin storage & click the vitessce button next to the dataset in their browser!"
   ]
  },
  {
   "cell_type": "markdown",
   "metadata": {},
   "source": [
    "### Bonus: Lamin utility\n",
    "Using lamin offers a lot of powerful tracking of our data and how we operated on it."
   ]
  },
  {
   "cell_type": "code",
   "execution_count": 82,
   "metadata": {},
   "outputs": [
    {
     "data": {
      "image/svg+xml": [
       "<?xml version=\"1.0\" encoding=\"UTF-8\" standalone=\"no\"?>\n",
       "<!DOCTYPE svg PUBLIC \"-//W3C//DTD SVG 1.1//EN\"\n",
       " \"http://www.w3.org/Graphics/SVG/1.1/DTD/svg11.dtd\">\n",
       "<!-- Generated by graphviz version 12.1.2 (20240928.0832)\n",
       " -->\n",
       "<!-- Title: artifact_Ub01v0M2DGlZSFn20000 Pages: 1 -->\n",
       "<svg width=\"186pt\" height=\"204pt\"\n",
       " viewBox=\"0.00 0.00 186.00 204.00\" xmlns=\"http://www.w3.org/2000/svg\" xmlns:xlink=\"http://www.w3.org/1999/xlink\">\n",
       "<g id=\"graph0\" class=\"graph\" transform=\"scale(1 1) rotate(0) translate(4 200)\">\n",
       "<title>artifact_Ub01v0M2DGlZSFn20000</title>\n",
       "<polygon fill=\"white\" stroke=\"none\" points=\"-4,4 -4,-200 182,-200 182,4 -4,4\"/>\n",
       "<!-- artifact_IITWOkou2A6FQ1l90000 -->\n",
       "<g id=\"node1\" class=\"node\">\n",
       "<title>artifact_IITWOkou2A6FQ1l90000</title>\n",
       "<path fill=\"honeydew\" stroke=\"#065f46\" d=\"M157,-196C157,-196 21,-196 21,-196 15,-196 9,-190 9,-184 9,-184 9,-170 9,-170 9,-164 15,-158 21,-158 21,-158 157,-158 157,-158 163,-158 169,-164 169,-170 169,-170 169,-184 169,-184 169,-190 163,-196 157,-196\"/>\n",
       "<text text-anchor=\"start\" x=\"35.75\" y=\"-183.5\" font-family=\"Helvetica,sans-Serif\" font-size=\"10.00\">📄 Dummy EHRDataset</text>\n",
       "<text text-anchor=\"start\" x=\"17\" y=\"-173.5\" font-family=\"Monospace\" font-size=\"10.00\" fill=\"GREY\">uid=IITWOkou2A6FQ1l90000</text>\n",
       "<text text-anchor=\"start\" x=\"53\" y=\"-163.5\" font-family=\"Monospace\" font-size=\"10.00\" fill=\"GREY\">suffix=.zarr</text>\n",
       "</g>\n",
       "<!-- run_pX3PPw8OqSQ2Jozg7W1o -->\n",
       "<g id=\"node2\" class=\"node\">\n",
       "<title>run_pX3PPw8OqSQ2Jozg7W1o</title>\n",
       "<path fill=\"gainsboro\" stroke=\"#065f46\" d=\"M166,-122C166,-122 12,-122 12,-122 6,-122 0,-116 0,-110 0,-110 0,-86 0,-86 0,-80 6,-74 12,-74 12,-74 166,-74 166,-74 172,-74 178,-80 178,-86 178,-86 178,-110 178,-110 178,-116 172,-122 166,-122\"/>\n",
       "<text text-anchor=\"start\" x=\"35.38\" y=\"-109.5\" font-family=\"Helvetica,sans-Serif\" font-size=\"10.00\">💫 save_vitessce_config</text>\n",
       "<text text-anchor=\"start\" x=\"29\" y=\"-99.5\" font-family=\"Monospace\" font-size=\"10.00\" fill=\"GREY\">uid=kup03MJBsIVa0001</text>\n",
       "<text text-anchor=\"start\" x=\"11\" y=\"-89.5\" font-family=\"Monospace\" font-size=\"10.00\" fill=\"GREY\">type=function, user=eroell</text>\n",
       "<text text-anchor=\"start\" x=\"8\" y=\"-79.5\" font-family=\"Monospace\" font-size=\"10.00\" fill=\"GREY\">run=2024&#45;10&#45;03 15:10:14 UTC</text>\n",
       "</g>\n",
       "<!-- artifact_IITWOkou2A6FQ1l90000&#45;&gt;run_pX3PPw8OqSQ2Jozg7W1o -->\n",
       "<g id=\"edge1\" class=\"edge\">\n",
       "<title>artifact_IITWOkou2A6FQ1l90000&#45;&gt;run_pX3PPw8OqSQ2Jozg7W1o</title>\n",
       "<path fill=\"none\" stroke=\"dimgrey\" d=\"M89,-157.75C89,-149.07 89,-138.47 89,-128.67\"/>\n",
       "<polygon fill=\"dimgrey\" stroke=\"dimgrey\" points=\"90.75,-128.89 89,-123.89 87.25,-128.89 90.75,-128.89\"/>\n",
       "</g>\n",
       "<!-- artifact_Ub01v0M2DGlZSFn20000 -->\n",
       "<g id=\"node3\" class=\"node\">\n",
       "<title>artifact_Ub01v0M2DGlZSFn20000</title>\n",
       "<path fill=\"#10b981\" stroke=\"#065f46\" d=\"M157,-38C157,-38 21,-38 21,-38 15,-38 9,-32 9,-26 9,-26 9,-12 9,-12 9,-6 15,0 21,0 21,0 157,0 157,0 163,0 169,-6 169,-12 169,-12 169,-26 169,-26 169,-32 163,-38 157,-38\"/>\n",
       "<text text-anchor=\"start\" x=\"35.75\" y=\"-25.5\" font-family=\"Helvetica,sans-Serif\" font-size=\"10.00\">📄 Dummy EHRDataset</text>\n",
       "<text text-anchor=\"start\" x=\"17\" y=\"-15.5\" font-family=\"Monospace\" font-size=\"10.00\" fill=\"GREY\">uid=Ub01v0M2DGlZSFn20000</text>\n",
       "<text text-anchor=\"start\" x=\"26\" y=\"-5.5\" font-family=\"Monospace\" font-size=\"10.00\" fill=\"GREY\">suffix=.vitessce.json</text>\n",
       "</g>\n",
       "<!-- run_pX3PPw8OqSQ2Jozg7W1o&#45;&gt;artifact_Ub01v0M2DGlZSFn20000 -->\n",
       "<g id=\"edge2\" class=\"edge\">\n",
       "<title>run_pX3PPw8OqSQ2Jozg7W1o&#45;&gt;artifact_Ub01v0M2DGlZSFn20000</title>\n",
       "<path fill=\"none\" stroke=\"dimgrey\" d=\"M89,-73.9C89,-64.68 89,-54.06 89,-44.69\"/>\n",
       "<polygon fill=\"dimgrey\" stroke=\"dimgrey\" points=\"90.75,-44.96 89,-39.96 87.25,-44.96 90.75,-44.96\"/>\n",
       "</g>\n",
       "</g>\n",
       "</svg>\n"
      ]
     },
     "metadata": {},
     "output_type": "display_data"
    }
   ],
   "source": [
    "vc_artifact.view_lineage()"
   ]
  }
 ],
 "metadata": {
  "kernelspec": {
   "display_name": "ehrdata_trial_oct",
   "language": "python",
   "name": "python3"
  },
  "language_info": {
   "codemirror_mode": {
    "name": "ipython",
    "version": 3
   },
   "file_extension": ".py",
   "mimetype": "text/x-python",
   "name": "python",
   "nbconvert_exporter": "python",
   "pygments_lexer": "ipython3",
   "version": "3.11.9"
  }
 },
 "nbformat": 4,
 "nbformat_minor": 4
}
