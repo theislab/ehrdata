{
 "cells": [
  {
   "cell_type": "markdown",
   "metadata": {},
   "source": [
    "# Getting started with EHRData"
   ]
  },
  {
   "cell_type": "markdown",
   "metadata": {},
   "source": [
    "<img src=\"../_static/tutorial_images/ehrdata_logo.png\" width=\"600\" height=\"500\" alt=\"Logo\">"
   ]
  },
  {
   "cell_type": "markdown",
   "metadata": {},
   "source": [
    "`EHRData` is building upon and extending [AnnData](https://anndata.readthedocs.io/en/stable/), a Python package for handling annotated data that is commonly used for sequencing data, to further support time series data by representing data of $n$ observations of $d$ variables of $t$ repeats.\n",
    "It is the datastructure that [ehrapy](https://ehrapy.readthedocs.io/en/stable/) operates on.\n",
    "\n",
    "In clinical studies, each enrolled subject corresponds to an observation, each registered clinical parameter corresponds to a variable, and each visit corresponds to a repeat.\n",
    "Furthermore, we might have metadata for each of these axis.\n",
    "For example, for each subject, we might have additional static metadata, such as birthdata, or sex. For each registered clinical parameter, we might have metadata such as a concept identifier, a descriptive name, or the unit it was measured in. For the repeated measurements, we might have a descriptive name per measurement, or the number of weeks after study entry.\n"
   ]
  },
  {
   "cell_type": "markdown",
   "metadata": {},
   "source": [
    "```{note}\n",
    "\n",
    "If you are new to Anndata, we recommend starting for example with the brief tutorial [Getting started with AnnData](https://anndata.readthedocs.io/en/stable/tutorials/notebooks/getting-started.html).\n",
    "\n",
    "```"
   ]
  },
  {
   "cell_type": "markdown",
   "metadata": {},
   "source": [
    "## Initializing EHRData"
   ]
  },
  {
   "cell_type": "code",
   "execution_count": 1,
   "metadata": {
    "jupyter": {
     "outputs_hidden": false
    }
   },
   "outputs": [],
   "source": [
    "import numpy as np\n",
    "import pandas as pd\n",
    "import ehrdata as ed"
   ]
  },
  {
   "cell_type": "markdown",
   "metadata": {},
   "source": [
    "Let's start by building a basic EHRData object with some measurements, e.g. blood pressure of two individuals."
   ]
  },
  {
   "cell_type": "code",
   "execution_count": 2,
   "metadata": {},
   "outputs": [
    {
     "data": {
      "text/plain": [
       "EHRData object with n_obs × n_vars = 2 × 2\n",
       "    shape of .X: (2, 2)"
      ]
     },
     "execution_count": 2,
     "metadata": {},
     "output_type": "execute_result"
    }
   ],
   "source": [
    "patients = pd.DataFrame(\n",
    "    {\"patient_id\": [\"P001\", \"P002\"], \"birthdate\": [\"1980-01-01\", \"1975-05-15\"], \"gender\": [\"M\", \"F\"]}\n",
    ").set_index(\"patient_id\")\n",
    "\n",
    "clinical_parameters = pd.DataFrame(\n",
    "    {\n",
    "        \"parameter_id\": [\"BP_Systolic\", \"BP_Diastolic\"],\n",
    "        \"name\": [\"Systolic Blood Pressure\", \"Diastolic Blood Pressure\"],\n",
    "        \"unit\": [\"mmHg\", \"mmHg\"],\n",
    "    }\n",
    ").set_index(\"parameter_id\")\n",
    "\n",
    "measurements = np.array(\n",
    "    [[120, 121], [81, 81]],\n",
    ")\n",
    "\n",
    "edata = ed.EHRData(\n",
    "    X=measurements,\n",
    ")\n",
    "edata"
   ]
  },
  {
   "cell_type": "markdown",
   "metadata": {},
   "source": [
    "EHRData supports flat 2D matrix field `edata.X`, suitable for regular tabular variable representation."
   ]
  },
  {
   "cell_type": "code",
   "execution_count": 3,
   "metadata": {},
   "outputs": [
    {
     "data": {
      "text/plain": [
       "array([[120, 121],\n",
       "       [ 81,  81]])"
      ]
     },
     "execution_count": 3,
     "metadata": {},
     "output_type": "execute_result"
    }
   ],
   "source": [
    "edata.X"
   ]
  },
  {
   "cell_type": "markdown",
   "metadata": {},
   "source": [
    "When we have measurements along a time course, we want to represent an axis of time (e.g. clinical visits, calendar time, ...) and repeats of measurements.\n",
    "In the example above, the measurements could e.g. be repeated three times."
   ]
  },
  {
   "cell_type": "code",
   "execution_count": 4,
   "metadata": {},
   "outputs": [
    {
     "data": {
      "text/plain": [
       "EHRData object with n_obs × n_vars = 2 × 2\n",
       "    layers: 'tem_layer'\n",
       "    shape of .tem_layer: (2, 2, 3)"
      ]
     },
     "execution_count": 4,
     "metadata": {},
     "output_type": "execute_result"
    }
   ],
   "source": [
    "visit_dates = pd.DataFrame({\"visit_number\": [\"1\", \"2\", \"3\"], \"visit_id\": [\"V001\", \"V002\", \"V003\"]}).set_index(\n",
    "    \"visit_number\"\n",
    ")\n",
    "\n",
    "repeated_measurements = np.array(\n",
    "    [\n",
    "        [\n",
    "            [120, np.nan, 121],\n",
    "            [81, np.nan, 81],\n",
    "        ],\n",
    "        [\n",
    "            [130, 135, 125],\n",
    "            [84, 81, 80],\n",
    "        ],\n",
    "    ]\n",
    ")\n",
    "\n",
    "edata = ed.EHRData(\n",
    "    layers={\"tem_layer\": repeated_measurements},\n",
    ")\n",
    "edata"
   ]
  },
  {
   "cell_type": "markdown",
   "metadata": {},
   "source": [
    "EHRData provides a 3D array field `edata.R`, suitable for this kind of data."
   ]
  },
  {
   "cell_type": "code",
   "execution_count": 5,
   "metadata": {},
   "outputs": [
    {
     "data": {
      "text/plain": [
       "array([[[120.,  nan, 121.],\n",
       "        [ 81.,  nan,  81.]],\n",
       "\n",
       "       [[130., 135., 125.],\n",
       "        [ 84.,  81.,  80.]]])"
      ]
     },
     "execution_count": 5,
     "metadata": {},
     "output_type": "execute_result"
    }
   ],
   "source": [
    "edata.layers[\"tem_layer\"]"
   ]
  },
  {
   "cell_type": "markdown",
   "metadata": {},
   "source": [
    "Now, we group the data together with its metadata, using the `obs`, `var`, and `tem` fields of EHRData.\n",
    "\n",
    "- the `obs` field stores static person-level metadata\n",
    "- the `var` field stores variable-level metadata\n",
    "- the `tem` field stores time axis-level metadata"
   ]
  },
  {
   "cell_type": "code",
   "execution_count": 27,
   "metadata": {},
   "outputs": [
    {
     "data": {
      "text/plain": [
       "EHRData object with n_obs × n_vars = 2 × 2\n",
       "    obs: 'birthdate', 'gender'\n",
       "    var: 'name', 'unit'\n",
       "    tem: '1', '2', '3'\n",
       "    layers: 'tem_layer'\n",
       "    shape of .tem_layer: (2, 2, 3)"
      ]
     },
     "execution_count": 27,
     "metadata": {},
     "output_type": "execute_result"
    }
   ],
   "source": [
    "edata = ed.EHRData(\n",
    "    layers={\"tem_layer\": repeated_measurements},\n",
    "    obs=patients,\n",
    "    var=clinical_parameters,\n",
    "    tem=visit_dates,\n",
    ")\n",
    "edata"
   ]
  },
  {
   "cell_type": "markdown",
   "metadata": {},
   "source": [
    "### Subsetting EHRData\n",
    "#### Subsetting with indices"
   ]
  },
  {
   "cell_type": "markdown",
   "metadata": {},
   "source": [
    "The index values can be used to subset the EHRData, which provides a view of the EHRData object.\n",
    "We can imagine this to be useful to subset the AnnData to particular patients, variables, or time intervals of interest.\n",
    "The rules for subsetting EHRData are quite similar to that of a Pandas DataFrame.\n",
    "You can use values in the `obs/var_names`, boolean masks, or cell index integers."
   ]
  },
  {
   "cell_type": "code",
   "execution_count": 28,
   "metadata": {},
   "outputs": [
    {
     "data": {
      "text/plain": [
       "array([ True, False])"
      ]
     },
     "execution_count": 28,
     "metadata": {},
     "output_type": "execute_result"
    }
   ],
   "source": [
    "edata.var_names.isin([\"P001\", \"BP_Systolic\"])"
   ]
  },
  {
   "cell_type": "code",
   "execution_count": 29,
   "metadata": {},
   "outputs": [
    {
     "data": {
      "text/plain": [
       "View of EHRData object with n_obs × n_vars = 2 × 1\n",
       "    obs: 'birthdate', 'gender'\n",
       "    var: 'name', 'unit'\n",
       "    tem: '1', '2', '3'\n",
       "    layers: 'tem_layer'\n",
       "    shape of .tem_layer: (2, 1, 3)"
      ]
     },
     "execution_count": 29,
     "metadata": {},
     "output_type": "execute_result"
    }
   ],
   "source": [
    "edata[:, edata.var_names.isin([\"P001\", \"BP_Systolic\"])]"
   ]
  },
  {
   "cell_type": "markdown",
   "metadata": {},
   "source": [
    "#### Subsetting using metadata"
   ]
  },
  {
   "cell_type": "markdown",
   "metadata": {},
   "source": [
    "We can also subset the EHRData using the metadata:"
   ]
  },
  {
   "cell_type": "code",
   "execution_count": 30,
   "metadata": {},
   "outputs": [
    {
     "data": {
      "text/plain": [
       "View of EHRData object with n_obs × n_vars = 1 × 2\n",
       "    obs: 'birthdate', 'gender'\n",
       "    var: 'name', 'unit'\n",
       "    tem: '1', '2', '3'\n",
       "    layers: 'tem_layer'\n",
       "    shape of .tem_layer: (1, 2, 3)"
      ]
     },
     "execution_count": 30,
     "metadata": {},
     "output_type": "execute_result"
    }
   ],
   "source": [
    "edata[edata.obs[\"gender\"] == \"F\"]"
   ]
  },
  {
   "cell_type": "markdown",
   "metadata": {},
   "source": [
    "## Observation/variable-level matrices"
   ]
  },
  {
   "cell_type": "markdown",
   "metadata": {},
   "source": [
    "We might also have metadata at either level that has many dimensions to it, such as a UMAP embedding of the data.\n",
    "For this type of metadata, EHRData has the `.obsm/.varm` attributes.\n",
    "We use keys to identify the different matrices we insert.\n",
    "The restrictions of `.obsm/.varm` are, that the length of `.obsm` matrices must be equal to the number of observations as `.n_obs` and `.varm` matrices must be equal in length to `.n_vars`.\n",
    "They can each independently have a different number of dimensions.\n",
    "\n",
    "Let's start with a randomly generated matrix that we can interpret as a UMAP embedding of the data we would like to store, as well as some random variable-level metadata:"
   ]
  },
  {
   "cell_type": "code",
   "execution_count": 31,
   "metadata": {},
   "outputs": [
    {
     "data": {
      "text/plain": [
       "AxisArrays with keys: X_umap"
      ]
     },
     "execution_count": 31,
     "metadata": {},
     "output_type": "execute_result"
    }
   ],
   "source": [
    "edata.obsm[\"X_umap\"] = np.random.normal(0, 1, size=(edata.n_obs, 2))\n",
    "edata.varm[\"variable_stuff\"] = np.random.normal(0, 1, size=(edata.n_vars, 5))\n",
    "edata.obsm"
   ]
  },
  {
   "cell_type": "markdown",
   "metadata": {},
   "source": [
    "A few more notes about `.obsm/.varm`\n",
    "\n",
    "1. The \"array-like\" metadata can originate from a Pandas DataFrame, scipy sparse matrix, or numpy dense array.\n",
    "2. When using scanpy, their values (columns) are not easily plotted, where instead items from `.obs` are easily plotted on, e.g., UMAP plots."
   ]
  },
  {
   "cell_type": "markdown",
   "metadata": {},
   "source": [
    "## Unstructured metadata"
   ]
  },
  {
   "cell_type": "markdown",
   "metadata": {},
   "source": [
    "EHRData has `.uns`, which allows for any unstructured metadata. This can be anything, like a list or a dictionary with some general information that was useful in the analysis of our data."
   ]
  },
  {
   "cell_type": "code",
   "execution_count": 32,
   "metadata": {},
   "outputs": [
    {
     "data": {
      "text/plain": [
       "OrderedDict([('random', [1, 2, 3])])"
      ]
     },
     "execution_count": 32,
     "metadata": {},
     "output_type": "execute_result"
    }
   ],
   "source": [
    "edata.uns[\"random\"] = [1, 2, 3]\n",
    "edata.uns"
   ]
  },
  {
   "cell_type": "markdown",
   "metadata": {},
   "source": [
    "## Layers"
   ]
  },
  {
   "cell_type": "markdown",
   "metadata": {},
   "source": [
    "Finally, we may have different forms of our original core data, perhaps one that is normalized and one that is not. These can be stored in different layers in EHRData. For example, let's log transform the original data and store it in a layer:"
   ]
  },
  {
   "cell_type": "code",
   "execution_count": 33,
   "metadata": {},
   "outputs": [
    {
     "data": {
      "text/plain": [
       "EHRData object with n_obs × n_vars = 2 × 2\n",
       "    obs: 'birthdate', 'gender'\n",
       "    var: 'name', 'unit'\n",
       "    tem: '1', '2', '3'\n",
       "    uns: 'random'\n",
       "    obsm: 'X_umap'\n",
       "    varm: 'variable_stuff'\n",
       "    layers: 'tem_layer', 'log_transformed'\n",
       "    shape of .tem_layer: (2, 2, 3)\n",
       "    shape of .log_transformed: (2, 2, 3)"
      ]
     },
     "execution_count": 33,
     "metadata": {},
     "output_type": "execute_result"
    }
   ],
   "source": [
    "edata.layers[\"log_transformed\"] = np.log1p(edata.layers[\"tem_layer\"])\n",
    "edata"
   ]
  },
  {
   "cell_type": "markdown",
   "metadata": {},
   "source": [
    "## Writing the results to disk"
   ]
  },
  {
   "cell_type": "markdown",
   "metadata": {},
   "source": [
    "`EHRData` comes with a persistent HDF5-based file format: `h5ad`. If string columns with small number of categories aren't yet categoricals, `EHRData` will auto-transform to categoricals."
   ]
  },
  {
   "cell_type": "code",
   "execution_count": 34,
   "metadata": {},
   "outputs": [],
   "source": [
    "edata.write(\"my_results.h5ad\", compression=\"gzip\")"
   ]
  },
  {
   "cell_type": "raw",
   "metadata": {
    "vscode": {
     "languageId": "raw"
    }
   },
   "source": [
    "## Pandas DataFrame formats and EHRData\n",
    "\n",
    "Longitudinal data can be transformed between `EHRData` and a pandas DataFrame. For this, the functions :func:`~ehrdata.io.to_pandas` and :func:`~ehrdata.io.from_pandas` are instrumental.\n",
    "\n",
    "Two canonical ways to represent longitudinal data with a dataframe are supported: The `long` format, and the `wide` format.\n",
    "\n",
    "### The `long` format\n",
    "\n",
    "In the long format, the data is stored in a dataframe as a tuple (person, variable, measurement, time, value)."
   ]
  },
  {
   "cell_type": "code",
   "execution_count": 35,
   "metadata": {},
   "outputs": [
    {
     "data": {
      "text/html": [
       "<div>\n",
       "<style scoped>\n",
       "    .dataframe tbody tr th:only-of-type {\n",
       "        vertical-align: middle;\n",
       "    }\n",
       "\n",
       "    .dataframe tbody tr th {\n",
       "        vertical-align: top;\n",
       "    }\n",
       "\n",
       "    .dataframe thead th {\n",
       "        text-align: right;\n",
       "    }\n",
       "</style>\n",
       "<table border=\"1\" class=\"dataframe\">\n",
       "  <thead>\n",
       "    <tr style=\"text-align: right;\">\n",
       "      <th></th>\n",
       "      <th>observation_id</th>\n",
       "      <th>variable</th>\n",
       "      <th>time</th>\n",
       "      <th>value</th>\n",
       "    </tr>\n",
       "  </thead>\n",
       "  <tbody>\n",
       "    <tr>\n",
       "      <th>0</th>\n",
       "      <td>0</td>\n",
       "      <td>systolic_blood_pressure</td>\n",
       "      <td>t_0</td>\n",
       "      <td>120</td>\n",
       "    </tr>\n",
       "    <tr>\n",
       "      <th>1</th>\n",
       "      <td>0</td>\n",
       "      <td>systolic_blood_pressure</td>\n",
       "      <td>t_1</td>\n",
       "      <td>125</td>\n",
       "    </tr>\n",
       "    <tr>\n",
       "      <th>2</th>\n",
       "      <td>1</td>\n",
       "      <td>systolic_blood_pressure</td>\n",
       "      <td>t_0</td>\n",
       "      <td>130</td>\n",
       "    </tr>\n",
       "    <tr>\n",
       "      <th>3</th>\n",
       "      <td>1</td>\n",
       "      <td>systolic_blood_pressure</td>\n",
       "      <td>t_2</td>\n",
       "      <td>135</td>\n",
       "    </tr>\n",
       "  </tbody>\n",
       "</table>\n",
       "</div>"
      ],
      "text/plain": [
       "  observation_id                 variable time  value\n",
       "0              0  systolic_blood_pressure  t_0    120\n",
       "1              0  systolic_blood_pressure  t_1    125\n",
       "2              1  systolic_blood_pressure  t_0    130\n",
       "3              1  systolic_blood_pressure  t_2    135"
      ]
     },
     "execution_count": 35,
     "metadata": {},
     "output_type": "execute_result"
    }
   ],
   "source": [
    "df_long = pd.DataFrame(\n",
    "    {\n",
    "        \"observation_id\": [\"0\", \"0\", \"1\", \"1\"],\n",
    "        \"variable\": [\n",
    "            \"systolic_blood_pressure\",\n",
    "            \"systolic_blood_pressure\",\n",
    "            \"systolic_blood_pressure\",\n",
    "            \"systolic_blood_pressure\",\n",
    "        ],\n",
    "        \"time\": [\"t_0\", \"t_1\", \"t_0\", \"t_2\"],\n",
    "        \"value\": [120, 125, 130, 135],\n",
    "    }\n",
    ")\n",
    "df_long"
   ]
  },
  {
   "cell_type": "markdown",
   "metadata": {},
   "source": [
    "This dataframe format can easily be ingested into the `EHRData` format..."
   ]
  },
  {
   "cell_type": "code",
   "execution_count": 42,
   "metadata": {},
   "outputs": [
    {
     "data": {
      "text/plain": [
       "EHRData object with n_obs × n_vars = 2 × 1\n",
       "    layers: 'tem_layer'\n",
       "    shape of .tem_layer: (2, 1, 3)"
      ]
     },
     "execution_count": 42,
     "metadata": {},
     "output_type": "execute_result"
    }
   ],
   "source": [
    "edata_from_long_df = ed.io.from_pandas(df_long, format=\"long\")\n",
    "edata_from_long_df"
   ]
  },
  {
   "cell_type": "markdown",
   "metadata": {},
   "source": [
    "... and from the `EHRData` format can be transformed back to a pandas DataFrame."
   ]
  },
  {
   "cell_type": "code",
   "execution_count": 43,
   "metadata": {},
   "outputs": [
    {
     "data": {
      "text/html": [
       "<div>\n",
       "<style scoped>\n",
       "    .dataframe tbody tr th:only-of-type {\n",
       "        vertical-align: middle;\n",
       "    }\n",
       "\n",
       "    .dataframe tbody tr th {\n",
       "        vertical-align: top;\n",
       "    }\n",
       "\n",
       "    .dataframe thead th {\n",
       "        text-align: right;\n",
       "    }\n",
       "</style>\n",
       "<table border=\"1\" class=\"dataframe\">\n",
       "  <thead>\n",
       "    <tr style=\"text-align: right;\">\n",
       "      <th></th>\n",
       "      <th>observation_id</th>\n",
       "      <th>variable</th>\n",
       "      <th>time</th>\n",
       "      <th>value</th>\n",
       "    </tr>\n",
       "  </thead>\n",
       "  <tbody>\n",
       "    <tr>\n",
       "      <th>0</th>\n",
       "      <td>0</td>\n",
       "      <td>systolic_blood_pressure</td>\n",
       "      <td>t_0</td>\n",
       "      <td>120.0</td>\n",
       "    </tr>\n",
       "    <tr>\n",
       "      <th>1</th>\n",
       "      <td>0</td>\n",
       "      <td>systolic_blood_pressure</td>\n",
       "      <td>t_1</td>\n",
       "      <td>125.0</td>\n",
       "    </tr>\n",
       "    <tr>\n",
       "      <th>2</th>\n",
       "      <td>0</td>\n",
       "      <td>systolic_blood_pressure</td>\n",
       "      <td>t_2</td>\n",
       "      <td>NaN</td>\n",
       "    </tr>\n",
       "    <tr>\n",
       "      <th>3</th>\n",
       "      <td>1</td>\n",
       "      <td>systolic_blood_pressure</td>\n",
       "      <td>t_0</td>\n",
       "      <td>130.0</td>\n",
       "    </tr>\n",
       "    <tr>\n",
       "      <th>4</th>\n",
       "      <td>1</td>\n",
       "      <td>systolic_blood_pressure</td>\n",
       "      <td>t_1</td>\n",
       "      <td>NaN</td>\n",
       "    </tr>\n",
       "    <tr>\n",
       "      <th>5</th>\n",
       "      <td>1</td>\n",
       "      <td>systolic_blood_pressure</td>\n",
       "      <td>t_2</td>\n",
       "      <td>135.0</td>\n",
       "    </tr>\n",
       "  </tbody>\n",
       "</table>\n",
       "</div>"
      ],
      "text/plain": [
       "  observation_id                 variable time  value\n",
       "0              0  systolic_blood_pressure  t_0  120.0\n",
       "1              0  systolic_blood_pressure  t_1  125.0\n",
       "2              0  systolic_blood_pressure  t_2    NaN\n",
       "3              1  systolic_blood_pressure  t_0  130.0\n",
       "4              1  systolic_blood_pressure  t_1    NaN\n",
       "5              1  systolic_blood_pressure  t_2  135.0"
      ]
     },
     "execution_count": 43,
     "metadata": {},
     "output_type": "execute_result"
    }
   ],
   "source": [
    "df_long_from_edata = ed.io.to_pandas(edata_from_long_df, layer=\"tem_layer\", format=\"long\")\n",
    "df_long_from_edata"
   ]
  },
  {
   "cell_type": "markdown",
   "metadata": {},
   "source": [
    "### The `wide` format\n",
    "\n",
    "In the `wide` format, the data is stored in a dataframe with rows indicating the person, and columns indicating the variable as well as the time of measurement."
   ]
  },
  {
   "cell_type": "code",
   "execution_count": 38,
   "metadata": {},
   "outputs": [
    {
     "data": {
      "text/html": [
       "<div>\n",
       "<style scoped>\n",
       "    .dataframe tbody tr th:only-of-type {\n",
       "        vertical-align: middle;\n",
       "    }\n",
       "\n",
       "    .dataframe tbody tr th {\n",
       "        vertical-align: top;\n",
       "    }\n",
       "\n",
       "    .dataframe thead th {\n",
       "        text-align: right;\n",
       "    }\n",
       "</style>\n",
       "<table border=\"1\" class=\"dataframe\">\n",
       "  <thead>\n",
       "    <tr style=\"text-align: right;\">\n",
       "      <th></th>\n",
       "      <th>patient_id</th>\n",
       "      <th>sex</th>\n",
       "      <th>systolic_bp_t_0</th>\n",
       "      <th>systolic_bp_t_2</th>\n",
       "      <th>systolic_bp_t_1</th>\n",
       "    </tr>\n",
       "  </thead>\n",
       "  <tbody>\n",
       "    <tr>\n",
       "      <th>0</th>\n",
       "      <td>0</td>\n",
       "      <td>F</td>\n",
       "      <td>120</td>\n",
       "      <td>125.0</td>\n",
       "      <td>NaN</td>\n",
       "    </tr>\n",
       "    <tr>\n",
       "      <th>1</th>\n",
       "      <td>1</td>\n",
       "      <td>M</td>\n",
       "      <td>130</td>\n",
       "      <td>NaN</td>\n",
       "      <td>135.0</td>\n",
       "    </tr>\n",
       "  </tbody>\n",
       "</table>\n",
       "</div>"
      ],
      "text/plain": [
       "  patient_id sex  systolic_bp_t_0  systolic_bp_t_2  systolic_bp_t_1\n",
       "0          0   F              120            125.0              NaN\n",
       "1          1   M              130              NaN            135.0"
      ]
     },
     "execution_count": 38,
     "metadata": {},
     "output_type": "execute_result"
    }
   ],
   "source": [
    "df_wide = pd.DataFrame(\n",
    "    {\n",
    "        \"patient_id\": [\"0\", \"1\"],\n",
    "        \"sex\": [\"F\", \"M\"],\n",
    "        \"systolic_bp_t_0\": [120, 130],\n",
    "        \"systolic_bp_t_2\": [125, np.nan],  # the suffix strings are sorted lexicographically\n",
    "        \"systolic_bp_t_1\": [np.nan, 135],\n",
    "    }\n",
    ")\n",
    "df_wide"
   ]
  },
  {
   "cell_type": "markdown",
   "metadata": {},
   "source": [
    "This dataframe format can easily be ingested into the `EHRData` format..."
   ]
  },
  {
   "cell_type": "code",
   "execution_count": 66,
   "metadata": {},
   "outputs": [
    {
     "data": {
      "text/plain": [
       "EHRData object with n_obs × n_vars = 2 × 1\n",
       "    obs: 'patient_id', 'sex'\n",
       "    layers: 'tem_layer'\n",
       "    shape of .tem_layer: (2, 1, 3)"
      ]
     },
     "execution_count": 66,
     "metadata": {},
     "output_type": "execute_result"
    }
   ],
   "source": [
    "edata_from_wide_df = ed.io.from_pandas(df_wide, format=\"wide\", columns_obs_only=[\"patient_id\", \"sex\"])\n",
    "edata_from_wide_df"
   ]
  },
  {
   "cell_type": "markdown",
   "metadata": {},
   "source": [
    "... and from the `EHRData` format can be transformed back to a pandas DataFrame."
   ]
  },
  {
   "cell_type": "code",
   "execution_count": 44,
   "metadata": {},
   "outputs": [
    {
     "data": {
      "text/html": [
       "<div>\n",
       "<style scoped>\n",
       "    .dataframe tbody tr th:only-of-type {\n",
       "        vertical-align: middle;\n",
       "    }\n",
       "\n",
       "    .dataframe tbody tr th {\n",
       "        vertical-align: top;\n",
       "    }\n",
       "\n",
       "    .dataframe thead th {\n",
       "        text-align: right;\n",
       "    }\n",
       "</style>\n",
       "<table border=\"1\" class=\"dataframe\">\n",
       "  <thead>\n",
       "    <tr style=\"text-align: right;\">\n",
       "      <th></th>\n",
       "      <th>systolic_bp_t_0</th>\n",
       "      <th>systolic_bp_t_1</th>\n",
       "      <th>systolic_bp_t_2</th>\n",
       "      <th>patient_id</th>\n",
       "      <th>sex</th>\n",
       "    </tr>\n",
       "  </thead>\n",
       "  <tbody>\n",
       "    <tr>\n",
       "      <th>0</th>\n",
       "      <td>120.0</td>\n",
       "      <td>NaN</td>\n",
       "      <td>125.0</td>\n",
       "      <td>0</td>\n",
       "      <td>F</td>\n",
       "    </tr>\n",
       "    <tr>\n",
       "      <th>1</th>\n",
       "      <td>130.0</td>\n",
       "      <td>135.0</td>\n",
       "      <td>NaN</td>\n",
       "      <td>1</td>\n",
       "      <td>M</td>\n",
       "    </tr>\n",
       "  </tbody>\n",
       "</table>\n",
       "</div>"
      ],
      "text/plain": [
       "   systolic_bp_t_0  systolic_bp_t_1  systolic_bp_t_2 patient_id sex\n",
       "0            120.0              NaN            125.0          0   F\n",
       "1            130.0            135.0              NaN          1   M"
      ]
     },
     "execution_count": 44,
     "metadata": {},
     "output_type": "execute_result"
    }
   ],
   "source": [
    "df_from_edata = ed.io.to_pandas(edata_from_wide_df, layer=\"tem_layer\", format=\"wide\", obs_cols=[\"patient_id\", \"sex\"])\n",
    "df_from_edata"
   ]
  },
  {
   "cell_type": "markdown",
   "metadata": {},
   "source": [
    "## Wrapping up the introduction"
   ]
  },
  {
   "cell_type": "markdown",
   "metadata": {},
   "source": [
    "EHRData is straightforward to use and faciliatates more reproducible analyses with it's key-based storage.\n",
    "\n",
    "We refer to the [AnnData tutorials](https://anndata.readthedocs.io/en/stable/tutorials/notebooks/getting-started.html) to better understand \"views\", on-disk backing, and other details."
   ]
  },
  {
   "cell_type": "markdown",
   "metadata": {},
   "source": [
    "```{Note}\n",
    "\n",
    "Similar to numpy arrays, EHRData objects can either hold actual data or reference another `EHRData` object. In the later case, they are referred to as \"view\".\n",
    "\n",
    "Subsetting EHRData objects always returns views, which has two advantages:\n",
    "\n",
    "- no new memory is allocated\n",
    "- it is possible to modify the underlying EHRData object\n",
    "\n",
    "You can get an actual EHRData object from a view by calling `.copy()` on the view. Usually, this is not necessary, as any modification of elements of a view (calling `.[]` on an attribute of the view) internally calls `.copy()` and makes the view an EHRData object that holds actual data. See the example below.\n",
    "    \n",
    "```"
   ]
  },
  {
   "cell_type": "markdown",
   "metadata": {},
   "source": [
    "Get access to the first 5 rows for two variables."
   ]
  },
  {
   "cell_type": "markdown",
   "metadata": {},
   "source": [
    "```{Note}\n",
    "\n",
    "Indexing into AnnData will assume that integer arguments to `[]` behave like `.iloc` in pandas, whereas string arguments behave like `.loc`. `AnnData` always assumes string indices.\n",
    "    \n",
    "```"
   ]
  },
  {
   "cell_type": "code",
   "execution_count": 48,
   "metadata": {
    "jupyter": {
     "outputs_hidden": false
    }
   },
   "outputs": [
    {
     "data": {
      "text/plain": [
       "View of EHRData object with n_obs × n_vars = 1 × 1\n",
       "    obs: 'birthdate', 'gender'\n",
       "    var: 'name', 'unit'\n",
       "    tem: '1', '2', '3'\n",
       "    uns: 'random'\n",
       "    obsm: 'X_umap'\n",
       "    varm: 'variable_stuff'\n",
       "    layers: 'tem_layer', 'log_transformed'\n",
       "    shape of .tem_layer: (1, 1, 3)\n",
       "    shape of .log_transformed: (1, 1, 3)"
      ]
     },
     "execution_count": 48,
     "metadata": {},
     "output_type": "execute_result"
    }
   ],
   "source": [
    "edata[1, 1]"
   ]
  },
  {
   "cell_type": "markdown",
   "metadata": {},
   "source": [
    "This is a view! If we want an `EHRData` that holds the data in memory, we have to call `.copy()`"
   ]
  },
  {
   "cell_type": "code",
   "execution_count": 49,
   "metadata": {},
   "outputs": [
    {
     "data": {
      "text/plain": [
       "EHRData object with n_obs × n_vars × n_t = 1 × 1 × 3\n",
       "    obs: 'birthdate', 'gender'\n",
       "    var: 'name', 'unit'\n",
       "    tem: '1', '2', '3'\n",
       "    uns: 'random'\n",
       "    obsm: 'X_umap'\n",
       "    varm: 'variable_stuff'\n",
       "    layers: 'log_transformed'\n",
       "    shape of .X: (1, 1)\n",
       "    shape of .R: (1, 1, 3)"
      ]
     },
     "execution_count": 70,
     "metadata": {},
     "output_type": "execute_result"
    }
   ],
   "source": [
    "edata_subset = edata[1, 1].copy()"
   ]
  },
  {
   "cell_type": "markdown",
   "metadata": {},
   "source": [
    "If you try to write to parts of a view of an AnnData, the content will be auto-copied and a data-storing object will be generated."
   ]
  },
  {
   "cell_type": "code",
   "execution_count": 50,
   "metadata": {},
   "outputs": [
    {
     "data": {
      "text/plain": [
       "View of EHRData object with n_obs × n_vars = 1 × 1\n",
       "    obs: 'birthdate', 'gender'\n",
       "    var: 'name', 'unit'\n",
       "    tem: '1', '2', '3'\n",
       "    uns: 'random'\n",
       "    obsm: 'X_umap'\n",
       "    varm: 'variable_stuff'\n",
       "    layers: 'tem_layer', 'log_transformed'\n",
       "    shape of .tem_layer: (1, 3)\n",
       "    shape of .log_transformed: (1, 3)"
      ]
     },
     "execution_count": 50,
     "metadata": {},
     "output_type": "execute_result"
    }
   ],
   "source": [
    "edata_subset = edata[[\"P001\"], [\"BP_Systolic\"]]\n",
    "edata_subset"
   ]
  },
  {
   "cell_type": "code",
   "execution_count": 51,
   "metadata": {},
   "outputs": [
    {
     "name": "stderr",
     "output_type": "stream",
     "text": [
      "/var/folders/yy/60ln_681745_fjjwvgwm_nyc0000gn/T/ipykernel_74727/1547146112.py:1: ImplicitModificationWarning: Trying to modify attribute `.obs` of view, initializing view as actual.\n",
      "  edata_subset.obs[\"foo\"] = \"bar\"\n"
     ]
    },
    {
     "ename": "ValueError",
     "evalue": "Value passed for key 'tem_layer' is of incorrect shape. Values of layers must match dimensions ('obs', 'var') of parent. Value had shape (1, 3) while it should have had (1, 1).",
     "output_type": "error",
     "traceback": [
      "\u001b[31m---------------------------------------------------------------------------\u001b[39m",
      "\u001b[31mValueError\u001b[39m                                Traceback (most recent call last)",
      "\u001b[36mCell\u001b[39m\u001b[36m \u001b[39m\u001b[32mIn[51]\u001b[39m\u001b[32m, line 1\u001b[39m\n\u001b[32m----> \u001b[39m\u001b[32m1\u001b[39m \u001b[43medata_subset\u001b[49m\u001b[43m.\u001b[49m\u001b[43mobs\u001b[49m\u001b[43m[\u001b[49m\u001b[33;43m\"\u001b[39;49m\u001b[33;43mfoo\u001b[39;49m\u001b[33;43m\"\u001b[39;49m\u001b[43m]\u001b[49m = \u001b[33m\"\u001b[39m\u001b[33mbar\u001b[39m\u001b[33m\"\u001b[39m\n",
      "\u001b[36mFile \u001b[39m\u001b[32m~/Documents/ehrapy_workspace/ehrdata/ehrdata_venv/lib/python3.11/site-packages/anndata/_core/views.py:79\u001b[39m, in \u001b[36m_SetItemMixin.__setitem__\u001b[39m\u001b[34m(self, idx, value)\u001b[39m\n\u001b[32m     72\u001b[39m \u001b[38;5;28;01melse\u001b[39;00m:\n\u001b[32m     73\u001b[39m     warnings.warn(\n\u001b[32m     74\u001b[39m         \u001b[33mf\u001b[39m\u001b[33m\"\u001b[39m\u001b[33mTrying to modify attribute `.\u001b[39m\u001b[38;5;132;01m{\u001b[39;00m\u001b[38;5;28mself\u001b[39m._view_args.attrname\u001b[38;5;132;01m}\u001b[39;00m\u001b[33m` of view, \u001b[39m\u001b[33m\"\u001b[39m\n\u001b[32m     75\u001b[39m         \u001b[33m\"\u001b[39m\u001b[33minitializing view as actual.\u001b[39m\u001b[33m\"\u001b[39m,\n\u001b[32m     76\u001b[39m         ImplicitModificationWarning,\n\u001b[32m     77\u001b[39m         stacklevel=\u001b[32m2\u001b[39m,\n\u001b[32m     78\u001b[39m     )\n\u001b[32m---> \u001b[39m\u001b[32m79\u001b[39m \u001b[43m    \u001b[49m\u001b[38;5;28;43;01mwith\u001b[39;49;00m\u001b[43m \u001b[49m\u001b[43mview_update\u001b[49m\u001b[43m(\u001b[49m\u001b[43m*\u001b[49m\u001b[38;5;28;43mself\u001b[39;49m\u001b[43m.\u001b[49m\u001b[43m_view_args\u001b[49m\u001b[43m)\u001b[49m\u001b[43m \u001b[49m\u001b[38;5;28;43;01mas\u001b[39;49;00m\u001b[43m \u001b[49m\u001b[43mcontainer\u001b[49m\u001b[43m:\u001b[49m\n\u001b[32m     80\u001b[39m \u001b[43m        \u001b[49m\u001b[43mcontainer\u001b[49m\u001b[43m[\u001b[49m\u001b[43midx\u001b[49m\u001b[43m]\u001b[49m\u001b[43m \u001b[49m\u001b[43m=\u001b[49m\u001b[43m \u001b[49m\u001b[43mvalue\u001b[49m\n",
      "\u001b[36mFile \u001b[39m\u001b[32m~/miniconda3/envs/ehrapy_scanpy_conda_env/lib/python3.11/contextlib.py:137\u001b[39m, in \u001b[36m_GeneratorContextManager.__enter__\u001b[39m\u001b[34m(self)\u001b[39m\n\u001b[32m    135\u001b[39m \u001b[38;5;28;01mdel\u001b[39;00m \u001b[38;5;28mself\u001b[39m.args, \u001b[38;5;28mself\u001b[39m.kwds, \u001b[38;5;28mself\u001b[39m.func\n\u001b[32m    136\u001b[39m \u001b[38;5;28;01mtry\u001b[39;00m:\n\u001b[32m--> \u001b[39m\u001b[32m137\u001b[39m     \u001b[38;5;28;01mreturn\u001b[39;00m \u001b[38;5;28mnext\u001b[39m(\u001b[38;5;28mself\u001b[39m.gen)\n\u001b[32m    138\u001b[39m \u001b[38;5;28;01mexcept\u001b[39;00m \u001b[38;5;167;01mStopIteration\u001b[39;00m:\n\u001b[32m    139\u001b[39m     \u001b[38;5;28;01mraise\u001b[39;00m \u001b[38;5;167;01mRuntimeError\u001b[39;00m(\u001b[33m\"\u001b[39m\u001b[33mgenerator didn\u001b[39m\u001b[33m'\u001b[39m\u001b[33mt yield\u001b[39m\u001b[33m\"\u001b[39m) \u001b[38;5;28;01mfrom\u001b[39;00m\u001b[38;5;250m \u001b[39m\u001b[38;5;28;01mNone\u001b[39;00m\n",
      "\u001b[36mFile \u001b[39m\u001b[32m~/Documents/ehrapy_workspace/ehrdata/ehrdata_venv/lib/python3.11/site-packages/anndata/_core/views.py:53\u001b[39m, in \u001b[36mview_update\u001b[39m\u001b[34m(adata_view, attr_name, keys)\u001b[39m\n\u001b[32m     33\u001b[39m \u001b[38;5;129m@contextmanager\u001b[39m\n\u001b[32m     34\u001b[39m \u001b[38;5;28;01mdef\u001b[39;00m\u001b[38;5;250m \u001b[39m\u001b[34mview_update\u001b[39m(adata_view: AnnData, attr_name: \u001b[38;5;28mstr\u001b[39m, keys: \u001b[38;5;28mtuple\u001b[39m[\u001b[38;5;28mstr\u001b[39m, ...]):\n\u001b[32m     35\u001b[39m \u001b[38;5;250m    \u001b[39m\u001b[33;03m\"\"\"Context manager for updating a view of an AnnData object.\u001b[39;00m\n\u001b[32m     36\u001b[39m \n\u001b[32m     37\u001b[39m \u001b[33;03m    Contains logic for \"actualizing\" a view. Yields the object to be modified in-place.\u001b[39;00m\n\u001b[32m   (...)\u001b[39m\u001b[32m     51\u001b[39m \u001b[33;03m    `adata.attr[key1][key2][keyn]...`\u001b[39;00m\n\u001b[32m     52\u001b[39m \u001b[33;03m    \"\"\"\u001b[39;00m\n\u001b[32m---> \u001b[39m\u001b[32m53\u001b[39m     new = \u001b[43madata_view\u001b[49m\u001b[43m.\u001b[49m\u001b[43mcopy\u001b[49m\u001b[43m(\u001b[49m\u001b[43m)\u001b[49m\n\u001b[32m     54\u001b[39m     attr = \u001b[38;5;28mgetattr\u001b[39m(new, attr_name)\n\u001b[32m     55\u001b[39m     container = reduce(\u001b[38;5;28;01mlambda\u001b[39;00m d, k: d[k], keys, attr)\n",
      "\u001b[36mFile \u001b[39m\u001b[32m~/Documents/ehrapy_workspace/ehrdata/src/ehrdata/core/ehrdata.py:386\u001b[39m, in \u001b[36mEHRData.copy\u001b[39m\u001b[34m(self)\u001b[39m\n\u001b[32m    383\u001b[39m \u001b[38;5;28;01mdef\u001b[39;00m\u001b[38;5;250m \u001b[39m\u001b[34mcopy\u001b[39m(\u001b[38;5;28mself\u001b[39m) -> EHRData:\n\u001b[32m    384\u001b[39m \u001b[38;5;250m    \u001b[39m\u001b[33;03m\"\"\"Returns a copy of the EHRData object.\"\"\"\u001b[39;00m\n\u001b[32m    385\u001b[39m     \u001b[38;5;28;01mreturn\u001b[39;00m EHRData.from_adata(\n\u001b[32m--> \u001b[39m\u001b[32m386\u001b[39m         \u001b[38;5;28;43msuper\u001b[39;49m\u001b[43m(\u001b[49m\u001b[43m)\u001b[49m\u001b[43m.\u001b[49m\u001b[43mcopy\u001b[49m\u001b[43m(\u001b[49m\u001b[43m)\u001b[49m,\n\u001b[32m    387\u001b[39m         tem=\u001b[38;5;28;01mNone\u001b[39;00m \u001b[38;5;28;01mif\u001b[39;00m \u001b[38;5;28mself\u001b[39m.tem \u001b[38;5;129;01mis\u001b[39;00m \u001b[38;5;28;01mNone\u001b[39;00m \u001b[38;5;28;01melse\u001b[39;00m \u001b[38;5;28mself\u001b[39m.tem.copy(),\n\u001b[32m    388\u001b[39m         tidx=\u001b[38;5;28mself\u001b[39m._tidx,\n\u001b[32m    389\u001b[39m     )\n",
      "\u001b[36mFile \u001b[39m\u001b[32m~/Documents/ehrapy_workspace/ehrdata/ehrdata_venv/lib/python3.11/site-packages/anndata/_core/anndata.py:1440\u001b[39m, in \u001b[36mAnnData.copy\u001b[39m\u001b[34m(self, filename)\u001b[39m\n\u001b[32m   1436\u001b[39m         \u001b[38;5;28;01mreturn\u001b[39;00m \u001b[38;5;28mself\u001b[39m._mutated_copy(\n\u001b[32m   1437\u001b[39m             X=_subset(\u001b[38;5;28mself\u001b[39m._adata_ref.X, (\u001b[38;5;28mself\u001b[39m._oidx, \u001b[38;5;28mself\u001b[39m._vidx)).copy()\n\u001b[32m   1438\u001b[39m         )\n\u001b[32m   1439\u001b[39m     \u001b[38;5;28;01melse\u001b[39;00m:\n\u001b[32m-> \u001b[39m\u001b[32m1440\u001b[39m         \u001b[38;5;28;01mreturn\u001b[39;00m \u001b[38;5;28;43mself\u001b[39;49m\u001b[43m.\u001b[49m\u001b[43m_mutated_copy\u001b[49m\u001b[43m(\u001b[49m\u001b[43m)\u001b[49m\n\u001b[32m   1441\u001b[39m \u001b[38;5;28;01melse\u001b[39;00m:\n\u001b[32m   1442\u001b[39m     \u001b[38;5;28;01mfrom\u001b[39;00m\u001b[38;5;250m \u001b[39m\u001b[34;01m.\u001b[39;00m\u001b[34;01m.\u001b[39;00m\u001b[34;01mio\u001b[39;00m\u001b[38;5;250m \u001b[39m\u001b[38;5;28;01mimport\u001b[39;00m read_h5ad, write_h5ad\n",
      "\u001b[36mFile \u001b[39m\u001b[32m~/Documents/ehrapy_workspace/ehrdata/ehrdata_venv/lib/python3.11/site-packages/anndata/_core/anndata.py:1381\u001b[39m, in \u001b[36mAnnData._mutated_copy\u001b[39m\u001b[34m(self, **kwargs)\u001b[39m\n\u001b[32m   1379\u001b[39m \u001b[38;5;28;01melif\u001b[39;00m \u001b[38;5;28mself\u001b[39m.raw \u001b[38;5;129;01mis\u001b[39;00m \u001b[38;5;129;01mnot\u001b[39;00m \u001b[38;5;28;01mNone\u001b[39;00m:\n\u001b[32m   1380\u001b[39m     new[\u001b[33m\"\u001b[39m\u001b[33mraw\u001b[39m\u001b[33m\"\u001b[39m] = \u001b[38;5;28mself\u001b[39m.raw.copy()\n\u001b[32m-> \u001b[39m\u001b[32m1381\u001b[39m \u001b[38;5;28;01mreturn\u001b[39;00m \u001b[43mAnnData\u001b[49m\u001b[43m(\u001b[49m\u001b[43m*\u001b[49m\u001b[43m*\u001b[49m\u001b[43mnew\u001b[49m\u001b[43m)\u001b[49m\n",
      "\u001b[36mFile \u001b[39m\u001b[32m~/Documents/ehrapy_workspace/ehrdata/ehrdata_venv/lib/python3.11/site-packages/anndata/_core/anndata.py:229\u001b[39m, in \u001b[36mAnnData.__init__\u001b[39m\u001b[34m(self, X, obs, var, uns, obsm, varm, layers, raw, dtype, shape, filename, filemode, asview, obsp, varp, oidx, vidx)\u001b[39m\n\u001b[32m    227\u001b[39m     \u001b[38;5;28mself\u001b[39m._init_as_view(X, oidx, vidx)\n\u001b[32m    228\u001b[39m \u001b[38;5;28;01melse\u001b[39;00m:\n\u001b[32m--> \u001b[39m\u001b[32m229\u001b[39m     \u001b[38;5;28;43mself\u001b[39;49m\u001b[43m.\u001b[49m\u001b[43m_init_as_actual\u001b[49m\u001b[43m(\u001b[49m\n\u001b[32m    230\u001b[39m \u001b[43m        \u001b[49m\u001b[43mX\u001b[49m\u001b[43m=\u001b[49m\u001b[43mX\u001b[49m\u001b[43m,\u001b[49m\n\u001b[32m    231\u001b[39m \u001b[43m        \u001b[49m\u001b[43mobs\u001b[49m\u001b[43m=\u001b[49m\u001b[43mobs\u001b[49m\u001b[43m,\u001b[49m\n\u001b[32m    232\u001b[39m \u001b[43m        \u001b[49m\u001b[43mvar\u001b[49m\u001b[43m=\u001b[49m\u001b[43mvar\u001b[49m\u001b[43m,\u001b[49m\n\u001b[32m    233\u001b[39m \u001b[43m        \u001b[49m\u001b[43muns\u001b[49m\u001b[43m=\u001b[49m\u001b[43muns\u001b[49m\u001b[43m,\u001b[49m\n\u001b[32m    234\u001b[39m \u001b[43m        \u001b[49m\u001b[43mobsm\u001b[49m\u001b[43m=\u001b[49m\u001b[43mobsm\u001b[49m\u001b[43m,\u001b[49m\n\u001b[32m    235\u001b[39m \u001b[43m        \u001b[49m\u001b[43mvarm\u001b[49m\u001b[43m=\u001b[49m\u001b[43mvarm\u001b[49m\u001b[43m,\u001b[49m\n\u001b[32m    236\u001b[39m \u001b[43m        \u001b[49m\u001b[43mraw\u001b[49m\u001b[43m=\u001b[49m\u001b[43mraw\u001b[49m\u001b[43m,\u001b[49m\n\u001b[32m    237\u001b[39m \u001b[43m        \u001b[49m\u001b[43mlayers\u001b[49m\u001b[43m=\u001b[49m\u001b[43mlayers\u001b[49m\u001b[43m,\u001b[49m\n\u001b[32m    238\u001b[39m \u001b[43m        \u001b[49m\u001b[43mdtype\u001b[49m\u001b[43m=\u001b[49m\u001b[43mdtype\u001b[49m\u001b[43m,\u001b[49m\n\u001b[32m    239\u001b[39m \u001b[43m        \u001b[49m\u001b[43mshape\u001b[49m\u001b[43m=\u001b[49m\u001b[43mshape\u001b[49m\u001b[43m,\u001b[49m\n\u001b[32m    240\u001b[39m \u001b[43m        \u001b[49m\u001b[43mobsp\u001b[49m\u001b[43m=\u001b[49m\u001b[43mobsp\u001b[49m\u001b[43m,\u001b[49m\n\u001b[32m    241\u001b[39m \u001b[43m        \u001b[49m\u001b[43mvarp\u001b[49m\u001b[43m=\u001b[49m\u001b[43mvarp\u001b[49m\u001b[43m,\u001b[49m\n\u001b[32m    242\u001b[39m \u001b[43m        \u001b[49m\u001b[43mfilename\u001b[49m\u001b[43m=\u001b[49m\u001b[43mfilename\u001b[49m\u001b[43m,\u001b[49m\n\u001b[32m    243\u001b[39m \u001b[43m        \u001b[49m\u001b[43mfilemode\u001b[49m\u001b[43m=\u001b[49m\u001b[43mfilemode\u001b[49m\u001b[43m,\u001b[49m\n\u001b[32m    244\u001b[39m \u001b[43m    \u001b[49m\u001b[43m)\u001b[49m\n",
      "\u001b[36mFile \u001b[39m\u001b[32m~/Documents/ehrapy_workspace/ehrdata/ehrdata_venv/lib/python3.11/site-packages/anndata/_core/anndata.py:456\u001b[39m, in \u001b[36mAnnData._init_as_actual\u001b[39m\u001b[34m(self, X, obs, var, uns, obsm, varm, varp, obsp, raw, layers, dtype, shape, filename, filemode)\u001b[39m\n\u001b[32m    453\u001b[39m \u001b[38;5;28mself\u001b[39m._clean_up_old_format(uns)\n\u001b[32m    455\u001b[39m \u001b[38;5;66;03m# layers\u001b[39;00m\n\u001b[32m--> \u001b[39m\u001b[32m456\u001b[39m \u001b[38;5;28;43mself\u001b[39;49m\u001b[43m.\u001b[49m\u001b[43mlayers\u001b[49m = layers\n",
      "\u001b[36mFile \u001b[39m\u001b[32m~/Documents/ehrapy_workspace/ehrdata/ehrdata_venv/lib/python3.11/site-packages/anndata/_core/aligned_mapping.py:433\u001b[39m, in \u001b[36mAlignedMappingProperty.__set__\u001b[39m\u001b[34m(self, obj, value)\u001b[39m\n\u001b[32m    429\u001b[39m \u001b[38;5;28;01mdef\u001b[39;00m\u001b[38;5;250m \u001b[39m\u001b[34m__set__\u001b[39m(\n\u001b[32m    430\u001b[39m     \u001b[38;5;28mself\u001b[39m, obj: AnnData, value: Mapping[\u001b[38;5;28mstr\u001b[39m, Value] | Iterable[\u001b[38;5;28mtuple\u001b[39m[\u001b[38;5;28mstr\u001b[39m, Value]]\n\u001b[32m    431\u001b[39m ) -> \u001b[38;5;28;01mNone\u001b[39;00m:\n\u001b[32m    432\u001b[39m     value = convert_to_dict(value)\n\u001b[32m--> \u001b[39m\u001b[32m433\u001b[39m     _ = \u001b[38;5;28;43mself\u001b[39;49m\u001b[43m.\u001b[49m\u001b[43mconstruct\u001b[49m\u001b[43m(\u001b[49m\u001b[43mobj\u001b[49m\u001b[43m,\u001b[49m\u001b[43m \u001b[49m\u001b[43mstore\u001b[49m\u001b[43m=\u001b[49m\u001b[43mvalue\u001b[49m\u001b[43m)\u001b[49m  \u001b[38;5;66;03m# Validate\u001b[39;00m\n\u001b[32m    434\u001b[39m     \u001b[38;5;28;01mif\u001b[39;00m obj.is_view:\n\u001b[32m    435\u001b[39m         obj._init_as_actual(obj.copy())\n",
      "\u001b[36mFile \u001b[39m\u001b[32m~/Documents/ehrapy_workspace/ehrdata/ehrdata_venv/lib/python3.11/site-packages/anndata/_core/aligned_mapping.py:405\u001b[39m, in \u001b[36mAlignedMappingProperty.construct\u001b[39m\u001b[34m(self, obj, store)\u001b[39m\n\u001b[32m    403\u001b[39m \u001b[38;5;28;01mdef\u001b[39;00m\u001b[38;5;250m \u001b[39m\u001b[34mconstruct\u001b[39m(\u001b[38;5;28mself\u001b[39m, obj: AnnData, *, store: MutableMapping[\u001b[38;5;28mstr\u001b[39m, Value]) -> T:\n\u001b[32m    404\u001b[39m     \u001b[38;5;28;01mif\u001b[39;00m \u001b[38;5;28mself\u001b[39m.axis \u001b[38;5;129;01mis\u001b[39;00m \u001b[38;5;28;01mNone\u001b[39;00m:\n\u001b[32m--> \u001b[39m\u001b[32m405\u001b[39m         \u001b[38;5;28;01mreturn\u001b[39;00m \u001b[38;5;28;43mself\u001b[39;49m\u001b[43m.\u001b[49m\u001b[43mcls\u001b[49m\u001b[43m(\u001b[49m\u001b[43mobj\u001b[49m\u001b[43m,\u001b[49m\u001b[43m \u001b[49m\u001b[43mstore\u001b[49m\u001b[43m=\u001b[49m\u001b[43mstore\u001b[49m\u001b[43m)\u001b[49m\n\u001b[32m    406\u001b[39m     \u001b[38;5;28;01mreturn\u001b[39;00m \u001b[38;5;28mself\u001b[39m.cls(obj, axis=\u001b[38;5;28mself\u001b[39m.axis, store=store)\n",
      "\u001b[36mFile \u001b[39m\u001b[32m~/Documents/ehrapy_workspace/ehrdata/ehrdata_venv/lib/python3.11/site-packages/anndata/_core/aligned_mapping.py:208\u001b[39m, in \u001b[36mAlignedActual.__init__\u001b[39m\u001b[34m(self, parent, store)\u001b[39m\n\u001b[32m    206\u001b[39m \u001b[38;5;28mself\u001b[39m._data = store\n\u001b[32m    207\u001b[39m \u001b[38;5;28;01mfor\u001b[39;00m k, v \u001b[38;5;129;01min\u001b[39;00m \u001b[38;5;28mself\u001b[39m._data.items():\n\u001b[32m--> \u001b[39m\u001b[32m208\u001b[39m     \u001b[38;5;28mself\u001b[39m._data[k] = \u001b[38;5;28;43mself\u001b[39;49m\u001b[43m.\u001b[49m\u001b[43m_validate_value\u001b[49m\u001b[43m(\u001b[49m\u001b[43mv\u001b[49m\u001b[43m,\u001b[49m\u001b[43m \u001b[49m\u001b[43mk\u001b[49m\u001b[43m)\u001b[49m\n",
      "\u001b[36mFile \u001b[39m\u001b[32m~/Documents/ehrapy_workspace/ehrdata/ehrdata_venv/lib/python3.11/site-packages/anndata/_core/aligned_mapping.py:96\u001b[39m, in \u001b[36mAlignedMappingBase._validate_value\u001b[39m\u001b[34m(self, val, key)\u001b[39m\n\u001b[32m     90\u001b[39m         dims = \u001b[38;5;28mtuple\u001b[39m((\u001b[33m\"\u001b[39m\u001b[33mobs\u001b[39m\u001b[33m\"\u001b[39m, \u001b[33m\"\u001b[39m\u001b[33mvar\u001b[39m\u001b[33m\"\u001b[39m)[ax] \u001b[38;5;28;01mfor\u001b[39;00m ax \u001b[38;5;129;01min\u001b[39;00m \u001b[38;5;28mself\u001b[39m.axes)\n\u001b[32m     91\u001b[39m         msg = (\n\u001b[32m     92\u001b[39m             \u001b[33mf\u001b[39m\u001b[33m\"\u001b[39m\u001b[33mValue passed for key \u001b[39m\u001b[38;5;132;01m{\u001b[39;00mkey\u001b[38;5;132;01m!r}\u001b[39;00m\u001b[33m is of incorrect shape. \u001b[39m\u001b[33m\"\u001b[39m\n\u001b[32m     93\u001b[39m             \u001b[33mf\u001b[39m\u001b[33m\"\u001b[39m\u001b[33mValues of \u001b[39m\u001b[38;5;132;01m{\u001b[39;00m\u001b[38;5;28mself\u001b[39m.attrname\u001b[38;5;132;01m}\u001b[39;00m\u001b[33m must match dimensions \u001b[39m\u001b[38;5;132;01m{\u001b[39;00mdims\u001b[38;5;132;01m}\u001b[39;00m\u001b[33m of parent. \u001b[39m\u001b[33m\"\u001b[39m\n\u001b[32m     94\u001b[39m             \u001b[33mf\u001b[39m\u001b[33m\"\u001b[39m\u001b[33mValue had shape \u001b[39m\u001b[38;5;132;01m{\u001b[39;00mactual_shape\u001b[38;5;132;01m}\u001b[39;00m\u001b[33m while it should have had \u001b[39m\u001b[38;5;132;01m{\u001b[39;00mright_shape\u001b[38;5;132;01m}\u001b[39;00m\u001b[33m.\u001b[39m\u001b[33m\"\u001b[39m\n\u001b[32m     95\u001b[39m         )\n\u001b[32m---> \u001b[39m\u001b[32m96\u001b[39m     \u001b[38;5;28;01mraise\u001b[39;00m \u001b[38;5;167;01mValueError\u001b[39;00m(msg)\n\u001b[32m     98\u001b[39m name = \u001b[33mf\u001b[39m\u001b[33m\"\u001b[39m\u001b[38;5;132;01m{\u001b[39;00m\u001b[38;5;28mself\u001b[39m.attrname.title().rstrip(\u001b[33m'\u001b[39m\u001b[33ms\u001b[39m\u001b[33m'\u001b[39m)\u001b[38;5;132;01m}\u001b[39;00m\u001b[33m \u001b[39m\u001b[38;5;132;01m{\u001b[39;00mkey\u001b[38;5;132;01m!r}\u001b[39;00m\u001b[33m\"\u001b[39m\n\u001b[32m     99\u001b[39m \u001b[38;5;28;01mreturn\u001b[39;00m coerce_array(val, name=name, allow_df=\u001b[38;5;28mself\u001b[39m._allow_df)\n",
      "\u001b[31mValueError\u001b[39m: Value passed for key 'tem_layer' is of incorrect shape. Values of layers must match dimensions ('obs', 'var') of parent. Value had shape (1, 3) while it should have had (1, 1)."
     ]
    }
   ],
   "source": [
    "edata_subset.obs[\"foo\"] = \"bar\""
   ]
  },
  {
   "cell_type": "markdown",
   "metadata": {},
   "source": [
    "Now `edata_subset` stores the actual data and is no longer just a reference to `edata`."
   ]
  },
  {
   "cell_type": "code",
   "execution_count": 52,
   "metadata": {
    "jupyter": {
     "outputs_hidden": false
    }
   },
   "outputs": [
    {
     "data": {
      "text/plain": [
       "View of EHRData object with n_obs × n_vars = 1 × 1\n",
       "    obs: 'birthdate', 'gender'\n",
       "    var: 'name', 'unit'\n",
       "    tem: '1', '2', '3'\n",
       "    uns: 'random'\n",
       "    obsm: 'X_umap'\n",
       "    varm: 'variable_stuff'\n",
       "    layers: 'tem_layer', 'log_transformed'\n",
       "    shape of .tem_layer: (1, 3)\n",
       "    shape of .log_transformed: (1, 3)"
      ]
     },
     "execution_count": 52,
     "metadata": {},
     "output_type": "execute_result"
    }
   ],
   "source": [
    "edata_subset"
   ]
  },
  {
   "cell_type": "code",
   "execution_count": null,
   "metadata": {},
   "outputs": [],
   "source": []
  }
 ],
 "metadata": {
  "anaconda-cloud": {},
  "kernelspec": {
   "display_name": "ehrdata_venv",
   "language": "python",
   "name": "python3"
  },
  "language_info": {
   "codemirror_mode": {
    "name": "ipython",
    "version": 3
   },
   "file_extension": ".py",
   "mimetype": "text/x-python",
   "name": "python",
   "nbconvert_exporter": "python",
   "pygments_lexer": "ipython3",
   "version": "3.11.11"
  }
 },
 "nbformat": 4,
 "nbformat_minor": 4
}
