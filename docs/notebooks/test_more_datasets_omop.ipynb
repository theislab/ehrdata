{
 "cells": [
  {
   "cell_type": "code",
   "execution_count": 1,
   "metadata": {},
   "outputs": [],
   "source": [
    "%load_ext autoreload\n",
    "%autoreload 2"
   ]
  },
  {
   "cell_type": "code",
   "execution_count": 2,
   "metadata": {},
   "outputs": [],
   "source": [
    "from ehrdata import EHRData\n",
    "EHRData().r\n",
    "import anndata as ad\n",
    "import duckdb\n",
    "import ehrapy as ep\n",
    "import ehrdata as ed\n",
    "import numpy as np\n",
    "import os"
   ]
  },
  {
   "cell_type": "code",
   "execution_count": 5,
   "metadata": {},
   "outputs": [],
   "source": [
    "from datasets import gibleed_omop, mimic_iv_omop, synthea27nj_omop"
   ]
  },
  {
   "cell_type": "markdown",
   "metadata": {},
   "source": [
    "Load the mimic dataset"
   ]
  },
  {
   "cell_type": "code",
   "execution_count": 6,
   "metadata": {},
   "outputs": [],
   "source": [
    "def load_and_check(dummy_func, start_time):\n",
    "    con = duckdb.connect()\n",
    "    dummy_func(backend_handle=con)\n",
    "    edata = ed.io.omop.setup_obs(con, \"person_observation_period\")\n",
    "    edata\n",
    "    edata = ed.io.omop.setup_variables(\n",
    "        backend_handle=con,\n",
    "        edata=edata,\n",
    "        tables=[\"measurement\"],\n",
    "        start_time=start_time,\n",
    "        interval_length_number=28,\n",
    "        interval_length_unit=\"day\",\n",
    "        num_intervals=\"max_observation_duration\",\n",
    "        concept_ids=\"all\",\n",
    "        aggregation_strategy=\"last\"\n",
    "    )\n",
    "    return edata"
   ]
  },
  {
   "cell_type": "markdown",
   "metadata": {},
   "source": [
    "Load the mimic dataset"
   ]
  },
  {
   "cell_type": "code",
   "execution_count": 7,
   "metadata": {},
   "outputs": [
    {
     "name": "stdout",
     "output_type": "stream",
     "text": [
      "Path to data exists, load tables from there: ehrapy_data/mimic-iv-demo-data-in-the-omop-common-data-model-0.9\n",
      "missing tables:  [['concept'], ['vocabulary'], ['domain'], ['concept_class'], ['concept_relationship'], ['relationship'], ['concept_synonym'], ['concept_ancestor'], ['source_to_concept_map'], ['drug_strength']]\n"
     ]
    }
   ],
   "source": [
    "edata_mimic = load_and_check(mimic_iv_omop, \"observation_period_start_date\")"
   ]
  },
  {
   "cell_type": "code",
   "execution_count": 13,
   "metadata": {},
   "outputs": [
    {
     "data": {
      "text/plain": [
       "EHRData object with n_obs x n_var = 100 x 450, and a timeseries of 320 steps.\n",
       "             shape of .X: (100, 450) \n",
       "             shape of .r: ((100, 450, 320)) "
      ]
     },
     "execution_count": 13,
     "metadata": {},
     "output_type": "execute_result"
    }
   ],
   "source": [
    "edata_mimic"
   ]
  },
  {
   "cell_type": "markdown",
   "metadata": {},
   "source": [
    "Load the gibleed dataset"
   ]
  },
  {
   "cell_type": "code",
   "execution_count": 9,
   "metadata": {},
   "outputs": [
    {
     "name": "stdout",
     "output_type": "stream",
     "text": [
      "Path to data exists, load tables from there: ehrapy_data/GIBleed_dataset\n",
      "missing tables:  [['cohort_definition']]\n"
     ]
    }
   ],
   "source": [
    "edata_gibleed = load_and_check(gibleed_omop, \"observation_period\")"
   ]
  },
  {
   "cell_type": "code",
   "execution_count": 11,
   "metadata": {},
   "outputs": [
    {
     "data": {
      "text/plain": [
       "EHRData object with n_obs x n_var = 2694 x 55, and a timeseries of 1441 steps.\n",
       "             shape of .X: (2694, 55) \n",
       "             shape of .r: ((2694, 55, 1441)) "
      ]
     },
     "execution_count": 11,
     "metadata": {},
     "output_type": "execute_result"
    }
   ],
   "source": [
    "edata_gibleed"
   ]
  },
  {
   "cell_type": "markdown",
   "metadata": {},
   "source": [
    "Load the Synthea27NJ dataset"
   ]
  },
  {
   "cell_type": "code",
   "execution_count": 10,
   "metadata": {},
   "outputs": [
    {
     "name": "stdout",
     "output_type": "stream",
     "text": [
      "Path to data exists, load tables from there: ehrapy_data/Synthea27Nj\n",
      "missing tables:  []\n"
     ]
    }
   ],
   "source": [
    "edata_synthea27nj = load_and_check(synthea27nj_omop, \"observation_period\")"
   ]
  },
  {
   "cell_type": "code",
   "execution_count": 12,
   "metadata": {},
   "outputs": [
    {
     "data": {
      "text/plain": [
       "EHRData object with n_obs x n_var = 28 x 132, and a timeseries of 866 steps.\n",
       "             shape of .X: (28, 132) \n",
       "             shape of .r: ((28, 132, 866)) "
      ]
     },
     "execution_count": 12,
     "metadata": {},
     "output_type": "execute_result"
    }
   ],
   "source": [
    "edata_synthea27nj"
   ]
  },
  {
   "cell_type": "code",
   "execution_count": null,
   "metadata": {},
   "outputs": [],
   "source": []
  }
 ],
 "metadata": {
  "kernelspec": {
   "display_name": "hackathon_venv",
   "language": "python",
   "name": "python3"
  },
  "language_info": {
   "codemirror_mode": {
    "name": "ipython",
    "version": 3
   },
   "file_extension": ".py",
   "mimetype": "text/x-python",
   "name": "python",
   "nbconvert_exporter": "python",
   "pygments_lexer": "ipython3",
   "version": "3.12.7"
  }
 },
 "nbformat": 4,
 "nbformat_minor": 2
}
