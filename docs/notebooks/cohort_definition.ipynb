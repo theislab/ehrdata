{
 "cells": [
  {
   "cell_type": "markdown",
   "metadata": {},
   "source": [
    "# Cohort Definition with OHDSI"
   ]
  },
  {
   "cell_type": "markdown",
   "metadata": {},
   "source": [
    "follow chapter 8? say just do all of this with atlas and then do sql before getting ehrapy..?"
   ]
  },
  {
   "cell_type": "code",
   "execution_count": null,
   "metadata": {},
   "outputs": [],
   "source": []
  }
 ],
 "metadata": {
  "language_info": {
   "name": "python"
  }
 },
 "nbformat": 4,
 "nbformat_minor": 2
}
