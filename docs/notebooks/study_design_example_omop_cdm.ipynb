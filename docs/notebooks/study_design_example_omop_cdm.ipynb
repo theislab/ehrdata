{
 "cells": [
  {
   "cell_type": "markdown",
   "metadata": {},
   "source": [
    "# Study Design with OHDSI"
   ]
  },
  {
   "cell_type": "markdown",
   "metadata": {},
   "source": [
    "follow https://ohdsi.github.io/TheBookOfOhdsi/SqlAndR.html#designing-a-simple-study from a sql backend like duckdb and show plug and play from python, maybe something with ehrapy as comparison?\n",
    "\n",
    "mention how ohdsi's\n",
    "- https://github.com/OHDSI/SqlRender as web app can help to find the right query for your backend here\n",
    "- https://data.ohdsi.org/QueryLibrary/ can help to copy-paste common queries into notebooks like this"
   ]
  },
  {
   "cell_type": "code",
   "execution_count": 1,
   "metadata": {},
   "outputs": [],
   "source": [
    "# import duckdb\n",
    "# connect duckdb with ACE dataset\n",
    "# show queries\n",
    "# show cohorttracker of ehrapy and tableone here as useful addons"
   ]
  },
  {
   "cell_type": "code",
   "execution_count": null,
   "metadata": {},
   "outputs": [],
   "source": []
  }
 ],
 "metadata": {
  "kernelspec": {
   "display_name": "ehrapy_venv_july",
   "language": "python",
   "name": "python3"
  },
  "language_info": {
   "codemirror_mode": {
    "name": "ipython",
    "version": 3
   },
   "file_extension": ".py",
   "mimetype": "text/x-python",
   "name": "python",
   "nbconvert_exporter": "python",
   "pygments_lexer": "ipython3",
   "version": "3.11.9"
  }
 },
 "nbformat": 4,
 "nbformat_minor": 2
}
