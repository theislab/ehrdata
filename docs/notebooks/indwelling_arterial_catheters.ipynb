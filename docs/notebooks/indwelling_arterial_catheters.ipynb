{
 "cells": [
  {
   "cell_type": "markdown",
   "metadata": {},
   "source": [
    "Reproduce indwelling artherial catheters example from here https://link.springer.com/book/10.1007/978-3-319-43742-2 in python and show what ehrapy's additional eda functions can add\n",
    "\n",
    "TODOs\n",
    "- prepare the dataset, available on physionet here https://physionet.org/content/mimic2-iaccd/1.0/, into anndata\n",
    "- re-cook analysis"
   ]
  },
  {
   "cell_type": "code",
   "execution_count": null,
   "metadata": {},
   "outputs": [],
   "source": []
  },
  {
   "cell_type": "markdown",
   "metadata": {},
   "source": []
  }
 ],
 "metadata": {
  "language_info": {
   "name": "python"
  }
 },
 "nbformat": 4,
 "nbformat_minor": 2
}
