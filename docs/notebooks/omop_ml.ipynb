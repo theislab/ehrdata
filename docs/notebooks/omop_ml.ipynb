{
 "cells": [
  {
   "cell_type": "code",
   "execution_count": null,
   "metadata": {},
   "outputs": [
    {
     "name": "stdout",
     "output_type": "stream",
     "text": [
      "The autoreload extension is already loaded. To reload it, use:\n",
      "  %reload_ext autoreload\n"
     ]
    }
   ],
   "source": [
    "%load_ext autoreload\n",
    "%autoreload 2"
   ]
  },
  {
   "cell_type": "markdown",
   "metadata": {},
   "source": [
    "# Deep Learning on Timeseries for the OMOP CDM with ehrdata\n",
    "ehrdata offers a deep learning convenience map-style [pytorch dataset](https://pytorch.org/docs/stable/data.html#torch.utils.data.Dataset), EHRDataset.\n",
    "This is the input for pytorch's Dataloader, the canonical data loading structure for deep learning models in pytorch.\n",
    "\n",
    "For more information on the OMOP Common Data Model (CDM), see the notebook on the [OMOP CDM](./omop_tables_tutorial.ipynb).\n",
    "\n",
    "For more information on advanced time series algorithms, see the notebook on [Time Series Analysis with ehrdata and PyPOTS](./tutorial_time_series_with_pypots.ipynb)."
   ]
  },
  {
   "cell_type": "markdown",
   "metadata": {},
   "source": [
    "## Introduction\n",
    "Disclaimer: the example usecase is for demonstration purposes only. The data preprocessing, the task definition, and the model setup are meant to be introductory. And as such lack the complexity required for proper inference. But flexible enough to build exactly this on top of it.\n",
    "\n",
    "## Worked example: Predict in-hospital mortality of ICU patients\n",
    "We consider the task of predicting the in-hospital mortality of ICU patients, using public [MIMIC-IV demo dataset in the OMOP Common Data Model](https://physionet.org/content/mimic-iv-demo-omop/0.9/).\n",
    "\n",
    "Dataset:<br>\n",
    "Kallfelz, M., Tsvetkova, A., Pollard, T., Kwong, M., Lipori, G., Huser, V., Osborn, J., Hao, S., & Williams, A. (2021). MIMIC-IV demo data in the OMOP Common Data Model (version 0.9). PhysioNet. https://doi.org/10.13026/p1f5-7x35."
   ]
  },
  {
   "cell_type": "markdown",
   "metadata": {},
   "source": [
    "### Imports\n",
    "We start with the required imports"
   ]
  },
  {
   "cell_type": "code",
   "execution_count": 267,
   "metadata": {},
   "outputs": [],
   "source": [
    "import torch\n",
    "import duckdb\n",
    "import numpy as np\n",
    "from torch.utils.data import DataLoader\n",
    "\n",
    "import ehrdata as ed\n",
    "import ehrapy as ep"
   ]
  },
  {
   "cell_type": "markdown",
   "metadata": {},
   "source": [
    "### Setup the database\n",
    "We use the plug-and-play ehrdata dataset, and duckdb as our RDMS.\n",
    "#### Setup a local database connection"
   ]
  },
  {
   "cell_type": "code",
   "execution_count": 268,
   "metadata": {},
   "outputs": [],
   "source": [
    "con = duckdb.connect(\":memory:\")"
   ]
  },
  {
   "cell_type": "markdown",
   "metadata": {},
   "source": [
    "#### Download the data, and load it into the database\n",
    "Convenience dataset available from ehrdata."
   ]
  },
  {
   "cell_type": "code",
   "execution_count": 269,
   "metadata": {},
   "outputs": [],
   "source": [
    "ed.dt.mimic_iv_omop(backend_handle=con)"
   ]
  },
  {
   "cell_type": "markdown",
   "metadata": {},
   "source": [
    "#### Define the Cohort\n",
    "We start off by considering only patients with a `visit_occurrence` in ICU (`visit_concept_id` in `visit_detail` for ICU: In this dataset, we choose the OMOP Concept IDs\n",
    "- 4305366 for Surgical ICU\n",
    "- 40481392 for Medical ICU\n",
    "- 32037 for Intensive Care\n",
    "- 763903 for Trauma ICU\n",
    "- 4149943 for Cardiac ICU\n",
    "\n",
    "If a person had multiple such ICU stays, we select the first.\n",
    "\n",
    "There are better ways than to delete rows in `visit_occurrence` which do not satisfy our cohort definition from our database, for the toy example this is the fastest."
   ]
  },
  {
   "cell_type": "code",
   "execution_count": 270,
   "metadata": {},
   "outputs": [
    {
     "data": {
      "text/plain": [
       "<duckdb.duckdb.DuckDBPyConnection at 0x34f9f6cb0>"
      ]
     },
     "execution_count": 270,
     "metadata": {},
     "output_type": "execute_result"
    }
   ],
   "source": [
    "con.execute(\"\"\"\n",
    "    WITH RankedVisits AS (\n",
    "        SELECT\n",
    "            v.*,\n",
    "            vd.*,\n",
    "            ROW_NUMBER() OVER (PARTITION BY v.person_id ORDER BY v.visit_start_date) AS rn\n",
    "        FROM visit_occurrence v\n",
    "        JOIN visit_detail vd USING (visit_occurrence_id)\n",
    "        WHERE vd.visit_detail_concept_id IN (4305366, 40481392, 32037, 763903, 4149943)\n",
    "    ),\n",
    "    first_icu_visit_occurrence_id AS (\n",
    "        SELECT visit_occurrence_id\n",
    "        FROM RankedVisits\n",
    "        WHERE rn = 1\n",
    "    )\n",
    "    DELETE FROM visit_occurrence\n",
    "    WHERE visit_occurrence_id NOT IN (SELECT visit_occurrence_id FROM first_icu_visit_occurrence_id)\n",
    "\"\"\")"
   ]
  },
  {
   "cell_type": "markdown",
   "metadata": {},
   "source": [
    "#### Define the variables of interest and the time windows.\n",
    "For more information of how we can convert the irregularly-sampled time series into a missing data problem by discretizing the time axis into non-overlapping intervals, see the Notebook on [Extracting, Representing, Validating and Vizualizing Data from an OMOP CDM Database with ehrdata, lamin, and Vitessce](./tutorial_omop_visualization.ipynb).\n",
    "\n",
    "Here, we decide for the following:\n",
    "- We have for each person (n=100) one in-hospital stay; take the start of this hospital stay as the starting point (t=0) for each patient.\n",
    "- We consider time-intervals of 1h, for 24h; that is, the first day after ICU admission. If for a patient less recorded data is available, the missing data is padded.\n",
    "- We consider the data from the `measurements` table; we consider the numeric `value_as_number` values.\n"
   ]
  },
  {
   "cell_type": "markdown",
   "metadata": {},
   "source": [
    "We now set up the persons to be considered, together with their observation start and endtimes, retrieved from the `visit_occurrence` table."
   ]
  },
  {
   "cell_type": "code",
   "execution_count": 271,
   "metadata": {},
   "outputs": [],
   "source": [
    "edata = ed.io.omop.setup_obs(\n",
    "    backend_handle=con,\n",
    "    observation_table=\"person_visit_occurrence\",\n",
    ")"
   ]
  },
  {
   "cell_type": "markdown",
   "metadata": {},
   "source": [
    "In the next step, we retrieve all `value_as_number` entries from the `measurements` table:"
   ]
  },
  {
   "cell_type": "code",
   "execution_count": 272,
   "metadata": {},
   "outputs": [
    {
     "name": "stderr",
     "output_type": "stream",
     "text": [
      "WARNING:root:multiple units for features: [[  1]\n",
      " [  7]\n",
      " [ 31]\n",
      " [ 33]\n",
      " [ 39]\n",
      " [ 44]\n",
      " [ 49]\n",
      " [ 57]\n",
      " [ 60]\n",
      " [ 79]\n",
      " [ 81]\n",
      " [ 83]\n",
      " [ 93]\n",
      " [110]\n",
      " [160]\n",
      " [175]\n",
      " [186]\n",
      " [187]\n",
      " [189]\n",
      " [190]\n",
      " [195]\n",
      " [204]\n",
      " [207]\n",
      " [221]\n",
      " [269]\n",
      " [273]\n",
      " [275]]\n"
     ]
    }
   ],
   "source": [
    "edata = ed.io.omop.setup_variables(\n",
    "    edata=edata,\n",
    "    backend_handle=con,\n",
    "    data_tables=[\"measurement\"],\n",
    "    data_field_to_keep=[\"value_as_number\"],\n",
    "    interval_length_number=1,\n",
    "    interval_length_unit=\"h\",\n",
    "    num_intervals=24,\n",
    "    concept_ids=\"all\",\n",
    "    aggregation_strategy=\"last\",\n",
    "    instantiate_tensor=False,\n",
    ")"
   ]
  },
  {
   "cell_type": "markdown",
   "metadata": {},
   "source": [
    "NOTE: this could/should become an ehrdata API call.\n",
    "\n",
    "We drop features which are not measured in at least 10 patients 1x."
   ]
  },
  {
   "cell_type": "code",
   "execution_count": null,
   "metadata": {},
   "outputs": [
    {
     "data": {
      "text/plain": [
       "<duckdb.duckdb.DuckDBPyConnection at 0x34f9f6cb0>"
      ]
     },
     "execution_count": 273,
     "metadata": {},
     "output_type": "execute_result"
    }
   ],
   "source": [
    "# delete all rows for which data_table_concept_id is NOT NULL in at least 10 different patient_id s\n",
    "con.execute(\"\"\"\n",
    "    WITH concept_ids_to_delete AS (\n",
    "\n",
    "        SELECT\n",
    "            data_table_concept_id\n",
    "        FROM long_person_timestamp_feature_value\n",
    "        WHERE value_as_number IS NOT NULL\n",
    "        GROUP BY data_table_concept_id\n",
    "        HAVING COUNT(DISTINCT person_id) <= 10\n",
    "\n",
    "        UNION\n",
    "\n",
    "        SELECT\n",
    "            data_table_concept_id\n",
    "        FROM long_person_timestamp_feature_value\n",
    "        GROUP BY data_table_concept_id\n",
    "        HAVING COUNT(value_as_number) = 0\n",
    "    )\n",
    "\n",
    "    DELETE FROM long_person_timestamp_feature_value\n",
    "    WHERE data_table_concept_id IN (\n",
    "        SELECT data_table_concept_id FROM concept_ids_to_delete\n",
    "    );\n",
    "\"\"\")"
   ]
  },
  {
   "cell_type": "markdown",
   "metadata": {},
   "source": [
    "NOTE: this could/should become an ehrdata API call.\n",
    "\n",
    "For model simpliclity, we conduct forward filling of the variables:"
   ]
  },
  {
   "cell_type": "code",
   "execution_count": null,
   "metadata": {},
   "outputs": [
    {
     "data": {
      "text/plain": [
       "<duckdb.duckdb.DuckDBPyConnection at 0x34f9f6cb0>"
      ]
     },
     "execution_count": 274,
     "metadata": {},
     "output_type": "execute_result"
    }
   ],
   "source": [
    "con.execute(\"\"\"\n",
    "WITH filled_measurements AS (\n",
    "    SELECT\n",
    "        person_id,\n",
    "        interval_step,\n",
    "        data_table_concept_id,\n",
    "        COALESCE(value_as_number,\n",
    "                 LAST_VALUE(value_as_number IGNORE NULLS)\n",
    "                 OVER (PARTITION BY person_id, data_table_concept_id\n",
    "                       ORDER BY interval_step\n",
    "                       ROWS BETWEEN UNBOUNDED PRECEDING AND CURRENT ROW)\n",
    "        ) AS filled_value\n",
    "    FROM long_person_timestamp_feature_value\n",
    ")\n",
    "UPDATE long_person_timestamp_feature_value\n",
    "SET value_as_number = fm.filled_value\n",
    "FROM filled_measurements as fm\n",
    "WHERE long_person_timestamp_feature_value.person_id = fm.person_id\n",
    "AND long_person_timestamp_feature_value.interval_step = fm.interval_step\n",
    "AND long_person_timestamp_feature_value.data_table_concept_id = fm.data_table_concept_id;\n",
    "\"\"\")"
   ]
  },
  {
   "cell_type": "markdown",
   "metadata": {},
   "source": [
    "And for all values not captured in forward fill, we impute the missing value for person x, feature f, time step t as the mean of all other persons feature f at timestep t."
   ]
  },
  {
   "cell_type": "code",
   "execution_count": null,
   "metadata": {},
   "outputs": [
    {
     "data": {
      "text/plain": [
       "<duckdb.duckdb.DuckDBPyConnection at 0x34f9f6cb0>"
      ]
     },
     "execution_count": 275,
     "metadata": {},
     "output_type": "execute_result"
    }
   ],
   "source": [
    "con.execute(\"\"\"\n",
    "WITH feature_means AS (\n",
    "    SELECT\n",
    "        interval_step,\n",
    "        data_table_concept_id,\n",
    "        AVG(value_as_number) AS mean_value\n",
    "    FROM long_person_timestamp_feature_value\n",
    "    WHERE value_as_number IS NOT NULL\n",
    "    GROUP BY interval_step, data_table_concept_id\n",
    "),\n",
    "filled_values AS (\n",
    "    SELECT\n",
    "        lptfv.person_id,\n",
    "        lptfv.interval_step,\n",
    "        lptfv.data_table_concept_id,\n",
    "        COALESCE(lptfv.value_as_number, fm.mean_value) AS filled_value\n",
    "    FROM long_person_timestamp_feature_value lptfv\n",
    "    LEFT JOIN feature_means fm\n",
    "    ON lptfv.interval_step = fm.interval_step\n",
    "       AND lptfv.data_table_concept_id = fm.data_table_concept_id\n",
    ")\n",
    "UPDATE long_person_timestamp_feature_value\n",
    "SET value_as_number = fm.filled_value\n",
    "FROM filled_values as fm\n",
    "WHERE long_person_timestamp_feature_value.person_id = fm.person_id\n",
    "AND long_person_timestamp_feature_value.interval_step = fm.interval_step\n",
    "AND long_person_timestamp_feature_value.data_table_concept_id = fm.data_table_concept_id;\n",
    "\"\"\")"
   ]
  },
  {
   "cell_type": "markdown",
   "metadata": {},
   "source": [
    "### Deep Learning Model\n",
    "#### Data Loading"
   ]
  },
  {
   "cell_type": "markdown",
   "metadata": {},
   "source": [
    "The tensor of shape n_obs x n_vars x num_intervals has been prepared in the RDBMS.\n",
    "We can now create an `EHRDataset`, which is a subclass of pytorch's Dataset, and will stream the data for a deep learning model from the database."
   ]
  },
  {
   "cell_type": "code",
   "execution_count": 276,
   "metadata": {},
   "outputs": [],
   "source": [
    "dataset = ed.tl.omop.EHRDataset(con, edata, batch_size=5, idxs=None)"
   ]
  },
  {
   "cell_type": "markdown",
   "metadata": {},
   "source": [
    "The `EHRDataset`, as subclass of pytorch's `Dataset`, can be used right away for creating a pytorch `Dataloader`."
   ]
  },
  {
   "cell_type": "code",
   "execution_count": 277,
   "metadata": {},
   "outputs": [],
   "source": [
    "loader = DataLoader(dataset, batch_size=4, shuffle=False)"
   ]
  },
  {
   "cell_type": "markdown",
   "metadata": {},
   "source": [
    "#### Model definition\n",
    "We create a simple model for time series based on a Recurrent Neural Network in pytorch.\n",
    "More advanced models interoperable with ehrdata are showcased in [Time Series Analysis with ehrdata and PyPOTS](./tutorial_time_series_with_pypots.ipynb). However, PyPOTS does not support a pytorch Dataloader as input."
   ]
  },
  {
   "cell_type": "code",
   "execution_count": 278,
   "metadata": {},
   "outputs": [],
   "source": [
    "import torch.nn as nn\n",
    "import torch.nn.functional as F\n",
    "\n",
    "\n",
    "class RNN_Model(nn.Module):\n",
    "    \"\"\"RNN Model.\"\"\"\n",
    "\n",
    "    def __init__(self, input_size, hidden_size, num_layers, num_classes):\n",
    "        super().__init__()\n",
    "        self.rnn = nn.RNN(input_size, hidden_size, num_layers, batch_first=True)\n",
    "        self.fc = nn.Linear(hidden_size, num_classes)\n",
    "\n",
    "    def _prepare_batch(self, batch):\n",
    "        x, target = batch\n",
    "        return torch.transpose(x, 2, 1), target.flatten().to(torch.long)\n",
    "\n",
    "    def forward(self, x):\n",
    "        \"\"\"Forward method.\"\"\"\n",
    "        # x: (batch_size, seq_len, input_size)\n",
    "        out, _ = self.rnn(x)\n",
    "        out = out[:, -1, :]\n",
    "\n",
    "        # out: (batch_size, num_classes)\n",
    "        logits = self.fc(out)\n",
    "        return out, logits\n",
    "\n",
    "    def training_step(self, batch):\n",
    "        \"\"\"Training step.\"\"\"\n",
    "        x, target = self._prepare_batch(batch)\n",
    "        out, logits = self(x)\n",
    "        loss = F.cross_entropy(logits, target)\n",
    "        return loss\n",
    "\n",
    "    def fit(self, loader, epochs=10):\n",
    "        \"\"\"Fit method.\"\"\"\n",
    "        self.train_loss = []\n",
    "        optimizer = torch.optim.Adam(self.parameters(), lr=0.01)\n",
    "        for epoch in range(epochs):\n",
    "            batch_loss = []\n",
    "            for batch in loader:\n",
    "                optimizer.zero_grad()\n",
    "                loss = self.training_step(batch)\n",
    "                loss.backward()\n",
    "                optimizer.step()\n",
    "\n",
    "                batch_loss.append(loss.item())\n",
    "\n",
    "            self.train_loss.append(np.mean(np.array(batch_loss)))\n",
    "            print(f\"Epoch {epoch}, Loss: {np.mean(np.array(batch_loss))}\")\n",
    "\n",
    "    def predict(self, loader, soft=True):\n",
    "        \"\"\"Predict method.\"\"\"\n",
    "        predictions = []\n",
    "        with torch.no_grad():\n",
    "            for batch in loader:\n",
    "                x, target = self._prepare_batch(batch)\n",
    "                _, classification_logits = self(x)\n",
    "                if soft:\n",
    "                    predicted = torch.softmax(classification_logits, 1)\n",
    "                else:\n",
    "                    predicted = torch.max(classification_logits, 1)\n",
    "                predictions.append(predicted)\n",
    "        return torch.cat(predictions)\n",
    "\n",
    "    def represent(self, loader):\n",
    "        \"\"\"Represent method.\"\"\"\n",
    "        representations = []\n",
    "        with torch.no_grad():\n",
    "            for batch in loader:\n",
    "                x, target = self._prepare_batch(batch)\n",
    "                output, _ = self(x)\n",
    "                representations.append(output)\n",
    "        return torch.cat(representations)"
   ]
  },
  {
   "cell_type": "markdown",
   "metadata": {},
   "source": [
    "#### Model training"
   ]
  },
  {
   "cell_type": "code",
   "execution_count": null,
   "metadata": {},
   "outputs": [
    {
     "name": "stdout",
     "output_type": "stream",
     "text": [
      "Epoch 0, Loss: 0.3569712014496326\n",
      "Epoch 1, Loss: 0.3650100648403168\n",
      "Epoch 2, Loss: 0.3504540580511093\n",
      "Epoch 3, Loss: 0.3471323770284653\n",
      "Epoch 4, Loss: 0.3453905090689659\n"
     ]
    }
   ],
   "source": [
    "model = RNN_Model(\n",
    "    input_size=129,\n",
    "    hidden_size=16,\n",
    "    num_layers=1,\n",
    "    num_classes=2,\n",
    ")\n",
    "model.fit(loader, epochs=5)"
   ]
  },
  {
   "cell_type": "markdown",
   "metadata": {},
   "source": [
    "#### Model prediction\n",
    "Classification could look like this"
   ]
  },
  {
   "cell_type": "code",
   "execution_count": null,
   "metadata": {},
   "outputs": [
    {
     "data": {
      "text/plain": [
       "tensor([[0.8678, 0.1322],\n",
       "        [0.9055, 0.0945],\n",
       "        [0.8645, 0.1355],\n",
       "        [0.9055, 0.0945],\n",
       "        [0.9055, 0.0945],\n",
       "        [0.9055, 0.0945],\n",
       "        [0.9055, 0.0945],\n",
       "        [0.9055, 0.0945],\n",
       "        [0.8678, 0.1322],\n",
       "        [0.9055, 0.0945],\n",
       "        [0.9055, 0.0945],\n",
       "        [0.8678, 0.1322],\n",
       "        [0.8678, 0.1322],\n",
       "        [0.9055, 0.0945],\n",
       "        [0.9055, 0.0945],\n",
       "        [0.9055, 0.0945],\n",
       "        [0.9056, 0.0944],\n",
       "        [0.8678, 0.1322],\n",
       "        [0.9055, 0.0945],\n",
       "        [0.9055, 0.0945],\n",
       "        [0.8678, 0.1322],\n",
       "        [0.9055, 0.0945],\n",
       "        [0.8678, 0.1322],\n",
       "        [0.9055, 0.0945],\n",
       "        [0.9055, 0.0945],\n",
       "        [0.8678, 0.1322],\n",
       "        [0.9055, 0.0945],\n",
       "        [0.9055, 0.0945],\n",
       "        [0.9055, 0.0945],\n",
       "        [0.8678, 0.1322],\n",
       "        [0.9055, 0.0945],\n",
       "        [0.9055, 0.0945],\n",
       "        [0.9055, 0.0945],\n",
       "        [0.9055, 0.0945],\n",
       "        [0.9055, 0.0945],\n",
       "        [0.8678, 0.1322],\n",
       "        [0.9055, 0.0945],\n",
       "        [0.8678, 0.1322],\n",
       "        [0.8114, 0.1886],\n",
       "        [0.8678, 0.1322],\n",
       "        [0.9055, 0.0945],\n",
       "        [0.9055, 0.0945],\n",
       "        [0.9055, 0.0945],\n",
       "        [0.9055, 0.0945],\n",
       "        [0.9056, 0.0944],\n",
       "        [0.8678, 0.1322],\n",
       "        [0.9055, 0.0945],\n",
       "        [0.8678, 0.1322],\n",
       "        [0.9055, 0.0945],\n",
       "        [0.9055, 0.0945],\n",
       "        [0.9055, 0.0945],\n",
       "        [0.8678, 0.1322],\n",
       "        [0.9055, 0.0945],\n",
       "        [0.8678, 0.1322],\n",
       "        [0.9055, 0.0945],\n",
       "        [0.8678, 0.1322],\n",
       "        [0.9055, 0.0945],\n",
       "        [0.9055, 0.0945],\n",
       "        [0.8678, 0.1322],\n",
       "        [0.8678, 0.1322],\n",
       "        [0.9055, 0.0945],\n",
       "        [0.8678, 0.1322],\n",
       "        [0.9055, 0.0945],\n",
       "        [0.9055, 0.0945],\n",
       "        [0.9055, 0.0945],\n",
       "        [0.9055, 0.0945],\n",
       "        [0.8678, 0.1322],\n",
       "        [0.9055, 0.0945],\n",
       "        [0.9055, 0.0945],\n",
       "        [0.9055, 0.0945],\n",
       "        [0.9055, 0.0945],\n",
       "        [0.9055, 0.0945],\n",
       "        [0.8678, 0.1322],\n",
       "        [0.9055, 0.0945],\n",
       "        [0.9055, 0.0945],\n",
       "        [0.9055, 0.0945],\n",
       "        [0.8542, 0.1458],\n",
       "        [0.9055, 0.0945],\n",
       "        [0.9055, 0.0945],\n",
       "        [0.8678, 0.1322],\n",
       "        [0.9055, 0.0945],\n",
       "        [0.8678, 0.1322],\n",
       "        [0.9055, 0.0945],\n",
       "        [0.9055, 0.0945],\n",
       "        [0.7546, 0.2454],\n",
       "        [0.9055, 0.0945],\n",
       "        [0.8678, 0.1322],\n",
       "        [0.9055, 0.0945],\n",
       "        [0.8138, 0.1862],\n",
       "        [0.9055, 0.0945],\n",
       "        [0.9055, 0.0945],\n",
       "        [0.9055, 0.0945],\n",
       "        [0.9055, 0.0945],\n",
       "        [0.9055, 0.0945],\n",
       "        [0.9055, 0.0945],\n",
       "        [0.9055, 0.0945],\n",
       "        [0.9055, 0.0945],\n",
       "        [0.9055, 0.0945],\n",
       "        [0.9055, 0.0945],\n",
       "        [0.9055, 0.0945]])"
      ]
     },
     "execution_count": 280,
     "metadata": {},
     "output_type": "execute_result"
    }
   ],
   "source": [
    "model.predict(loader)"
   ]
  },
  {
   "cell_type": "markdown",
   "metadata": {},
   "source": [
    "#### Model representation\n",
    "Futher, could illustrate patient representation:"
   ]
  },
  {
   "cell_type": "code",
   "execution_count": 281,
   "metadata": {},
   "outputs": [],
   "source": [
    "edata.obsm[\"last_step_representation\"] = np.array(model.represent(loader))"
   ]
  },
  {
   "cell_type": "code",
   "execution_count": null,
   "metadata": {},
   "outputs": [
    {
     "data": {
      "image/png": "[encoded data removed]",
      "text/plain": [
       "<Figure size 640x480 with 1 Axes>"
      ]
     },
     "metadata": {},
     "output_type": "display_data"
    }
   ],
   "source": [
    "ep.pp.neighbors(edata, use_rep=\"last_step_representation\")\n",
    "ep.tl.umap(edata)\n",
    "ep.pl.umap(\n",
    "    edata, color=\"discharge_to_source_value\", title=\"UMAP of RNN representation after 24h colored by discharge note\"\n",
    ")"
   ]
  }
 ],
 "metadata": {
  "kernelspec": {
   "display_name": "ehrapy_venv_oct",
   "language": "python",
   "name": "python3"
  },
  "language_info": {
   "codemirror_mode": {
    "name": "ipython",
    "version": 3
   },
   "file_extension": ".py",
   "mimetype": "text/x-python",
   "name": "python",
   "nbconvert_exporter": "python",
   "pygments_lexer": "ipython3",
   "version": "3.11.9"
  }
 },
 "nbformat": 4,
 "nbformat_minor": 2
}
