{
 "cells": [
  {
   "cell_type": "markdown",
   "metadata": {},
   "source": [
    "# Getting started with EHRData"
   ]
  },
  {
   "cell_type": "markdown",
   "metadata": {},
   "source": [
    "![](../_static/tutorial_images/logo.svg)\n"
   ]
  },
  {
   "cell_type": "markdown",
   "metadata": {},
   "source": [
    "In this tutorial, we introduce basic properties of `EHRData`.\n",
    "\n",
    "`EHRData` is building upon and extending [AnnData](https://anndata.readthedocs.io/en/stable/), a powerful Python package for handling annotated data.\n",
    "`EHRData` is intended as the datastructure on which [ehrapy](https://ehrapy.readthedocs.io/en/stable/) operates on.\n",
    "\n",
    "We recommend readers to familiarize with the basics of `AnnData`, starting for example with the brief tutorial [Getting started with AnnData](https://anndata.readthedocs.io/en/stable/tutorials/notebooks/getting-started.html).\n",
    "\n",
    "`EHRData` is designed to represent and work with data of $n$ observations of $d$ variables of $t$ repeats.\n",
    "\n",
    "For instance, in a clinical study, each enrolled subject corresponds to an observation, each registered clinical parameter corresponds to a variable, and each visit corresponds to a repeat.\n",
    "Furthermore, we might have metadata for each of these axis. For example, for each subject, we might have additional static metadata, such as birthdata, or sex. For each registered clinical parameter, we might have metadata such as a concept identifier, a descriptive name, or the unit it was measured in. For the repeated measurements, we might have a descriptive name per measurement, or the number of weeks after study entry.\n",
    "\n",
    "We think that still today no other alternative exists that:\n",
    "\n",
    "* Handles structured data at this expressiveness and simplicity\n",
    "* Is user-friendly\n"
   ]
  },
  {
   "cell_type": "code",
   "execution_count": 93,
   "metadata": {},
   "outputs": [
    {
     "name": "stdout",
     "output_type": "stream",
     "text": [
      "The autoreload extension is already loaded. To reload it, use:\n",
      "  %reload_ext autoreload\n"
     ]
    }
   ],
   "source": [
    "%load_ext autoreload\n",
    "%autoreload 2"
   ]
  },
  {
   "cell_type": "code",
   "execution_count": 94,
   "metadata": {
    "jupyter": {
     "outputs_hidden": false
    }
   },
   "outputs": [],
   "source": [
    "import numpy as np\n",
    "import pandas as pd\n",
    "import ehrdata as ed"
   ]
  },
  {
   "cell_type": "markdown",
   "metadata": {},
   "source": [
    "## Initializing EHRData"
   ]
  },
  {
   "cell_type": "markdown",
   "metadata": {},
   "source": [
    "Let's start by building a basic EHRData object with some measurements, e.g. blood pressure of two individuals."
   ]
  },
  {
   "cell_type": "code",
   "execution_count": 95,
   "metadata": {},
   "outputs": [
    {
     "data": {
      "text/plain": [
       "EHRData object with n_obs × n_vars = 2 × 2\n",
       "    shape of .X: (2, 2)"
      ]
     },
     "execution_count": 95,
     "metadata": {},
     "output_type": "execute_result"
    }
   ],
   "source": [
    "patients = pd.DataFrame(\n",
    "    {\"patient_id\": [\"P001\", \"P002\"], \"birthdate\": [\"1980-01-01\", \"1975-05-15\"], \"gender\": [\"M\", \"F\"]}\n",
    ").set_index(\"patient_id\")\n",
    "\n",
    "clinical_parameters = pd.DataFrame(\n",
    "    {\n",
    "        \"parameter_id\": [\"BP_Systolic\", \"BP_Diastolic\"],\n",
    "        \"name\": [\"Systolic Blood Pressure\", \"Diastolic Blood Pressure\"],\n",
    "        \"unit\": [\"mmHg\", \"mmHg\"],\n",
    "    }\n",
    ").set_index(\"parameter_id\")\n",
    "\n",
    "measurements = np.array(\n",
    "    [[120, 121], [81, 81]],\n",
    ")\n",
    "\n",
    "edata = ed.EHRData(\n",
    "    X=measurements,\n",
    ")\n",
    "edata"
   ]
  },
  {
   "cell_type": "markdown",
   "metadata": {},
   "source": [
    "EHRData provides a classical flat 2D matrix field `edata.X`, suitable for classical tabular variable representation."
   ]
  },
  {
   "cell_type": "code",
   "execution_count": 96,
   "metadata": {},
   "outputs": [
    {
     "data": {
      "text/plain": [
       "array([[120, 121],\n",
       "       [ 81,  81]])"
      ]
     },
     "execution_count": 96,
     "metadata": {},
     "output_type": "execute_result"
    }
   ],
   "source": [
    "edata.X"
   ]
  },
  {
   "cell_type": "markdown",
   "metadata": {},
   "source": [
    "When we have measurements along a time course, we want to represent an axis of time (e.g. clinical visits, calendar time, ...) and repeats of measurements. In the example above, the measurements could e.g. be repeated three times."
   ]
  },
  {
   "cell_type": "code",
   "execution_count": 97,
   "metadata": {},
   "outputs": [
    {
     "data": {
      "text/plain": [
       "EHRData object with n_obs × n_vars = 2 × 2\n",
       "    shape of .X: (2, 2)\n",
       "    shape of .r: (2, 2, 3)"
      ]
     },
     "execution_count": 97,
     "metadata": {},
     "output_type": "execute_result"
    }
   ],
   "source": [
    "visit_dates = pd.DataFrame({\"visit_number\": [\"1\", \"2\", \"3\"], \"visit_id\": [\"V001\", \"V002\", \"V003\"]}).set_index(\n",
    "    \"visit_number\"\n",
    ")\n",
    "\n",
    "repeated_measurements = np.array(\n",
    "    [\n",
    "        [\n",
    "            [120, np.nan, 121],\n",
    "            [81, np.nan, 81],\n",
    "        ],\n",
    "        [\n",
    "            [130, 135, 125],\n",
    "            [84, 81, 80],\n",
    "        ],\n",
    "    ]\n",
    ")\n",
    "\n",
    "edata = ed.EHRData(\n",
    "    r=repeated_measurements,\n",
    ")\n",
    "edata"
   ]
  },
  {
   "cell_type": "markdown",
   "metadata": {},
   "source": [
    "EHRData provides a 3D array field `edata.r`, suitable for this kind of data."
   ]
  },
  {
   "cell_type": "code",
   "execution_count": 98,
   "metadata": {},
   "outputs": [
    {
     "data": {
      "text/plain": [
       "array([[[120.,  nan, 121.],\n",
       "        [ 81.,  nan,  81.]],\n",
       "\n",
       "       [[130., 135., 125.],\n",
       "        [ 84.,  81.,  80.]]])"
      ]
     },
     "execution_count": 98,
     "metadata": {},
     "output_type": "execute_result"
    }
   ],
   "source": [
    "edata.r"
   ]
  },
  {
   "cell_type": "markdown",
   "metadata": {},
   "source": [
    "Now, we group the data together with its metadata, using the `obs`, `var`, and `t` fields of EHRData.\n",
    "\n",
    "- the `obs` field stores static person-level metadata\n",
    "- the `var` field stores variable-level metadata\n",
    "- the `t` field stores time axis-level metadata"
   ]
  },
  {
   "cell_type": "code",
   "execution_count": 99,
   "metadata": {},
   "outputs": [
    {
     "data": {
      "text/plain": [
       "EHRData object with n_obs × n_vars = 2 × 2\n",
       "    obs: 'birthdate', 'gender'\n",
       "    var: 'name', 'unit'\n",
       "    shape of .X: (2, 2)\n",
       "    shape of .r: (2, 2, 3)"
      ]
     },
     "execution_count": 99,
     "metadata": {},
     "output_type": "execute_result"
    }
   ],
   "source": [
    "edata = ed.EHRData(\n",
    "    r=repeated_measurements,\n",
    "    obs=patients,\n",
    "    var=clinical_parameters,\n",
    "    t=visit_dates,\n",
    ")\n",
    "edata"
   ]
  },
  {
   "cell_type": "markdown",
   "metadata": {},
   "source": [
    "### Subsetting EHRData\n",
    "#### Subsetting with indices"
   ]
  },
  {
   "cell_type": "markdown",
   "metadata": {},
   "source": [
    "The index values can be used to subset the EHRData, which provides a view of the EHRData object. We can imagine this to be useful to subset the AnnData to particular patients, variables, or time intervals of interest. The rules for subsetting EHRData are quite similar to that of a Pandas DataFrame. You can use values in the `obs/var_names`, boolean masks, or cell index integers."
   ]
  },
  {
   "cell_type": "code",
   "execution_count": 100,
   "metadata": {},
   "outputs": [
    {
     "data": {
      "text/plain": [
       "View of EHRData object with n_obs × n_vars = 1 × 1\n",
       "    obs: 'birthdate', 'gender'\n",
       "    var: 'name', 'unit'\n",
       "    shape of .X: (1, 1)\n",
       "    shape of .r: (1, 1, 3)"
      ]
     },
     "execution_count": 100,
     "metadata": {},
     "output_type": "execute_result"
    }
   ],
   "source": [
    "edata[[\"P001\"], [\"BP_Systolic\"]]"
   ]
  },
  {
   "cell_type": "markdown",
   "metadata": {},
   "source": [
    "#### Subsetting using metadata"
   ]
  },
  {
   "cell_type": "markdown",
   "metadata": {},
   "source": [
    "We can also subset the EHRData using the metadata:"
   ]
  },
  {
   "cell_type": "code",
   "execution_count": 101,
   "metadata": {},
   "outputs": [
    {
     "data": {
      "text/plain": [
       "View of EHRData object with n_obs × n_vars = 1 × 2\n",
       "    obs: 'birthdate', 'gender'\n",
       "    var: 'name', 'unit'\n",
       "    shape of .X: (1, 2)\n",
       "    shape of .r: (1, 2, 3)"
      ]
     },
     "execution_count": 101,
     "metadata": {},
     "output_type": "execute_result"
    }
   ],
   "source": [
    "edata[edata.obs[\"gender\"] == \"F\"]"
   ]
  },
  {
   "cell_type": "markdown",
   "metadata": {},
   "source": [
    "## Observation/variable-level matrices"
   ]
  },
  {
   "cell_type": "markdown",
   "metadata": {},
   "source": [
    "We might also have metadata at either level that has many dimensions to it, such as a UMAP embedding of the data. For this type of metadata, EHRData has the `.obsm/.varm` attributes. We use keys to identify the different matrices we insert. The restriction of `.obsm/.varm` are that `.obsm` matrices must length equal to the number of observations as `.n_obs` and `.varm` matrices must length equal to `.n_vars`. They can each independently have different number of dimensions.\n",
    "\n",
    "Let's start with a randomly generated matrix that we can interpret as a UMAP embedding of the data we'd like to store, as well as some random gene-level metadata:"
   ]
  },
  {
   "cell_type": "code",
   "execution_count": 102,
   "metadata": {},
   "outputs": [
    {
     "data": {
      "text/plain": [
       "AxisArrays with keys: X_umap"
      ]
     },
     "execution_count": 102,
     "metadata": {},
     "output_type": "execute_result"
    }
   ],
   "source": [
    "edata.obsm[\"X_umap\"] = np.random.normal(0, 1, size=(edata.n_obs, 2))\n",
    "edata.varm[\"variable_stuff\"] = np.random.normal(0, 1, size=(edata.n_vars, 5))\n",
    "edata.obsm"
   ]
  },
  {
   "cell_type": "markdown",
   "metadata": {},
   "source": [
    "A few more notes about `.obsm/.varm`\n",
    "\n",
    "1. The \"array-like\" metadata can originate from a Pandas DataFrame, scipy sparse matrix, or numpy dense array.\n",
    "2. When using scanpy, their values (columns) are not easily plotted, where instead items from `.obs` are easily plotted on, e.g., UMAP plots."
   ]
  },
  {
   "cell_type": "markdown",
   "metadata": {},
   "source": [
    "## Unstructured metadata"
   ]
  },
  {
   "cell_type": "markdown",
   "metadata": {},
   "source": [
    "EHRData has `.uns`, which allows for any unstructured metadata. This can be anything, like a list or a dictionary with some general information that was useful in the analysis of our data."
   ]
  },
  {
   "cell_type": "code",
   "execution_count": 103,
   "metadata": {},
   "outputs": [
    {
     "data": {
      "text/plain": [
       "OrderedDict([('random', [1, 2, 3])])"
      ]
     },
     "execution_count": 103,
     "metadata": {},
     "output_type": "execute_result"
    }
   ],
   "source": [
    "edata.uns[\"random\"] = [1, 2, 3]\n",
    "edata.uns"
   ]
  },
  {
   "cell_type": "markdown",
   "metadata": {},
   "source": [
    "## Layers"
   ]
  },
  {
   "cell_type": "markdown",
   "metadata": {},
   "source": [
    "Finally, we may have different forms of our original core data, perhaps one that is normalized and one that is not. These can be stored in different layers in EHRData. For example, let's log transform the original data and store it in a layer:"
   ]
  },
  {
   "cell_type": "code",
   "execution_count": 104,
   "metadata": {},
   "outputs": [
    {
     "data": {
      "text/plain": [
       "EHRData object with n_obs × n_vars = 2 × 2\n",
       "    obs: 'birthdate', 'gender'\n",
       "    var: 'name', 'unit'\n",
       "    uns: 'random'\n",
       "    obsm: 'X_umap'\n",
       "    varm: 'variable_stuff'\n",
       "    layers: 'log_transformed'\n",
       "    shape of .X: (2, 2)\n",
       "    shape of .r: (2, 2, 3)"
      ]
     },
     "execution_count": 104,
     "metadata": {},
     "output_type": "execute_result"
    }
   ],
   "source": [
    "edata.layers[\"log_transformed\"] = np.log1p(edata.r)\n",
    "edata"
   ]
  },
  {
   "cell_type": "markdown",
   "metadata": {},
   "source": [
    "## Writing the results to disk"
   ]
  },
  {
   "cell_type": "markdown",
   "metadata": {},
   "source": [
    "`EHRData` comes with a persistent HDF5-based file format: `h5ad`. If string columns with small number of categories aren't yet categoricals, `EHRData` will auto-transform to categoricals."
   ]
  },
  {
   "cell_type": "code",
   "execution_count": 105,
   "metadata": {},
   "outputs": [],
   "source": [
    "edata.write(\"my_results.h5ad\", compression=\"gzip\")"
   ]
  },
  {
   "cell_type": "markdown",
   "metadata": {},
   "source": [
    "## Wrapping up the introduction"
   ]
  },
  {
   "cell_type": "markdown",
   "metadata": {},
   "source": [
    "EHRData is straightforward to use and faciliatates more reproducible analyses with it's key-based storage.\n",
    "\n",
    "Keep reading on the [AnnData tutorials](https://anndata.readthedocs.io/en/stable/tutorials/notebooks/getting-started.html) to better understand \"views\", on-disk backing, and other details."
   ]
  },
  {
   "cell_type": "markdown",
   "metadata": {},
   "source": [
    "<div class=\"alert alert-info\">\n",
    "\n",
    "**Note**\n",
    "\n",
    "Similar to numpy arrays, EHRData objects can either hold actual data or reference another `EHRData` object. In the later case, they are referred to as \"view\".\n",
    "\n",
    "Subsetting EHRData objects always returns views, which has two advantages:\n",
    "\n",
    "- no new memory is allocated\n",
    "- it is possible to modify the underlying EHRData object\n",
    "\n",
    "You can get an actual EHRData object from a view by calling `.copy()` on the view. Usually, this is not necessary, as any modification of elements of a view (calling `.[]` on an attribute of the view) internally calls `.copy()` and makes the view an EHRData object that holds actual data. See the example below.\n",
    "    \n",
    "</div>"
   ]
  },
  {
   "cell_type": "markdown",
   "metadata": {},
   "source": [
    "Get access to the first 5 rows for two variables."
   ]
  },
  {
   "cell_type": "markdown",
   "metadata": {},
   "source": [
    "<div class=\"alert alert-info\">\n",
    "\n",
    "**Note**\n",
    "\n",
    "Indexing into AnnData will assume that integer arguments to `[]` behave like `.iloc` in pandas, whereas string arguments behave like `.loc`. `AnnData` always assumes string indices.\n",
    "    \n",
    "</div> "
   ]
  },
  {
   "cell_type": "code",
   "execution_count": 65,
   "metadata": {
    "jupyter": {
     "outputs_hidden": false
    }
   },
   "outputs": [
    {
     "data": {
      "text/plain": [
       "View of EHRData object with n_obs × n_vars = 1 × 1\n",
       "    obs: 'birthdate', 'gender'\n",
       "    var: 'name', 'unit'\n",
       "    uns: 'random'\n",
       "    obsm: 'X_umap'\n",
       "    varm: 'gene_stuff', 'variable_stuff'\n",
       "    shape of .X: (1, 1)\n",
       "    shape of .r: (1, 1, 3)"
      ]
     },
     "execution_count": 65,
     "metadata": {},
     "output_type": "execute_result"
    }
   ],
   "source": [
    "edata[[\"P001\"], [\"BP_Systolic\"]]"
   ]
  },
  {
   "cell_type": "markdown",
   "metadata": {},
   "source": [
    "This is a view! If we want an `EHRData` that holds the data in memory, let's call `.copy()`"
   ]
  },
  {
   "cell_type": "code",
   "execution_count": 66,
   "metadata": {},
   "outputs": [],
   "source": [
    "edata_subset = edata[[\"P001\"], [\"BP_Systolic\"]].copy()"
   ]
  },
  {
   "cell_type": "markdown",
   "metadata": {},
   "source": [
    "If you try to write to parts of a view of an AnnData, the content will be auto-copied and a data-storing object will be generated."
   ]
  },
  {
   "cell_type": "code",
   "execution_count": 67,
   "metadata": {},
   "outputs": [
    {
     "data": {
      "text/plain": [
       "View of EHRData object with n_obs × n_vars = 1 × 1\n",
       "    obs: 'birthdate', 'gender'\n",
       "    var: 'name', 'unit'\n",
       "    uns: 'random'\n",
       "    obsm: 'X_umap'\n",
       "    varm: 'gene_stuff', 'variable_stuff'\n",
       "    shape of .X: (1, 1)\n",
       "    shape of .r: (1, 1, 3)"
      ]
     },
     "execution_count": 67,
     "metadata": {},
     "output_type": "execute_result"
    }
   ],
   "source": [
    "edata_subset = edata[[\"P001\"], [\"BP_Systolic\"]]\n",
    "edata_subset"
   ]
  },
  {
   "cell_type": "code",
   "execution_count": 68,
   "metadata": {},
   "outputs": [
    {
     "name": "stderr",
     "output_type": "stream",
     "text": [
      "/var/folders/yy/60ln_681745_fjjwvgwm_nyc0000gn/T/ipykernel_71632/1456709199.py:1: ImplicitModificationWarning: Trying to modify attribute `.obs` of view, initializing view as actual.\n",
      "  edata_subset.obs['foo'] = \"bar\"\n"
     ]
    }
   ],
   "source": [
    "edata_subset.obs[\"foo\"] = \"bar\""
   ]
  },
  {
   "cell_type": "markdown",
   "metadata": {},
   "source": [
    "Now `edata_subset` stores the actual data and is no longer just a reference to `edata`."
   ]
  },
  {
   "cell_type": "code",
   "execution_count": 71,
   "metadata": {
    "jupyter": {
     "outputs_hidden": false
    }
   },
   "outputs": [
    {
     "name": "stderr",
     "output_type": "stream",
     "text": [
      "[autoreload of ehrdata.core.ehrdata failed: Traceback (most recent call last):\n",
      "  File \"/Users/eljas.roellin/Documents/ehrapy_workspace/ehrapy_ehrdata_venv_feb/lib/python3.11/site-packages/IPython/extensions/autoreload.py\", line 276, in check\n",
      "    superreload(m, reload, self.old_objects)\n",
      "  File \"/Users/eljas.roellin/Documents/ehrapy_workspace/ehrapy_ehrdata_venv_feb/lib/python3.11/site-packages/IPython/extensions/autoreload.py\", line 500, in superreload\n",
      "    update_generic(old_obj, new_obj)\n",
      "  File \"/Users/eljas.roellin/Documents/ehrapy_workspace/ehrapy_ehrdata_venv_feb/lib/python3.11/site-packages/IPython/extensions/autoreload.py\", line 397, in update_generic\n",
      "    update(a, b)\n",
      "  File \"/Users/eljas.roellin/Documents/ehrapy_workspace/ehrapy_ehrdata_venv_feb/lib/python3.11/site-packages/IPython/extensions/autoreload.py\", line 349, in update_class\n",
      "    if update_generic(old_obj, new_obj):\n",
      "       ^^^^^^^^^^^^^^^^^^^^^^^^^^^^^^^^\n",
      "  File \"/Users/eljas.roellin/Documents/ehrapy_workspace/ehrapy_ehrdata_venv_feb/lib/python3.11/site-packages/IPython/extensions/autoreload.py\", line 397, in update_generic\n",
      "    update(a, b)\n",
      "  File \"/Users/eljas.roellin/Documents/ehrapy_workspace/ehrapy_ehrdata_venv_feb/lib/python3.11/site-packages/IPython/extensions/autoreload.py\", line 309, in update_function\n",
      "    setattr(old, name, getattr(new, name))\n",
      "ValueError: __repr__() requires a code object with 0 free vars, not 1\n",
      "]\n"
     ]
    },
    {
     "data": {
      "text/plain": [
       "EHRData object with n_obs × n_vars = 1 × 1\n",
       "    obs: 'birthdate', 'gender', 'foo'\n",
       "    var: 'name', 'unit'\n",
       "    uns: 'random'\n",
       "    obsm: 'X_umap'\n",
       "    varm: 'gene_stuff', 'variable_stuff'\n",
       "    shape of .X: (1, 1)\n",
       "    shape of .r: (1, 1, 3)"
      ]
     },
     "execution_count": 71,
     "metadata": {},
     "output_type": "execute_result"
    }
   ],
   "source": [
    "edata_subset"
   ]
  }
 ],
 "metadata": {
  "anaconda-cloud": {},
  "kernelspec": {
   "display_name": "ehrapy_ehrdata_venv_feb",
   "language": "python",
   "name": "python3"
  },
  "language_info": {
   "codemirror_mode": {
    "name": "ipython",
    "version": 3
   },
   "file_extension": ".py",
   "mimetype": "text/x-python",
   "name": "python",
   "nbconvert_exporter": "python",
   "pygments_lexer": "ipython3",
   "version": "3.11.9"
  }
 },
 "nbformat": 4,
 "nbformat_minor": 4
}
